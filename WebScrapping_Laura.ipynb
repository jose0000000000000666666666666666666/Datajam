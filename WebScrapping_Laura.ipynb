{
 "cells": [
  {
   "cell_type": "markdown",
   "metadata": {},
   "source": [
    "# Tarea 3\n",
    "* self.coordinates = None          => BUSCAR COMO EXTRAER LAS COORDENADAS! (MAPA) \n",
    "* self.organizations=organizations => ORG. \n",
    "* self.dates=dates                 => Spacy pueda reconocer dates?? BUSCAR URGENTE. "
   ]
  },
  {
   "cell_type": "markdown",
   "metadata": {},
   "source": [
    "#### Importar librerias y definicion de la pagina a hacer webscrapping"
   ]
  },
  {
   "cell_type": "code",
   "execution_count": 135,
   "metadata": {},
   "outputs": [],
   "source": [
    "# Connection libraries.\n",
    "import urllib.request, urllib.parse, urllib.error\n",
    "import requests\n",
    "from bs4 import BeautifulSoup\n",
    "from langdetect import detect\n",
    "\n",
    "# Numerical libraries.\n",
    "import pandas as pd\n",
    "import numpy as np\n",
    "\n",
    "# Spacy models.\n",
    "import spacy\n",
    "import es_core_news_sm\n",
    "import en_core_web_sm\n",
    "\n",
    "import re"
   ]
  },
  {
   "cell_type": "code",
   "execution_count": 174,
   "metadata": {},
   "outputs": [],
   "source": [
    "r = requests.get(\"https://www.elempleo.com/co/ofertas-empleo/bogota\")\n",
    "data = r.text\n",
    "soup = BeautifulSoup(data, \"html.parser\")"
   ]
  },
  {
   "cell_type": "code",
   "execution_count": 175,
   "metadata": {},
   "outputs": [],
   "source": [
    "def extractScripts(soup):\n",
    "    for s in soup.select('script'):\n",
    "        s.extract()\n",
    "\n",
    "    for s in soup.select('style'):\n",
    "        s.extract()\n",
    "    \n",
    "    return soup\n",
    "#text = eliminar_simbolos(soup.text, eliminar_simbolos)\n"
   ]
  },
  {
   "cell_type": "code",
   "execution_count": 176,
   "metadata": {},
   "outputs": [],
   "source": [
    "soup = extractScripts(soup)\n",
    "text = soup.get_text()\n"
   ]
  },
  {
   "cell_type": "code",
   "execution_count": 177,
   "metadata": {},
   "outputs": [
    {
     "data": {
      "text/plain": [
       "\"Ofertas de Empleo en Bogotá Septiembre 2020 - elempleo.com          Para crear la alerta debes aceptar los términos y condiciones y el aviso de privacidad.                    Criterios de búsqueda                        Frecuencia diaria                             Acepto los Términos y condiciones y el aviso de privacidad del sitio.              Crear alerta                         ¿Aún no estás registrado?                      Inscríbete en elempleo.com y aplica a miles de ofertas de las mejores empresas:                      Registrar hoja de vida          Por favor, actualiza tu navegador para tener una mejor experiencia, prueba con  Chrome, Internet explorer.xAprovecha nuestra app                miles de ofertas laborales.                              ABRIR                                  Caja buscador                                    Últimas búsquedas:                                        Inicia sesión                      Toggle navigationToggle search    Iniciar sesión              Inicio                          Elempleo VIP                              Mi asesoría                          Empresas                        Calculadora salarial                          Calculadora                        Noticias                            Home noticias                              Consejos profesionales                              Mundo empresarial                              Investigación laboral                              Tendencias laborales                              Otras noticias                          Contáctanos                        Registrar hoja de vida                          Registrarte                            Inicio                              Empleos                            Bogotá                      ×                  ×                  Filtros de búsqueda                    Salario (en millones de pesos)                        Todos los salarios                            Menos de $1                              $1 a $1,5                              $1,5 a $2                              $2 a $2,5                              $2,5 a $3                              $3 a $3,5                              $3,5 a $4                              $4 a $4,5                              $4,5 a $5,5                              $5,5 a $6                              $6 a $8                              $8 a $10                              $10 a $12,5                              $12,5 a $15                              $15 a $18                              $18 a $21                              Más de $21                              A convenir                          Ciudad                      Fecha de publicación                          Hoy y ayer                              Hace 1 semana                              Hace 2 semanas                              Hace 1 mes                              Hace más de 1 mes                          Área de trabajo                        Todos las áreas                            Todas las áreas                              Administración: servicios generales                              Administrativa y Financiera                              Agronomía: naturaleza                              Archivo y Documentación                              Auditoría, Contraloría e Interventoría                              Calidad (aseguramiento, gestión y afines)                              Comercial, Ventas y Telemercadeo                              Comercio Exterior                              Compras e Inventarios                              Construcción y Obra                              Consultoria                              Consumo masivo                              Contabilidad: cartera y costos                              Costos y presupuestos                              Diseño y publicidad                              Distribución o logística de Transporte                              Docencia                              Facturación                              Financiera: crédito y tesorería                              Gerencia General (cargos corporativos)                              Instalación y Reparaciones Técnicas                              Interventoría                              Investigación                              Jurídica                              Logística y Distribución                              Mantenimiento                              Materiales: compras e inventario                              Mercadeo                              Mercadeo y Publicidad                              Obra                              Operaciones y Procesos                              Organización y métodos                              Producción                              Proyectos (análisis, desarrollo,  gestión y afines)                              Recepción                              Recursos Humanos y Admón. de Personal                              Redacción y Generación de Contenido                              Salud                              Secretariado                              Seguridad Industrial, Ambiental y Ocupacional                              Servicio al Cliente                              Servicios Generales, Aseo y Vigilancia                              Sin Definir                              Sistemas                              Sistemas y Tecnología                              Telemercadeo                              Ventas                        Empleo en Bogotá          a  de  ofertas             a  de  oferta                        Filtrar                        Ordenar por                                Mayor a menor                                      Menor a mayor                                      Más reciente                                      Más antigua                                Profesional i analisis de riesgo credito pyme                        COP                        industry                            Davivienda                          Salario a convenir                          Bogotá                              country                          Publicado 1 Sep 2020                  Vista rápida                    Analista gestión fiduciaria t.f., davivienda fiduciaria,  bogotá d.c.                        COP                        industry                            Davivienda                          $2 a $2,5 millones                          Bogotá                              country                          Publicado 1 Sep 2020                  Vista rápida                    Auditor                        COP                        industry                            Empresa confidencial                          Salario a convenir                          Bogotá                              country                          Publicado 1 Sep 2020                  Vista rápida                    Analista gestion fiduciaria rol preventas,  davivienda fiduciaria, bogotá d.c.                        COP                        industry                            Davivienda                          $1,5 a $2 millones                          Bogotá                              country                          Publicado 1 Sep 2020                  Vista rápida                    Analista sst                        COP                        industry                            Empresa confidencial                          Salario a convenir                          Bogotá                              country                          Publicado 1 Sep 2020                  Vista rápida                    Auxiliar contable                        COP                        industry                            Empresa confidencial                          Salario a convenir                          Bogotá                              country                          Publicado 1 Sep 2020                  Vista rápida                    Practicante psicología- no graduados (bogotá)                        COP                        industry                            Empresa confidencial                          Menos de $1 millón                          Bogotá                              country                          Publicado 1 Sep 2020                  Vista rápida                    Minero de datos                        COP                        industry                            Empresa confidencial                          Salario a convenir                          Bogotá                              country                          Publicado 1 Sep 2020                  Vista rápida                    Director comercial                        COP                        industry                            Empresa confidencial                          $5,5 a $6 millones                          Bogotá                              country                          Publicado 1 Sep 2020                  Vista rápida                    Profesional como consultor(a) sap basis senior                        COP                        industry                            Empresa confidencial                          Salario a convenir                          Bogotá                              country                          Publicado 1 Sep 2020                  Vista rápida                    Médico general                        COP                        industry                            Empresa confidencial                          Salario a convenir                          Bogotá                              country                          Publicado 1 Sep 2020                  Vista rápida                    30 asesores servicio al cliente, pqr´s,  backoffice proceso de seleccion inmediato bogota                        COP                        industry                            Empresa confidencial                          $1 a $1,5 millones                          Bogotá                              country                          Publicado 1 Sep 2020                  Vista rápida                    Ingeniero bi, datastage                        COP                        industry                            Empresa confidencial                          Salario a convenir                          Bogotá                              country                          Publicado 1 Sep 2020                  Vista rápida                    Jefe de cartera                        COP                        industry                            Educonnecting                          $2,5 a $3 millones                          Bogotá                              country                          Publicado 1 Sep 2020                  Vista rápida                    Atencion a cliente                        COP                        industry                            GRANSERVICIOS S.A.S.                          $1,5 a $2 millones                          Bogotá                              country                          Publicado 1 Sep 2020                  Vista rápida                    Inspector en seguridad y salud en el trabajo                        COP                        industry                            GRUPO AR S.A.                          $1,5 a $2 millones                          Bogotá                              country                          Publicado 1 Sep 2020                  Vista rápida                    Desarrollador .net                        COP                        industry                            Empresa confidencial                          Salario a convenir                          Bogotá                              country                          Publicado 1 Sep 2020                  Vista rápida                    Coordinador de planeacion                        COP                        industry                            Empresa confidencial                          $3 a $3,5 millones                          Bogotá                              country                          Publicado 1 Sep 2020                  Vista rápida                    Asistente de logística bilingüe                        COP                        industry                            Empresa confidencial                          $2 a $2,5 millones                          Bogotá                              country                          Publicado 1 Sep 2020                  Vista rápida                    Analista comercio exterior bilingüe                        COP                        industry                            Empresa confidencial                          $2 a $2,5 millones                          Bogotá                              country                          Publicado 1 Sep 2020                  Vista rápida      Salario (en millones de pesos)            Menos de $1                        955                        $1 a $1,5                        1622                        $1,5 a $2                        975                        $2 a $2,5                        762                        $2,5 a $3                        519                        $3 a $3,5                        390                        $3,5 a $4                        305                        $4 a $4,5                        285                        $4,5 a $5,5                        313                        $5,5 a $6                        197                        $6 a $8                        211                        $8 a $10                        52                        $10 a $12,5                        80                        $12,5 a $15                        23                        $15 a $18                        8                        $18 a $21                        10                        Más de $21                        5                        A convenir                        2548            CiudadFecha de publicación            Hoy y ayer                      Hace 1 semana                      Hace 2 semanas                      Hace 1 mes                      Hace más de 1 mes          Área de trabajo          Todas las áreas                  Administración: servicios generales                  Administrativa y Financiera                  Agronomía: naturaleza                  Archivo y Documentación                  Auditoría, Contraloría e Interventoría                  Calidad (aseguramiento, gestión y afines)                  Comercial, Ventas y Telemercadeo                  Comercio Exterior                  Compras e Inventarios                  Construcción y Obra                  Consultoria                  Consumo masivo                  Contabilidad: cartera y costos                  Costos y presupuestos                  Diseño y publicidad                  Distribución o logística de Transporte                  Docencia                  Facturación                  Financiera: crédito y tesorería                  Gerencia General (cargos corporativos)                  Instalación y Reparaciones Técnicas                  Interventoría                  Investigación                  Jurídica                  Logística y Distribución                  Mantenimiento                  Materiales: compras e inventario                  Mercadeo                  Mercadeo y Publicidad                  Obra                  Operaciones y Procesos                  Organización y métodos                  Producción                  Proyectos (análisis, desarrollo,  gestión y afines)                  Recepción                  Recursos Humanos y Admón. de Personal                  Redacción y Generación de Contenido                  Salud                  Secretariado                  Seguridad Industrial, Ambiental y Ocupacional                  Servicio al Cliente                  Servicios Generales, Aseo y Vigilancia                  Sin Definir                  Sistemas                  Sistemas y Tecnología                  Telemercadeo                  Ventas                    Crear alerta de empleo                Recibe ofertas en tu correo relacionadas con esta búsqueda.     E-mail                Crear                 Oferta de empleo en Bogotá. El mejor empleo de septiembre 2020 en Colombia esta con nosotros, encuentra miles de ofertas laborales para ti.Búsquedas rápidas de nuestro portal web                  Ofertas de trabajo                                  Trabajo sin experiencia                                  Trabajo en Bogotá y alrededores                                  Trabajo en Bucaramanga                                  Trabajo en Villavicencio                                  Trabajo en Cartagena                                  Trabajo en Neiva                                  Trabajo en Santa Marta                                  Trabajo en Pasto                                  Trabajo en Tunja                                  Trabajo para operario                                  Trabajo para recepcionista                                  Trabajo para escolta                                  Trabajo en call center                                  Trabajo para universitarios                                  Trabajo para guardia de seguridad                                  Trabajo para analista administrativo                                  Trabajo para asesor comercial                                  Trabajo en auditoría contable                                  Trabajo para enfermera                  0                        Av. Calle 26 # 68B-70 Bogotá - Colombia                                            Línea nacional gratuita                        01 8000 123456                        info@elempleo.com                                                Colombia                                                                Colombia                                                                            Costa Rica                                    Portal Personas                        Elempleo VIP                                            Empresas registradas                                            Calculadora salarial                                            Prueba conductual                                            Buscar ofertas                                            Configuración                    Portal Empresas                        Registrar Empresa                                            Productos y Servicios                                            Publicar Ofertas                                            Calculadora salarial                    Noticias                        Noticias de empleo                                            Consejos profesionales                                            Mundo empresarial                                            Investigación laboral                                            Tendencias laborales                                            Otras noticias                    Accesos rápidos                        Inicio                                            Portal bases universitarias                                            Pauta con nosotros                                            Aviso de privacidad                                            Protección de datos                                            Términos y condiciones                                            Línea ética                                            Reversiones de pago                                            Ayuda                                        Nuestros portales especializados:                          COPYRIGHT © 2020 Leadearsearch S.A.S Prohibida su reproducción total o parcial, así como su traducción a cualquier idioma sin autorización escrita de su titular. elempleo.com es un producto de Leadearsearch S.A.S. Nit. 8300651578.                  COPYRIGHT © 2020 Leadearsearch S.A.S Prohibida su reproducción total o parcial, así como su traducción a cualquier idioma sin autorización escrita de su titular. elempleo.com es un producto de Leadearsearch S.A.S. Nit. 8300651578.                    Términos y condiciones                      Aviso de privacidad                      Protección de datos                    Conoce nuestra red de portales          Manualidades para niños             - abcdelbebe.com          Videos             - citytv.com.co          Carros usados en Colombia             - carroya.com.co          Noticias regionales             - diarioadn.co          Seleccionar candidatos             - e-hunters.com          Ofertas de empleo en Colombia             - elempleo.com          Noticias de Colombia             - eltiempo.com          Formación profesional             - noticias.elempleo.com          Liga Águila             - futbolred.com          Venta de casas usadas             - metrocuadrado.com          Autos deportivos             - motor.com.co          Noticias económicas             - portafolio.co          Fotos modelos             - revistadonjuan.com          Planes             - vive.in          Estilo de vida             - alomujeres.com          Publicidad Online             - audienciadigital.co          Carreras Profesionales             - guiaacademica.com          Black Friday Colombia             - loencontraste.com          Negocios y Franquicias             - tratocontrato.com                        Vinculado a la red de prestadores del Servicio Público de Empleo. Autorizado por la Unidad Administrativa Especial del Servicio Público de Empleo, según resolución No. 000191 de 2004. Ver reglamento de autorización.                Cookies y privacidad            Utilizamos 'cookies' propias y de terceros para gestionar el portal, elaborar información estadística, optimizar la funcionalidad del sitio y mostrar publicidad relacionada con sus preferencias a través del análisis de la navegación.  Más información aquí >> Acepto \""
      ]
     },
     "execution_count": 177,
     "metadata": {},
     "output_type": "execute_result"
    }
   ],
   "source": [
    "text=text.replace(\"\\n\",\"\")\n",
    "text=text.replace(\"\\r\",\"\")\n",
    "\n",
    "text"
   ]
  },
  {
   "cell_type": "markdown",
   "metadata": {},
   "source": [
    "### ORGANIZATIONS"
   ]
  },
  {
   "cell_type": "code",
   "execution_count": 180,
   "metadata": {},
   "outputs": [],
   "source": [
    "nlp = spacy.load(\"es_core_news_sm\")\n",
    "# Use of entities labels from spacy to find organizations\n",
    "def find_organizations(text):\n",
    "    doc = nlp(text)\n",
    "    list=[]\n",
    "    for ent in doc.ents:\n",
    "        if ent.label_==\"ORG\":\n",
    "            print(ent.text, ent.label_)\n",
    "            list.append(ent)\n",
    "            \n",
    "    return list"
   ]
  },
  {
   "cell_type": "code",
   "execution_count": 181,
   "metadata": {},
   "outputs": [
    {
     "name": "stdout",
     "output_type": "stream",
     "text": [
      "Contraloría ORG\n",
      "GRUPO AR S.A. ORG\n",
      "Contraloría ORG\n",
      "Servicio Público de Empleo ORG\n",
      "Autorizado ORG\n",
      "Unidad Administrativa Especial del Servicio Público de Empleo ORG\n"
     ]
    },
    {
     "data": {
      "text/plain": [
       "[Contraloría,\n",
       " GRUPO AR S.A.,\n",
       " Contraloría,\n",
       " Servicio Público de Empleo,\n",
       " Autorizado,\n",
       " Unidad Administrativa Especial del Servicio Público de Empleo]"
      ]
     },
     "execution_count": 181,
     "metadata": {},
     "output_type": "execute_result"
    }
   ],
   "source": [
    "find_organizations(text)"
   ]
  },
  {
   "cell_type": "markdown",
   "metadata": {},
   "source": [
    "### LOCATIONS"
   ]
  },
  {
   "cell_type": "code",
   "execution_count": 182,
   "metadata": {},
   "outputs": [],
   "source": [
    "# Use of entities labels from spacy to find locations\n",
    "def find_locations(text):\n",
    "    localidades=[\"Usaquén\",\"Chapinero\",\"Santa Fe\",\"San Cristóbal\",\"Usme\",\"Tunjuelito\",\"Bosa\",\"Kennedy\",\"Fontibón\",\"Engativá\",\n",
    "                 \"Suba\",\"Barrios Unidos\",\"Teusaquillo\",\"Los Mártires\",\"Antonio Nariño\",\"Puente Aranda\",\"La Candelaria\",\n",
    "                 \"Rafael Uribe Uribe\",\"Ciudad Bolívar\",\"Sumapaz\"]\n",
    "    cardinales=[\"Norte\",\"Sur\",\"Este\",\"Oeste\",\"Occidente\",\"Oriente\"]\n",
    "    direccion=[\"Calle\",\"Avenida\", \"Carrera\",\"Diagonal\"]\n",
    "    doc = nlp(text)\n",
    "    list=[]\n",
    "    for ent in doc.ents:\n",
    "        if ent.label_==\"LOC\":\n",
    "            print(ent.text, ent.label_)\n",
    "            list.append(ent)\n",
    "    for l in localidades:\n",
    "        if(len(re.findall(\"(\"+l+\")\", text))>0):\n",
    "            lista.append(re.findall(\"(\"+l+\")\", text), text)\n",
    "    for c in cardinales:\n",
    "        if(len(re.findall(\"(\"+c+\")\", text))>0):\n",
    "            lista.append(re.findall(\"(\"+c+\")\", text), text))\n",
    "    for d in direccion:\n",
    "        if(len(re.findall(\"(\"+d+\"[0-9]{2}\\s)\", text))>0):\n",
    "            lista.append(re.findall(\"(\"+d+\"[0-9]{2}\\s)\", text), text)) \n",
    "    return list"
   ]
  },
  {
   "cell_type": "code",
   "execution_count": 183,
   "metadata": {},
   "outputs": [
    {
     "name": "stdout",
     "output_type": "stream",
     "text": [
      "Bogotá LOC\n",
      "Administración LOC\n",
      "Interventoría                              Calidad LOC\n",
      "Admón LOC\n",
      "Ambiental LOC\n",
      "Ocupacional                              Servicio LOC\n",
      "Tecnología                              Telemercadeo                              Ventas                        Empleo LOC\n",
      "Bogotá LOC\n",
      "Admón LOC\n",
      "Ambiental LOC\n",
      "Ocupacional                  Servicio LOC\n",
      "Generales LOC\n",
      "Bogotá LOC\n",
      "Bogotá LOC\n",
      "Bogotá LOC\n",
      "Colombia LOC\n",
      "Línea LOC\n",
      "Colombia LOC\n",
      "Costa Rica                                    Portal Personas                        Elempleo VIP LOC\n",
      "Pauta LOC\n",
      "Colombia LOC\n",
      "Acepto LOC\n"
     ]
    },
    {
     "data": {
      "text/plain": [
       "[Bogotá,\n",
       " Administración,\n",
       " Interventoría                              Calidad,\n",
       " Admón,\n",
       " Ambiental,\n",
       " Ocupacional                              Servicio,\n",
       " Tecnología                              Telemercadeo                              Ventas                        Empleo,\n",
       " Bogotá,\n",
       " Admón,\n",
       " Ambiental,\n",
       " Ocupacional                  Servicio,\n",
       " Generales,\n",
       " Bogotá,\n",
       " Bogotá,\n",
       " Bogotá,\n",
       " Colombia,\n",
       " Línea,\n",
       " Colombia,\n",
       " Costa Rica                                    Portal Personas                        Elempleo VIP,\n",
       " Pauta,\n",
       " Colombia,\n",
       " Acepto]"
      ]
     },
     "execution_count": 183,
     "metadata": {},
     "output_type": "execute_result"
    }
   ],
   "source": [
    "find_locations(text)"
   ]
  },
  {
   "cell_type": "markdown",
   "metadata": {},
   "source": [
    "#### WEBSCRAPING MAPS"
   ]
  },
  {
   "cell_type": "code",
   "execution_count": 213,
   "metadata": {},
   "outputs": [],
   "source": [
    "r = requests.get(\"https://bogota.locanto.com.co/ID_4521098185/VEN-ALONE-SPA-CALLE-140-16-46.html\")\n",
    "data = r.text\n",
    "soup = BeautifulSoup(data, \"html.parser\")"
   ]
  },
  {
   "cell_type": "code",
   "execution_count": 214,
   "metadata": {},
   "outputs": [],
   "source": [
    "soup = extractScripts(soup)\n",
    "text = soup.get_text()"
   ]
  },
  {
   "cell_type": "code",
   "execution_count": 215,
   "metadata": {},
   "outputs": [
    {
     "data": {
      "text/plain": [
       "'   VEN ALONE SPA CALLE 140-16-46, Bogota,  1 sep –  1 oct (mar)                  Ver Locanto en versión: Versión móvil • Versión de escritorio       VEN ALONE SPA CALLE 140-16-46, Bogota             0  |      Publicar un anuncio  Ayuda/FAQ  |  |    Mi Locanto     Mi Locanto   Mis anuncios   Mensajes   Compras     |         Argentina   Bolivia   Chile   Costa Rica   Ecuador   El Salvador   España   Estados Unidos   Guatemala   México   Panamá   Paraguay   Perú   Puerto Rico   República Dominicana   Uruguay   Venezuela   mostrar todos                                              +\\u2007\\u20070 km   +\\u2007\\u20075 km   +\\u200710 km   +\\u200715 km   +\\u200730 km   +\\u200750 km   +150 km    \\xa0Buscar                            Anuncios clasificados gratis Bogotá        Servicios personales Bogotá         Escorts Bogotá                                 Anuncio anterior   Siguiente anuncio                 1 sep – 1 oct (mar) – VEN ALONE SPA CALLE 140-16-46   Anuncio n°: 4521098185                   Ubicación:  4.598 -74.0761 Bogota, Colombia        Publicado hoy     QUIERES MASAJES RELAJANTES EN ALONE SPA TENEMOS PARA TI LOS MEJORES MASAJES RELAJANTES, VEN A DISFRUTAR DE LAS MEJORES NIÑAS TENEMOS VARIEDAD DE MASAJES VEN A VISITARNOS EN. CALLE: 140-16-46, BARRIO CEDRITOS . TELÉFONOS: 3213112045-3652481 -3176084304   Contactar anunciante    Compartir anuncio                             Anuncio anterior Siguiente anuncio       Estos anuncios en Locanto también pueden interesarte:        MASAJES RELAJANTES DESDE 80.000 MIL PESOS VEN ALONE SPA.  SI DESEAS LAS MEJORES TERAPIAS DE RELAJACI N EN ALONE SPA VEN Y DISFRUTA DE LO MEJOR NO TE PIERDAS DE LAS TERAPIAS QUE TE OFRECEMOS ESTAMOS EN LA CALLE: 140-16-46, BARRIO …          Cónoceme en Locanto #Dating   Miles de personas increíbles ya se han unido y esperan encontrar a alguien como tú. ¡Únete hoy y prepárate para chatear y divertirte!          Soy cariñosa amable busco amistad  Busco contactos para relaciones sexuales            4521098185    Denunciar  Anunciante         alonespa  Mostrar el estado en línea          Número de teléfono  Clica aquí para verlo         Usuario desde hace más de un año     Seguir     Ignorar     Contactar a alonespa           Tu dirección de email  (no será mostrada al destinatario)      Enviar        Consejos de seguridad   Si una oferta parece demasiado buena para ser verdad, desconfía. Ten cuidado con los enlaces a sitios web externos que requieran registro. Ten cuidado si te encuentres con alguien por primera vez.  No des precipitadamente tus datos personales. Protege tus datos personales e inicia la comunicación a través del formulario de contacto. Cuantas más preguntas hagas, más información obtendrás. Cuidado con los vendedores que no quieran usar el centro de mensajes o eviten un encuentro personal. Evita comunicarte vía email; usa el centro de mensajes de Locanto. Reporta anuncios o mensajes sospechosos. Confía en tus instintos. No te encuentres con alguien si desconfías.   1/10    ¿Quieres publicar un anuncio similar?    Publicar un anuncio    Popular    ● Sexo Bogotá   ● Escort Bogotá   ● Por dinero Bogotá   ● Mamada Bogotá   ● Pagar placer Bogotá                  Contactar anunciante     ¡Comparte esta foto!                   Denunciar imagen                 \\xa0\\xa0 Denunciar imagen        Imagen inapropiada Contiene desnudos o pornografía   Imagen prohibida Viola las Condiciones de Servicio de Locanto   Infracción de copyright Infringe mis derechos de autor        Si la imagen viola tus derechos de autor, por favor comunícate con nosotros. Nos encargamos de tu solicitud tan pronto como sea posible     Anterior  Enviar                                Información  Sobre nosotros   Condiciones de Servicio   Política de privacidad   Ayuda/FAQ    Opciones   ¡Aumenta el éxito de tus anuncios!    Cuenta Premium   Páginas web   Versión móvil   Afiliados   Publicidad en Locanto    Servicios  Consejos de seguridad    Newsletter    Hacer Locanto más famoso    Síguenos                 Copyright © 2006-2020 Locanto™  \\xa0\\xa0sun4              Accede a esta función contratando una cuenta “Premium”             Estado en línea del usuario  Ponte en contacto con los usuarios que ahora están en línea y obtén una respuesta más rápida.       Notificaciones instantáneas  Te notificaremos al instante, tan pronto como haya novedades para tus búsquedas guardadas.       Navega sin publicidad  Navega por Locanto sin publicidad.       SneakPic™  Con SneakPic™ puedes enviar imágenes temporales.       Ver a tusseguidores  Ve el perfil de tus seguidores y averigua quién está interesado en tu oferta.       Etiqueta “Premium”  Con la etiqueta “Premium” tus anuncios destacan en los resultados de búsqueda.       Responde a las evaluaciones  Comenta tus evaluaciones y, si lo deseas, elimina una evaluación por mes.     Más información             Accede a esta función contratando una cuenta “Premium”             Etiqueta “Premium”  Con la etiqueta “Premium” tus anuncios destacan en los resultados de búsqueda.       Notificaciones instantáneas  Te notificaremos al instante, tan pronto como haya novedades para tus búsquedas guardadas.       Navega sin publicidad  Navega por Locanto sin publicidad.       SneakPic™  Con SneakPic™ puedes enviar imágenes temporales.       Estado en línea del usuario  Ponte en contacto con los usuarios que ahora están en línea y obtén una respuesta más rápida.       Ver a tusseguidores  Ve el perfil de tus seguidores y averigua quién está interesado en tu oferta.       Responde a las evaluaciones  Comenta tus evaluaciones y, si lo deseas, elimina una evaluación por mes.     Más información             Accede a esta función contratando una cuenta “Premium”            Ignora usuarios  Obtén resultados de búsquedas relevantes ocultando a los usuarios que no te interesen.       Estado en línea del usuario  Ponte en contacto con los usuarios que ahora están en línea y obtén una respuesta más rápida.       Navega sin publicidad  Navega por Locanto sin publicidad.       SneakPic™  Con SneakPic™ puedes enviar imágenes temporales.       Ver a tusseguidores  Ve el perfil de tus seguidores y averigua quién está interesado en tu oferta.       Etiqueta “Premium”  Con la etiqueta “Premium” tus anuncios destacan en los resultados de búsqueda.       Responde a las evaluaciones  Comenta tus evaluaciones y, si lo deseas, elimina una evaluación por mes.     Más información             Accede a esta función contratando una cuenta “Premium”             Verificación de la cuenta  Verifica tu cuenta con tu número de teléfono y aumenta tu confiabilidad y visibilidad.       Etiqueta “Premium”  Con la etiqueta “Premium” tus anuncios destacan en los resultados de búsqueda.       Navega sin publicidad  Navega por Locanto sin publicidad.       SneakPic™  Con SneakPic™ puedes enviar imágenes temporales.       Estado en línea del usuario  Ponte en contacto con los usuarios que ahora están en línea y obtén una respuesta más rápida.       Ver a tusseguidores  Ve el perfil de tus seguidores y averigua quién está interesado en tu oferta.       Responde a las evaluaciones  Comenta tus evaluaciones y, si lo deseas, elimina una evaluación por mes.     Más información             Contactar a alonespa                 Evaluaciones de alonespa       Loading User Ratings ...            '"
      ]
     },
     "execution_count": 215,
     "metadata": {},
     "output_type": "execute_result"
    }
   ],
   "source": [
    "text=text.replace(\"\\n\",\" \")\n",
    "text=text.replace(\"\\r\",\" \")\n",
    "\n",
    "text"
   ]
  },
  {
   "cell_type": "code",
   "execution_count": 216,
   "metadata": {},
   "outputs": [
    {
     "name": "stdout",
     "output_type": "stream",
     "text": [
      "Argentina LOC\n",
      "Bolivia LOC\n",
      "Chile LOC\n",
      "Costa Rica LOC\n",
      "Ecuador LOC\n",
      "El Salvador   España LOC\n",
      "Estados Unidos LOC\n",
      "Guatemala LOC\n",
      "Panamá LOC\n",
      "Paraguay LOC\n",
      "Perú LOC\n",
      "Puerto Rico LOC\n",
      "República Dominicana LOC\n",
      "Uruguay LOC\n",
      "Venezuela LOC\n",
      "Bogota LOC\n",
      "Colombia LOC\n",
      "TERAPIAS LOC\n",
      "Clica LOC\n",
      "Confía LOC\n",
      "Bogotá LOC\n",
      "Ayuda LOC\n",
      "Cuenta Premium LOC\n",
      "Páginas LOC\n",
      "Ponte LOC\n",
      "Navega LOC\n",
      "Navega LOC\n",
      "Ponte LOC\n",
      "Ponte LOC\n",
      "Navega LOC\n",
      "Ponte LOC\n"
     ]
    },
    {
     "data": {
      "text/plain": [
       "[Argentina,\n",
       " Bolivia,\n",
       " Chile,\n",
       " Costa Rica,\n",
       " Ecuador,\n",
       " El Salvador   España,\n",
       " Estados Unidos,\n",
       " Guatemala,\n",
       " Panamá,\n",
       " Paraguay,\n",
       " Perú,\n",
       " Puerto Rico,\n",
       " República Dominicana,\n",
       " Uruguay,\n",
       " Venezuela,\n",
       " Bogota,\n",
       " Colombia,\n",
       " TERAPIAS,\n",
       " Clica,\n",
       " Confía,\n",
       " Bogotá,\n",
       " Ayuda,\n",
       " Cuenta Premium,\n",
       " Páginas,\n",
       " Ponte,\n",
       " Navega,\n",
       " Navega,\n",
       " Ponte,\n",
       " Ponte,\n",
       " Navega,\n",
       " Ponte]"
      ]
     },
     "execution_count": 216,
     "metadata": {},
     "output_type": "execute_result"
    }
   ],
   "source": [
    "find_locations(text)"
   ]
  },
  {
   "cell_type": "markdown",
   "metadata": {},
   "source": [
    "### DATE"
   ]
  },
  {
   "cell_type": "markdown",
   "metadata": {},
   "source": [
    "Spacy solo extrae para las fechas que tienen orden 3/13/2019. Para que identifique las que tiene orden 25 September 2018, tenemos que realizar un metodo que lo realice con CARDINAL DATE "
   ]
  },
  {
   "cell_type": "code",
   "execution_count": 241,
   "metadata": {},
   "outputs": [],
   "source": [
    "r = requests.get(\"https://www.elespectador.com/noticias/judicial/la-lucha-contra-la-trata-de-personas-en-suramerica-colombia-incluida/\")\n",
    "data = r.text\n",
    "soup = BeautifulSoup(data, \"html.parser\")"
   ]
  },
  {
   "cell_type": "code",
   "execution_count": 242,
   "metadata": {},
   "outputs": [],
   "source": [
    "soup = extractScripts(soup)\n",
    "text = soup.get_text()"
   ]
  },
  {
   "cell_type": "code",
   "execution_count": 243,
   "metadata": {},
   "outputs": [
    {
     "data": {
      "text/plain": [
       "'La lucha contra la trata de personas en Suramérica, Colombia incluida | EL ESPECTADOR\\n\\nmartes 1 de septiembreSuscríbeteSiguenos en: OpiniónNoticiasDeportesEntretenimientoColombia 2020CromosNovedadesEspecialesTérminos y CondicionesOpiniónEconomíaTecnologíaCulturaEntretenimientoDeportesAutosNovedadesBlogsColombia 2020CromosJudicialInicioJudicialLa lucha contra la trata de personas en Suramérica, Colombia incluidaLa lucha contra la trata de personas en Suramérica, Colombia incluidaNoticias destacadas de JudicialJudicial16 Jan 2019  - 8:15 p.\\xa0m.Por: Redacción JudicialAunque el Protocolo de la ONU para luchar contra este flagelo lleva 15 años en vigencia, el tráfico de personas es un crimen que mueve miles de millones de dólares al año y que pocas sanciones genera. La trata de personas, es decir, usar a seres humanos como seres de mercancía y explotarlos con fines específicos -como laborales o sexuales- es una problemática que se denuncia cada tanto, se ataca, pero no se termina. La Oficina de las Naciones Unidas contra la Droga y el Delito (UNODC) lanzó un informe que demuestra, una vez más, lo grave que es este crimen y su impacto alrededor del mundo. “Este año, el Reporte Global indica que el número general de personas reportadas como víctimas de trata de personas ha incrementado”, señaló el organismo.\\r\\n\\r\\n(En contexto:\\xa0Se registraron 200 víctimas de trata de personas en los últimos dos años)\\n“Aunque estamos lejos de acabar con la impunidad, hemos tenido avances en estos 15 años desde que el Protocolo para prevenir, reprimir y sancionar la trata de personas entró en vigor. Casi todos los países tienen ahora legislaciones para penalizar este crimen”, añadió la Unodc, que además resaltó que en el Reporte Global de 2018 ponía los reflectores sobre la trata de personas en zonas en guerra: “En situaciones conflictivas, caracterizadas por la violencia, la brutalidad y la coerción, los traficantes pueden operar con aún más impunidad”.\\r\\n\\r\\nEn Latinoamérica, el problema se concentra especialmente en América Central y el Caribe. Entre 2014 y 2017, la mayoría de las víctimas fueron de El Salvador, Guatemala y Honduras, y fueron detectadas en Estados Unidos. A pesar de que allí las cifras son altas en ese sentido, las condenas o investigaciones judiciales no van a la par.\\r\\n\\r\\n(Puede interesarle:\\xa0En Colombia hay 70 mil víctimas de trata de personas)\\xa0\\r\\n\\r\\nEn Suramérica, señala el informe de la UNODC, “la gran mayoría de las víctimas de trata detectadas son mujeres, en 2016 fueron más del 80 % del total” y, más grave aún, los países andinos “reportan particularmente grandes cuotas de trata de niños”. En Perú y Bolivia, se detectaron más niños víctimas de este crimen que adultos. En Colombia y Venezuela, las mujeres fueron más del 60 % de las víctimas.\\r\\n\\r\\nLas víctimas suelen ser mujere, pero los victimarios, hombres. “Dos tercios de los investigados, arrestados, llamados a juicio o condenados en 2016 eran hombres”, resaltó el informe. En Colombia, en 2016, se abrieron 194 casos por este delito y 100 personas empezaron a ser investigadas, de ellas, 60 eran hombres. En 2017 fueron 82 expedientes, en los que se relacionaron a 42 hombres y 35 mujeres.\\r\\n\\r\\nLa UNODC encontró también que, de los suramericanos\\xa0que cayeron en redes de este tráfico, cerca del 58% fueron sometidas a explotación sexual y 32 %, a trabajos forzados. Víctimas colombianas han sido identificadas o repatriadas de Panamá, República Dominicana y otras islas del Caribe, y también en Ecuador.\\r\\n\\r\\n(Lea:\\xa0Venezolanos, los más afectados por trata de personas en Bogotá)\\r\\n\\r\\nEn Colombia, entre 2017, de acuerdo con cifras del Ministerio del Interior y de la Fiscalía, se han detectado al menos a 128 personas como víctimas de trata. Además, entre 2016 y 2017, 98 víctimas fueron repatriadas de otros países y 22 fueron sometidas a tráfico interno. “La legislación actual sobre tráfico de personas en Colombia cubre todas las formas de tráfico indicadas en el Protocolo de la ONU”, destacó el informe.\\r\\n\\r\\n\\xa0\\n\\nComparte en redes:\\xa0Temas Relacionadostráfico de personasInforme UNODCTe contamos que estamos trabajando en nuestra plataforma tecnológica para que sea más fácil de disfrutar, por eso no podrás hacer comentarios en los artículos. Estarán activos próximamente. Gracias por tu comprensión.XÚltimas NoticiasEl laberinto judicial al que entró el caso Uribe en la FiscalíaJudicial- Hace 12 minutosHarold Morales soñaba con ser futbolista y murió por una bala de la Policía en CartagenaJudicialHace 29 minutosPor proteger la “moral cristiana”, juez en Cartagena no aceptó casar a dos mujeresJudicialHace 1 horaExmagistrado Gustavo Malo será testigo clave de la defensa en juicio a Francisco RicaurteJudicialHace 1 horaCovid-19 en las cárcelesJudicialHace 2 horasRecibe nuestro boletín de noticiasEnviarLa selección del editor en tu bandeja de entrada *  Tu correo ya está registradoInicia sesión\\xa0SuscríbeteSíganos enSeccionesServicios Iniciar SesiónSuscríbetePaute con nosotrosSuscripciones impresasCírculo de experienciasForos El EspectadorEdictos y avisos judicialesRed de portalescirculodeexperiencias.comforos.elespectador.combibo.elespectador.comcaracolnext.comcaracoltv.comnoticiascaracol.comgolcaracol.comcaracolplay.comcaracoltvcorporativo.combluradio.comlakalle.comhjck.comshock.coVolkContáctenosServicio al cliente: LÍNEA NACIONAL: 01 8000 510903 EN BOGOTÁ: 4055540, servicioalcliente@elespectador.com.Miembros deEl uso de este sitio web implica la aceptación de los  Términos y Condiciones  y  Políticas de privacidad de COMUNICAN S.A. Todos los Derechos Reservados D.R.A. Prohibida su reproducción total o parcial, así como su traducción a cualquier idioma sin la autorización escrita de su titular. Reproduction in whole or in part, or translation without written permission is  prohibited. All rights reserved 2020'"
      ]
     },
     "execution_count": 243,
     "metadata": {},
     "output_type": "execute_result"
    }
   ],
   "source": [
    "#text=text.replace(\"\\n\",\" \")\n",
    "#text=text.replace(\"\\r\",\" \")\n",
    "\n",
    "text"
   ]
  },
  {
   "cell_type": "code",
   "execution_count": 275,
   "metadata": {},
   "outputs": [
    {
     "ename": "SyntaxError",
     "evalue": "invalid syntax (<ipython-input-275-d1cb4ff1c026>, line 17)",
     "output_type": "error",
     "traceback": [
      "\u001b[1;36m  File \u001b[1;32m\"<ipython-input-275-d1cb4ff1c026>\"\u001b[1;36m, line \u001b[1;32m17\u001b[0m\n\u001b[1;33m    lista.append(re.findall(\"(\"+c+\")\", text), text))\u001b[0m\n\u001b[1;37m                                                   ^\u001b[0m\n\u001b[1;31mSyntaxError\u001b[0m\u001b[1;31m:\u001b[0m invalid syntax\n"
     ]
    }
   ],
   "source": [
    "def show_labels(text):\n",
    "    localidades=[\"Usaquén\",\"Chapinero\",\"Santa Fe\",\"San Cristóbal\",\"Usme\",\"Tunjuelito\",\"Bosa\",\"Kennedy\",\"Fontibón\",\"Engativá\",\n",
    "                 \"Suba\",\"Barrios Unidos\",\"Teusaquillo\",\"Los Mártires\",\"Antonio Nariño\",\"Puente Aranda\",\"La Candelaria\",\n",
    "                 \"Rafael Uribe Uribe\",\"Ciudad Bolívar\",\"Sumapaz\"]\n",
    "    cardinales=[\"Norte\",\"Sur\",\"Este\",\"Oeste\",\"Occidente\",\"Oriente\"]\n",
    "    direccion=[\"Calle\",\"Avenida\", \"Carrera\",\"Diagonal\"]\n",
    "    doc = nlp(text)\n",
    "    list=[]\n",
    "    for ent in doc.ents:\n",
    "        print(ent.text, ent.label_)\n",
    "        list.append(ent)\n",
    "    for l in localidades:\n",
    "        if(len(re.findall(\"(\"+l+\")\", text))>0):\n",
    "            lista.append(re.findall(\"(\"+l+\")\", text), text)\n",
    "    for c in cardinales:\n",
    "        if(len(re.findall(\"(\"+c+\")\", text))>0):\n",
    "            lista.append(re.findall(\"(\"+c+\")\", text), text))\n",
    "    for d in direccion:\n",
    "        if(len(re.findall(\"(\"+d+\"[0-9]{2}\\s)\", text))>0):\n",
    "            lista.append(re.findall(\"(\"+d+\"[0-9]{2}\\s)\", text), text)) \n",
    "    return list\n",
    "    "
   ]
  },
  {
   "cell_type": "code",
   "execution_count": 276,
   "metadata": {},
   "outputs": [
    {
     "name": "stdout",
     "output_type": "stream",
     "text": [
      "Suramérica LOC\n",
      "Colombia LOC\n",
      "| EL ESPECTADOR LOC\n",
      "septiembreSuscríbeteSiguenos LOC\n",
      "Suramérica LOC\n",
      "Colombia incluidaLa LOC\n",
      "Suramérica LOC\n",
      "Colombia LOC\n",
      "JudicialJudicial16 Jan 2019 MISC\n",
      "Por: Redacción JudicialAunque MISC\n",
      "Protocolo de la ONU MISC\n",
      "La trata de personas MISC\n",
      "La Oficina de las Naciones Unidas contra la Droga y el Delito MISC\n",
      "UNODC ORG\n",
      "“Este año MISC\n",
      "Reporte Global LOC\n",
      "“ MISC\n",
      "Protocolo para prevenir MISC\n",
      "Casi todos los países MISC\n",
      "Unodc LOC\n",
      "Reporte Global LOC\n",
      "Latinoamérica LOC\n",
      "América Central LOC\n",
      "Caribe LOC\n",
      "El Salvador LOC\n",
      "Guatemala LOC\n",
      "Honduras LOC\n",
      "Estados Unidos LOC\n",
      "A LOC\n",
      "Colombia LOC\n",
      "Suramérica LOC\n",
      "UNODC ORG\n",
      "“ MISC\n",
      "“ MISC\n",
      "En Perú LOC\n",
      "Bolivia LOC\n",
      "Colombia LOC\n",
      "Venezuela LOC\n",
      "Colombia LOC\n",
      "UNODC ORG\n",
      "Víctimas LOC\n",
      "Panamá LOC\n",
      "República Dominicana LOC\n",
      "Caribe LOC\n",
      "Ecuador LOC\n",
      "Lea PER\n",
      "Venezolanos LOC\n",
      "Bogotá LOC\n",
      "Colombia LOC\n",
      "Ministerio del Interior LOC\n",
      "Fiscalía PER\n",
      "Además LOC\n",
      "“La legislación MISC\n",
      "Colombia LOC\n",
      "Protocolo de la ONU MISC\n",
      "Comparte PER\n",
      "Temas Relacionadostráfico de personasInforme UNODCTe LOC\n",
      "Estarán PER\n",
      "Gracias por tu comprensión MISC\n",
      "XÚltimas NoticiasEl MISC\n",
      "Uribe PER\n",
      "FiscalíaJudicial- Hace 12 minutosHarold Morales LOC\n",
      "Policía ORG\n",
      "CartagenaJudicialHace MISC\n",
      "minutosPor ORG\n",
      "“ MISC\n",
      "Cartagena LOC\n",
      "Gustavo Malo PER\n",
      "Francisco RicaurteJudicialHace PER\n",
      "Tu correo ya está MISC\n",
      "SuscríbeteSíganos enSeccionesServicios Iniciar SesiónSuscríbetePaute MISC\n",
      "El EspectadorEdictos ORG\n",
      "judicialesRed MISC\n",
      "portalescirculodeexperiencias.comforos.elespectador.combibo.elespectador.comcaracolnext.comcaracoltv.comnoticiascaracol.comgolcaracol.comcaracolplay.comcaracoltvcorporativo.combluradio.comlakalle.comhjck.comshock.coVolkContáctenosServicio MISC\n",
      "LÍNEA NACIONAL MISC\n",
      "EN BOGOTÁ MISC\n",
      "Miembros ORG\n",
      "Términos LOC\n",
      "Condiciones PER\n",
      "Reproduction in whole or in part MISC\n",
      "All ORG\n"
     ]
    }
   ],
   "source": [
    "a=extracted_entities=show_labels(text)"
   ]
  },
  {
   "cell_type": "code",
   "execution_count": 266,
   "metadata": {},
   "outputs": [],
   "source": [
    "# Use of entities labels from spacy to find dates\n",
    "def find_dates(text):\n",
    "    months=[\"Enero\",\"Ene\", \"January\",\"Jan\",\"Febrero\",\"February\",\"Feb\",\"Marzo\",\"March\",\"Mar\",\"Abril\",\"April\",\"Mayo\",\"May\",'Junio','June', \"Jun\",\"Julio\",\"July\", \"Jul\",\n",
    "           \"Agosto\",\"Ago\",\"August\",\"Aug\",\"Septiembre\",'September',\"Sep\",'Octubre','October',\"Oct\",\"Noviembre\",'November',\"Nov\",\"Diciembre\",\"December\", \"Dec\"]\n",
    "    doc = nlp(text)\n",
    "    lista=[]\n",
    "    for ent in doc.ents:\n",
    "        if ent.label_==\"DATE\":\n",
    "            print(ent.text, ent.label_)\n",
    "            lista.append(ent)\n",
    "    for m in months:\n",
    "        if(len(re.findall(\"([0-9]{2}\\s\"+m+\"\\s[0-9]{4})\", text))>0):\n",
    "            lista.append(re.findall(\"([0-9]{2}\\s\"+m+\"\\s[0-9]{4})\", text))       \n",
    "    \n",
    "    \n",
    "    return lista"
   ]
  },
  {
   "cell_type": "code",
   "execution_count": 267,
   "metadata": {},
   "outputs": [
    {
     "data": {
      "text/plain": [
       "[['16 Jan 2019']]"
      ]
     },
     "execution_count": 267,
     "metadata": {},
     "output_type": "execute_result"
    }
   ],
   "source": [
    "find_dates(text)"
   ]
  },
  {
   "cell_type": "code",
   "execution_count": 224,
   "metadata": {},
   "outputs": [],
   "source": [
    "def cardinal_first(extracted_entities): \n",
    "    current_index = 0\n",
    "\n",
    "    for entity in extracted_entities:\n",
    "        if entity.label_ == \"CARDINAL\":\n",
    "            next_entity_index = current_index + 1\n",
    "            next_entity, next_label = extracted_entities[next_entity_index]\n",
    "            if next_label == \"DATE\":\n",
    "                combined_entity_pattern = entity + \" \" + next_entity\n",
    "                if re.search(combined_entity_pattern, text):\n",
    "                    extracted_entities[next_entity_index] = (\n",
    "                        entity + \" \" + next_entity, next_label)\n",
    "        current_index += 1\n",
    "    print(extracted_entities)"
   ]
  },
  {
   "cell_type": "code",
   "execution_count": 225,
   "metadata": {},
   "outputs": [
    {
     "name": "stdout",
     "output_type": "stream",
     "text": [
      "[Bogota, Locanto, Versión móvil • Versión, ALONE, Bogota             , |      Publicar, Ayuda, |, |, Mi Locanto     Mi Locanto   Mis anuncios, Argentina, Bolivia, Chile, Costa Rica, Ecuador, El Salvador   España, Estados Unidos, Guatemala, México, Panamá, Paraguay, Perú, Puerto Rico, República Dominicana, Uruguay, Venezuela, +150, Anuncio, ALONE, Anuncio n°: 4521098185                   Ubicación, Bogota, Colombia, ALONE, MEJORES MASAJES RELAJANTES, A DISFRUTAR, MEJORES NIÑAS TENEMOS VARIEDAD, MASAJES VEN, VISITARNOS EN, CALLE, BARRIO CEDRITOS, TELÉFONOS, Compartir, Siguiente anuncio       Estos anuncios en Locanto, DESDE 80.000 MIL PESOS, ALONE, MEJORES TERAPIAS, RELAJACI N, ALONE, DISFRUTA, MEJOR, TERAPIAS, TE OFRECEMOS ESTAMOS, LA CALLE, BARRIO …          Cónoceme, Locanto #Dating   Miles, ¡Únete, Busco, Denunciar  Anunciante         , Mostrar el estado, Clica, Ten, Ten cuidado si te encuentres, No des precipitadamente tus, Protege, Cuantas más preguntas hagas, Cuidado con los vendedores, Evita, Locanto, Reporta anuncios, Confía, No te encuentres con alguien si desconfías, ¿Quieres, Publicar un anuncio, Popular, Sexo Bogotá, Escort Bogotá, Bogotá   , Mamada Bogotá, Pagar, Bogotá, Contiene desnudos, Imagen prohibida Viola las Condiciones de Servicio de Locanto   Infracción, Nos encargamos de tu solicitud, Enviar                                Información  , Servicio   Política, Ayuda, Opciones   ¡Aumenta, Cuenta Premium, Páginas, Versión móvil, Locanto, Servicios  Consejos de seguridad, Newsletter, Hacer Locanto más famoso, Síguenos                 Copyright, Locanto™    sun4              Accede, “Premium, Ponte, Notificaciones, Navega, Locanto, SneakPic, “Premium, “Premium, “Premium, Notificaciones, Navega, Locanto, SneakPic, Ponte, Comenta tus evaluaciones, “Premium, Ignora, Obtén, Ponte, Navega, Locanto, SneakPic, “Premium, “Premium, Verifica, “Premium, Locanto, SneakPic, Ponte, Comenta tus evaluaciones, Loading User Ratings]\n"
     ]
    }
   ],
   "source": [
    "cardinal_first(extracted_entities)"
   ]
  },
  {
   "cell_type": "code",
   "execution_count": 226,
   "metadata": {},
   "outputs": [],
   "source": [
    "def list_labels(extracted_entities):\n",
    "    for ent in extracted_entities:\n",
    "        if(ent.label==\"DATE\"):\n",
    "            print(ent.text, ent.label_)"
   ]
  },
  {
   "cell_type": "code",
   "execution_count": 227,
   "metadata": {},
   "outputs": [],
   "source": [
    "list_labels(extracted_entities)"
   ]
  },
  {
   "cell_type": "code",
   "execution_count": null,
   "metadata": {},
   "outputs": [],
   "source": []
  }
 ],
 "metadata": {
  "kernelspec": {
   "display_name": "Python 3",
   "language": "python",
   "name": "python3"
  },
  "language_info": {
   "codemirror_mode": {
    "name": "ipython",
    "version": 3
   },
   "file_extension": ".py",
   "mimetype": "text/x-python",
   "name": "python",
   "nbconvert_exporter": "python",
   "pygments_lexer": "ipython3",
   "version": "3.7.6"
  }
 },
 "nbformat": 4,
 "nbformat_minor": 4
}
