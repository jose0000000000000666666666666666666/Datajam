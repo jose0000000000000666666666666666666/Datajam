{
 "cells": [
  {
   "cell_type": "markdown",
   "metadata": {},
   "source": [
    "# Implemtation of the graph"
   ]
  },
  {
   "cell_type": "markdown",
   "metadata": {},
   "source": [
    "- Inicializar el grafo vacio NetworkX\n",
    "- Crear un nodo. Para inicializar ese nodo buscamos en google (Primer resultado)\n",
    "- N engines (computacion en paralelo) que busquen en los links\n",
    "- Filtros URLs, Filtros Organizaciones (Revisar) - GPT2 (Clustering)\n",
    "- Criterio de parada del agente.\n",
    "- https://spacy.io/api/entityrecognizer\n"
   ]
  },
  {
   "cell_type": "code",
   "execution_count": 40,
   "metadata": {},
   "outputs": [],
   "source": [
    "# Connection libraries.\n",
    "import urllib.request, urllib.parse, urllib.error\n",
    "import requests\n",
    "from bs4 import BeautifulSoup\n",
    "#from langdetect import detect\n",
    "import re\n",
    "import hashlib \n",
    "import time\n",
    "import langdetect\n",
    "\n",
    "import spacy\n",
    "import es_core_news_sm\n",
    "import en_core_web_sm\n",
    "import networkx as nx"
   ]
  },
  {
   "cell_type": "code",
   "execution_count": 41,
   "metadata": {},
   "outputs": [],
   "source": [
    "# Import class TheWitness (webscraper)\n",
    "%run ./TheWitness.ipynb\n",
    "\n",
    "# Import class Node \n",
    "%run ./Website.ipynb"
   ]
  },
  {
   "cell_type": "code",
   "execution_count": 47,
   "metadata": {
    "scrolled": false
   },
   "outputs": [],
   "source": [
    "G = nx.Graph()\n",
    "\n",
    "url1 = \"https://es.chaturbate.com/\"\n",
    "witness = TheWitness(url1, url1, 1, 0)\n",
    "result = witness.scrap()\n"
   ]
  },
  {
   "cell_type": "code",
   "execution_count": 43,
   "metadata": {
    "scrolled": false
   },
   "outputs": [],
   "source": [
    "def addNode(G, result):\n",
    "    website=Website(result[0], result[1],result[2],result[3],result[4], result[5],result[6], result[7],result[8],result[9],\n",
    "                    result[10], result[11],result[12], result[13],result[14],result[15])\n",
    "    G.add_node(website)\n",
    "    return len(list(G.nodes))"
   ]
  },
  {
   "cell_type": "code",
   "execution_count": null,
   "metadata": {},
   "outputs": [],
   "source": [
    "pos=addNode(G, result)-1\n",
    "root=list(G.nodes)[node_pos]\n",
    "root"
   ]
  },
  {
   "cell_type": "code",
   "execution_count": 61,
   "metadata": {},
   "outputs": [],
   "source": [
    "def graph(G, node):\n",
    "    if len(list(G.nodes))==1:\n",
    "        for n in node.getUrls():\n",
    "            \n",
    "            w=TheWitness(node.getUrl(), n, 1, 1)\n",
    "            result = w.scrap()\n",
    "            node_pos=addNode(G, result)-1\n",
    "            node1=list(G.nodes)[node_pos]\n",
    "            # Arcos\n",
    "            # G.add_edge(1, 2,{})\n",
    "            graph(G, node1)\n",
    "    \n",
    "    else:\n",
    "        if node.getDistance()<3:\n",
    "            for n in node.getUrls():\n",
    "                w=TheWitness(node.getUrl(), n, 1, node.getDistance()+1)\n",
    "                node_pos=addNode(G, result)-1\n",
    "                node1=list(G.nodes)[node_pos]\n",
    "                graph(G, node1)\n",
    "\n",
    "        return G\n",
    "    "
   ]
  },
  {
   "cell_type": "code",
   "execution_count": null,
   "metadata": {},
   "outputs": [],
   "source": [
    "# def validation():"
   ]
  },
  {
   "cell_type": "code",
   "execution_count": 53,
   "metadata": {},
   "outputs": [
    {
     "ename": "UnboundLocalError",
     "evalue": "local variable 'nlp' referenced before assignment",
     "output_type": "error",
     "traceback": [
      "\u001b[1;31m---------------------------------------------------------------------------\u001b[0m",
      "\u001b[1;31mUnboundLocalError\u001b[0m                         Traceback (most recent call last)",
      "\u001b[1;32m<ipython-input-53-56252d240c5f>\u001b[0m in \u001b[0;36m<module>\u001b[1;34m\u001b[0m\n\u001b[1;32m----> 1\u001b[1;33m \u001b[0mgraph\u001b[0m\u001b[1;33m(\u001b[0m\u001b[0mG\u001b[0m\u001b[1;33m,\u001b[0m \u001b[0mresult\u001b[0m\u001b[1;33m,\u001b[0m \u001b[0mcontador\u001b[0m\u001b[1;33m)\u001b[0m\u001b[1;33m\u001b[0m\u001b[1;33m\u001b[0m\u001b[0m\n\u001b[0m",
      "\u001b[1;32m<ipython-input-52-463ada4b6908>\u001b[0m in \u001b[0;36mgraph\u001b[1;34m(G, result, contador)\u001b[0m\n\u001b[0;32m      9\u001b[0m             \u001b[0mw\u001b[0m\u001b[1;33m=\u001b[0m\u001b[0mTheWitness\u001b[0m\u001b[1;33m(\u001b[0m\u001b[0mnode\u001b[0m\u001b[1;33m.\u001b[0m\u001b[0mgetUrl\u001b[0m\u001b[1;33m(\u001b[0m\u001b[1;33m)\u001b[0m\u001b[1;33m,\u001b[0m \u001b[0mn\u001b[0m\u001b[1;33m,\u001b[0m \u001b[1;36m1\u001b[0m\u001b[1;33m,\u001b[0m \u001b[1;36m3\u001b[0m\u001b[1;33m)\u001b[0m\u001b[1;33m\u001b[0m\u001b[1;33m\u001b[0m\u001b[0m\n\u001b[0;32m     10\u001b[0m             \u001b[0mresult\u001b[0m \u001b[1;33m=\u001b[0m \u001b[0mw\u001b[0m\u001b[1;33m.\u001b[0m\u001b[0mscrap\u001b[0m\u001b[1;33m(\u001b[0m\u001b[1;33m)\u001b[0m\u001b[1;33m\u001b[0m\u001b[1;33m\u001b[0m\u001b[0m\n\u001b[1;32m---> 11\u001b[1;33m             \u001b[0mgraph\u001b[0m\u001b[1;33m(\u001b[0m\u001b[0mG\u001b[0m\u001b[1;33m,\u001b[0m \u001b[0mresult\u001b[0m\u001b[1;33m,\u001b[0m \u001b[0mcontador\u001b[0m\u001b[1;33m)\u001b[0m\u001b[1;33m\u001b[0m\u001b[1;33m\u001b[0m\u001b[0m\n\u001b[0m\u001b[0;32m     12\u001b[0m     \u001b[1;32melse\u001b[0m \u001b[1;33m:\u001b[0m\u001b[1;33m\u001b[0m\u001b[1;33m\u001b[0m\u001b[0m\n\u001b[0;32m     13\u001b[0m         \u001b[1;32mreturn\u001b[0m \u001b[0mG\u001b[0m\u001b[1;33m\u001b[0m\u001b[1;33m\u001b[0m\u001b[0m\n",
      "\u001b[1;32m<ipython-input-52-463ada4b6908>\u001b[0m in \u001b[0;36mgraph\u001b[1;34m(G, result, contador)\u001b[0m\n\u001b[0;32m      8\u001b[0m \u001b[1;33m\u001b[0m\u001b[0m\n\u001b[0;32m      9\u001b[0m             \u001b[0mw\u001b[0m\u001b[1;33m=\u001b[0m\u001b[0mTheWitness\u001b[0m\u001b[1;33m(\u001b[0m\u001b[0mnode\u001b[0m\u001b[1;33m.\u001b[0m\u001b[0mgetUrl\u001b[0m\u001b[1;33m(\u001b[0m\u001b[1;33m)\u001b[0m\u001b[1;33m,\u001b[0m \u001b[0mn\u001b[0m\u001b[1;33m,\u001b[0m \u001b[1;36m1\u001b[0m\u001b[1;33m,\u001b[0m \u001b[1;36m3\u001b[0m\u001b[1;33m)\u001b[0m\u001b[1;33m\u001b[0m\u001b[1;33m\u001b[0m\u001b[0m\n\u001b[1;32m---> 10\u001b[1;33m             \u001b[0mresult\u001b[0m \u001b[1;33m=\u001b[0m \u001b[0mw\u001b[0m\u001b[1;33m.\u001b[0m\u001b[0mscrap\u001b[0m\u001b[1;33m(\u001b[0m\u001b[1;33m)\u001b[0m\u001b[1;33m\u001b[0m\u001b[1;33m\u001b[0m\u001b[0m\n\u001b[0m\u001b[0;32m     11\u001b[0m             \u001b[0mgraph\u001b[0m\u001b[1;33m(\u001b[0m\u001b[0mG\u001b[0m\u001b[1;33m,\u001b[0m \u001b[0mresult\u001b[0m\u001b[1;33m,\u001b[0m \u001b[0mcontador\u001b[0m\u001b[1;33m)\u001b[0m\u001b[1;33m\u001b[0m\u001b[1;33m\u001b[0m\u001b[0m\n\u001b[0;32m     12\u001b[0m     \u001b[1;32melse\u001b[0m \u001b[1;33m:\u001b[0m\u001b[1;33m\u001b[0m\u001b[1;33m\u001b[0m\u001b[0m\n",
      "\u001b[1;32m<ipython-input-41-f012760d5ab5>\u001b[0m in \u001b[0;36mscrap\u001b[1;34m(self)\u001b[0m\n\u001b[0;32m     53\u001b[0m \u001b[1;33m\u001b[0m\u001b[0m\n\u001b[0;32m     54\u001b[0m         \u001b[1;31m# Get names that appear on the website.\u001b[0m\u001b[1;33m\u001b[0m\u001b[1;33m\u001b[0m\u001b[1;33m\u001b[0m\u001b[0m\n\u001b[1;32m---> 55\u001b[1;33m         \u001b[0mnames\u001b[0m \u001b[1;33m=\u001b[0m \u001b[0mself\u001b[0m\u001b[1;33m.\u001b[0m\u001b[0mget_names\u001b[0m\u001b[1;33m(\u001b[0m\u001b[0mtext\u001b[0m\u001b[1;33m,\u001b[0m \u001b[0mnlp\u001b[0m\u001b[1;33m)\u001b[0m\u001b[1;33m\u001b[0m\u001b[1;33m\u001b[0m\u001b[0m\n\u001b[0m\u001b[0;32m     56\u001b[0m \u001b[1;33m\u001b[0m\u001b[0m\n\u001b[0;32m     57\u001b[0m         \u001b[1;31m# Get locations\u001b[0m\u001b[1;33m\u001b[0m\u001b[1;33m\u001b[0m\u001b[1;33m\u001b[0m\u001b[0m\n",
      "\u001b[1;31mUnboundLocalError\u001b[0m: local variable 'nlp' referenced before assignment"
     ]
    }
   ],
   "source": [
    "graph(G, result, contador)"
   ]
  },
  {
   "cell_type": "code",
   "execution_count": 59,
   "metadata": {},
   "outputs": [
    {
     "data": {
      "text/plain": [
       "['https://chrome.google.com/webstore/category/extensions?hl=en',\n",
       " 'https://chromeenterprise.google/browser/download/?hl=en',\n",
       " 'https://support.google.com/accounts/answer/3118621?hl=en',\n",
       " 'https://policies.google.com/technologies/cookies?hl=en',\n",
       " 'https://www.google.com/support/chrome/bin/answer.py?answer=96817&hl=en',\n",
       " 'https://policies.google.com/terms',\n",
       " 'https://www.google.com/chromebook/',\n",
       " 'https://www.google.com/chromecast/',\n",
       " 'https://www.google.com/chrome/cleanup-tool',\n",
       " 'https://chromeenterprise.google/browser/download/',\n",
       " 'https://chromeenterprise.google/browser/',\n",
       " 'https://chromeenterprise.google/devices/',\n",
       " 'https://chromeenterprise.google/os/',\n",
       " 'https://cloud.google.com/',\n",
       " 'https://gsuite.google.com/',\n",
       " 'https://edu.google.com/products/more-products/',\n",
       " 'https://edu.google.com/products/devices/',\n",
       " 'https://chrome.google.com/webstore/category/app/8-education?hl=en',\n",
       " 'https://www.chromium.org/',\n",
       " 'https://www.chromium.org/chromium-os',\n",
       " 'https://developer.chrome.com/webstore/?hl=en',\n",
       " 'https://www.chromeexperiments.com/',\n",
       " 'https://blog.google/products/chrome/',\n",
       " 'https://support.google.com/chrome/?hl=en&rd=3#topic=7438008',\n",
       " 'https://www.google.com',\n",
       " 'https://about.google/',\n",
       " 'https://about.google/products/',\n",
       " 'https://chromium.googlesource.com/chromium/src/+/refs/heads/master/docs/linux/chromium_packages.md']"
      ]
     },
     "execution_count": 59,
     "metadata": {},
     "output_type": "execute_result"
    }
   ],
   "source": [
    "list(G.nodes)[7].getUrls() #0x29e08166788"
   ]
  },
  {
   "cell_type": "code",
   "execution_count": 44,
   "metadata": {},
   "outputs": [
    {
     "data": {
      "text/plain": [
       "1"
      ]
     },
     "execution_count": 44,
     "metadata": {},
     "output_type": "execute_result"
    }
   ],
   "source": [
    "addNode(G, result)"
   ]
  },
  {
   "cell_type": "code",
   "execution_count": 45,
   "metadata": {},
   "outputs": [
    {
     "data": {
      "text/plain": [
       "['http://www.google.com/',\n",
       " 'https://cbswag.com',\n",
       " 'https://exoticads.com/aff/in/mrps/agBmX/?track=top_skyscraper',\n",
       " 'https://exoticads.com/aff/in/mrps/agBmX/?track=mid_skyscraper',\n",
       " 'https://exoticads.com/aff/in/mrps/agBmX/?track=tbot_skyscraper',\n",
       " 'https://exoticads.com/aff/in/mrps/agBmX/?track=left_footer',\n",
       " 'https://exoticads.com/aff/in/mrps/agBmX/?track=mid_footer',\n",
       " 'https://exoticads.com/aff/in/mrps/agBmX/?track=right_footer',\n",
       " 'https://support.chaturbate.com/',\n",
       " 'https://www.surveymonkey.com/r/5XLZ85R',\n",
       " 'https://exoticads.com/',\n",
       " 'https://ar.chaturbate.com/',\n",
       " 'https://de.chaturbate.com/',\n",
       " 'https://el.chaturbate.com/',\n",
       " 'https://en.chaturbate.com/',\n",
       " 'https://es.chaturbate.com/',\n",
       " 'https://fr.chaturbate.com/',\n",
       " 'https://hi.chaturbate.com/',\n",
       " 'https://it.chaturbate.com/',\n",
       " 'https://ja.chaturbate.com/',\n",
       " 'https://ko.chaturbate.com/',\n",
       " 'https://nl.chaturbate.com/',\n",
       " 'https://pt.chaturbate.com/',\n",
       " 'https://ru.chaturbate.com/',\n",
       " 'https://tr.chaturbate.com/',\n",
       " 'https://zh.chaturbate.com/',\n",
       " 'http://www.rtalabel.org/',\n",
       " 'http://www.asacp.org/ASACP.php/']"
      ]
     },
     "execution_count": 45,
     "metadata": {},
     "output_type": "execute_result"
    }
   ],
   "source": [
    "list(G.nodes)[0].getUrls()"
   ]
  },
  {
   "cell_type": "code",
   "execution_count": 55,
   "metadata": {},
   "outputs": [
    {
     "data": {
      "text/plain": [
       "['https://mx.mileroticos.com',\n",
       " 'https://www.mileroticos.com',\n",
       " 'https://www.millerotici.com',\n",
       " 'https://cl.mileroticos.com',\n",
       " 'https://br.mileroticos.com',\n",
       " 'http://www.google.es']"
      ]
     },
     "execution_count": 55,
     "metadata": {},
     "output_type": "execute_result"
    }
   ],
   "source": [
    "list(G.nodes)[0].getUrls()"
   ]
  },
  {
   "cell_type": "code",
   "execution_count": null,
   "metadata": {},
   "outputs": [],
   "source": []
  },
  {
   "cell_type": "code",
   "execution_count": 6,
   "metadata": {},
   "outputs": [],
   "source": [
    "# For link in links.\n",
    "def explore_network(result):\n",
    "    \n",
    "    count = 1\n",
    "    for link in result[2]: \n",
    "\n",
    "        \n",
    "        # We already explored this website.\n",
    "        try: \n",
    "            if hashes_map[link]: \n",
    "                pass\n",
    "\n",
    "        # New website!\n",
    "        except:\n",
    "            \n",
    "            navegable = True\n",
    "            for website in omit_pages: \n",
    "                if link.find(website) != -1: \n",
    "                    navegable = False\n",
    "                    \n",
    "\n",
    "            if navegable: \n",
    "                root = \"https://modelosalacarta.com/\"\n",
    "                destination = link\n",
    "                hash_destination = nodeID(destination)\n",
    "                distance_from_root = 1\n",
    "                #hashes_map[destination] = True\n",
    "\n",
    "                witness = TheWitness(\n",
    "                    root, \n",
    "                    destination, \n",
    "                    hash_destination, \n",
    "                    distance_from_root\n",
    "                )\n",
    "                result = witness.scrap()\n",
    "                \n",
    "                print(\"---------------\")\n",
    "                print(\"Agent No.\", count)\n",
    "                print(result)\n",
    "                print(\"---------------\")\n",
    "                \n",
    "                del witness\n",
    "                \n",
    "        count += 1"
   ]
  },
  {
   "cell_type": "code",
   "execution_count": 7,
   "metadata": {},
   "outputs": [],
   "source": [
    "def nodeID(url): \n",
    "    m = hashlib.sha256()\n",
    "    m.update(url.encode())\n",
    "    return m.hexdigest()"
   ]
  },
  {
   "cell_type": "code",
   "execution_count": null,
   "metadata": {},
   "outputs": [],
   "source": []
  }
 ],
 "metadata": {
  "kernelspec": {
   "display_name": "Python 3",
   "language": "python",
   "name": "python3"
  },
  "language_info": {
   "codemirror_mode": {
    "name": "ipython",
    "version": 3
   },
   "file_extension": ".py",
   "mimetype": "text/x-python",
   "name": "python",
   "nbconvert_exporter": "python",
   "pygments_lexer": "ipython3",
   "version": "3.7.6"
  }
 },
 "nbformat": 4,
 "nbformat_minor": 4
}
