{
 "cells": [
  {
   "cell_type": "markdown",
   "metadata": {},
   "source": [
    "# Implentation of the graph"
   ]
  },
  {
   "cell_type": "markdown",
   "metadata": {},
   "source": [
    "- Inicializar el grafo vacio NetworkX\n",
    "- Crear un nodo. Para inicializar ese nodo buscamos en google (Primer resultado)\n",
    "- N engines (computacion en paralelo) que busquen en los links\n",
    "- Filtros URLs, Filtros Organizaciones (Revisar) - GPT2 (Clustering)\n",
    "- Criterio de parada del agente.\n",
    "- https://spacy.io/api/entityrecognizer\n"
   ]
  },
  {
   "cell_type": "code",
   "execution_count": 56,
   "metadata": {},
   "outputs": [],
   "source": [
    "# Connection libraries.\n",
    "import urllib.request, urllib.parse, urllib.error\n",
    "import requests\n",
    "from bs4 import BeautifulSoup\n",
    "#from langdetect import detect\n",
    "import re\n",
    "import hashlib \n",
    "import time\n",
    "import langdetect\n",
    "\n",
    "import spacy\n",
    "import es_core_news_sm\n",
    "import en_core_web_sm\n",
    "import networkx as nx"
   ]
  },
  {
   "cell_type": "code",
   "execution_count": 57,
   "metadata": {},
   "outputs": [],
   "source": [
    "# Import class TheWitness (webscraper)\n",
    "%run ./TheWitness.ipynb\n",
    "\n",
    "# Import class Node \n",
    "%run ./Website.ipynb\n",
    "\n",
    "#Import text clustering model\n",
    "%run ./text_clustering_final.ipynb"
   ]
  },
  {
   "cell_type": "markdown",
   "metadata": {},
   "source": [
    "## Initialize the graph."
   ]
  },
  {
   "cell_type": "code",
   "execution_count": 58,
   "metadata": {},
   "outputs": [],
   "source": [
    "# Initialize graph.\n",
    "G = nx.Graph()\n",
    "\n",
    "# Max distance from root.\n",
    "max_distance_from_root = 2"
   ]
  },
  {
   "cell_type": "markdown",
   "metadata": {},
   "source": [
    "### An brief example of the algorithm."
   ]
  },
  {
   "cell_type": "code",
   "execution_count": 59,
   "metadata": {
    "scrolled": false
   },
   "outputs": [],
   "source": [
    "def addNode(graph, result):\n",
    "    website=Website(result[0], result[1],result[2],result[3],result[4], result[5],result[6], result[7],result[8],result[9],\n",
    "                    result[10], result[11],result[12], result[13],result[14],result[15])\n",
    "    graph.add_node(website)\n",
    "    print(\"Nodo creado\")\n",
    "    return len(list(graph.nodes))"
   ]
  },
  {
   "cell_type": "code",
   "execution_count": 60,
   "metadata": {},
   "outputs": [],
   "source": [
    "def addEdge(graph, node1, node2):\n",
    "    graph.add_edge(node1, node2)\n",
    "    return(len(list(graph.nodes)))"
   ]
  },
  {
   "cell_type": "code",
   "execution_count": 61,
   "metadata": {},
   "outputs": [],
   "source": [
    "def searchable_url(hostname):\n",
    "    return \"https://\" + hostname"
   ]
  },
  {
   "cell_type": "code",
   "execution_count": 62,
   "metadata": {},
   "outputs": [],
   "source": [
    "def get_text_(hostname):\n",
    "    result = requests.get(hostname)\n",
    "    src = result.content\n",
    "    soup = BeautifulSoup(src, 'html.parser')\n",
    "    for script in soup([\"script\", \"style\"]):                   \n",
    "            script.decompose()\n",
    "    text = soup.get_text().replace(\"\\n\",\" \")\n",
    "    text = re.sub('\\s+',' ',text)\n",
    "    \n",
    "    return text"
   ]
  },
  {
   "cell_type": "code",
   "execution_count": 63,
   "metadata": {},
   "outputs": [],
   "source": [
    "def is_node_useful(possible_nodes, treshold=0.5):\n",
    "    \n",
    "    final_nodes = []\n",
    "    for possible_node in possible_nodes:\n",
    "        \n",
    "        text = get_text_(possible_node)\n",
    "        is_useful = cluster_text(text, treshold)\n",
    "        if is_useful != -1 :\n",
    "            final_nodes.append(possible_node)\n",
    "    return final_nodes"
   ]
  },
  {
   "cell_type": "code",
   "execution_count": 64,
   "metadata": {},
   "outputs": [],
   "source": [
    "def index_of_node(graph, node):\n",
    "    graph_list = list(graph)\n",
    "    index = graph_list.index(node)\n",
    "    return index"
   ]
  },
  {
   "cell_type": "code",
   "execution_count": 65,
   "metadata": {},
   "outputs": [],
   "source": [
    "# def explore(graph, predecesor_node_url, node_url, prev_witness)\n",
    "#     if prev_witness.getDistance() > 3:\n",
    "#         pass\n",
    "#     else:\n",
    "#         for node in toVisit_nodes:\n",
    "#             witness = TheWitness(predecesor_node_url, node_url, index_of_node(graph, node_url), witness.getDistance()+1)\n",
    "#             result = witness.scrap()\n",
    "#             addNode(graph, result)\n",
    "#             addEdge(graph, predecesor_node, node)\n",
    "\n",
    "#             for granchild_node in result[4]:\n",
    "#                 explore(graph, node, distance_from_root + 1, )"
   ]
  },
  {
   "cell_type": "code",
   "execution_count": 66,
   "metadata": {},
   "outputs": [],
   "source": [
    "def explore(node, witness):\n",
    "    d=witness.getDistance()\n",
    "    if d<3:\n",
    "        useful_nodes = is_node_useful(node.getUrls())\n",
    "        for n in useful_nodes:\n",
    "            w=TheWitness(node.getUrl(), n, d+1, d+1)\n",
    "            result = w.scrap()\n",
    "            node_pos=addNode(G, result)-1\n",
    "            node1=list(G.nodes)[node_pos]\n",
    "            addEdge(G, node, node1)\n",
    "            explore(node1, w)\n",
    "            # del witness\n",
    "            # del witness"
   ]
  },
  {
   "cell_type": "code",
   "execution_count": 67,
   "metadata": {},
   "outputs": [],
   "source": [
    "G = nx.Graph()"
   ]
  },
  {
   "cell_type": "code",
   "execution_count": 68,
   "metadata": {},
   "outputs": [],
   "source": [
    "def explore_root(root_url):\n",
    "    witness_root = TheWitness(root_url, root_url, 0, 0)\n",
    "    result_root = witness_root.scrap()\n",
    "    node_root_pos = addNode(G,result_root)-1\n",
    "    node_root = list(G.nodes)[node_root_pos]\n",
    "    print(witness_root)\n",
    "    explore(node_root, witness_root)"
   ]
  },
  {
   "cell_type": "code",
   "execution_count": 69,
   "metadata": {},
   "outputs": [
    {
     "name": "stdout",
     "output_type": "stream",
     "text": [
      "Nodo creado\n",
      "<__main__.TheWitness object at 0x000001E999E76988>\n",
      "inside\n",
      "inside explore\n",
      "Nodo creado\n",
      "inside\n",
      "inside explore\n",
      "Nodo creado\n",
      "inside\n",
      "inside explore\n",
      "Nodo creado\n",
      "inside explore\n",
      "Nodo creado\n",
      "inside\n",
      "inside explore\n",
      "Nodo creado\n",
      "inside\n",
      "inside explore\n",
      "Nodo creado\n",
      "inside\n",
      "inside explore\n",
      "Nodo creado\n",
      "inside\n",
      "inside explore\n",
      "Nodo creado\n",
      "inside explore\n",
      "Nodo creado\n",
      "inside\n",
      "inside explore\n",
      "Nodo creado\n",
      "inside\n"
     ]
    }
   ],
   "source": [
    "root_url = \"https://es.chaturbate.com/\"\n",
    "explore_root(root_url)"
   ]
  },
  {
   "cell_type": "code",
   "execution_count": 70,
   "metadata": {},
   "outputs": [
    {
     "name": "stdout",
     "output_type": "stream",
     "text": [
      "['http://www.google.com/', 'https://cbswag.com', 'https://exoticads.com/aff/in/mrps/agBmX/?track=top_skyscraper', 'https://exoticads.com/aff/in/mrps/agBmX/?track=mid_skyscraper', 'https://exoticads.com/aff/in/mrps/agBmX/?track=tbot_skyscraper', 'https://exoticads.com/aff/in/mrps/agBmX/?track=left_footer', 'https://exoticads.com/aff/in/mrps/agBmX/?track=mid_footer', 'https://exoticads.com/aff/in/mrps/agBmX/?track=right_footer', 'https://support.chaturbate.com/', 'https://www.surveymonkey.com/r/5XLZ85R', 'https://exoticads.com/', 'https://ar.chaturbate.com/', 'https://de.chaturbate.com/', 'https://el.chaturbate.com/', 'https://en.chaturbate.com/', 'https://es.chaturbate.com/', 'https://fr.chaturbate.com/', 'https://hi.chaturbate.com/', 'https://it.chaturbate.com/', 'https://ja.chaturbate.com/', 'https://ko.chaturbate.com/', 'https://nl.chaturbate.com/', 'https://pt.chaturbate.com/', 'https://ru.chaturbate.com/', 'https://tr.chaturbate.com/', 'https://zh.chaturbate.com/', 'http://www.rtalabel.org/', 'http://www.asacp.org/ASACP.php/']\n",
      "['https://cbswag.com', 'https://chaturbate.com/', 'https://vimeo.com/chaturbate']\n",
      "['https://cbswag.com', 'https://chaturbate.com/', 'https://vimeo.com/chaturbate']\n",
      "['https://cbswag.com', 'https://chaturbate.com/', 'https://vimeo.com/chaturbate']\n",
      "['https://www.zendesk.com/help-center/?utm_source=helpcenter&utm_medium=poweredbyzendesk&utm_campaign=text&utm_content=Multi%20Media%20LLC']\n",
      "['https://www.surveymonkey.com?ut_source=survey_poweredby_home', 'https://www.surveymonkey.com/mp/take-a-tour/?ut_source=survey_poweredby_howitworks', 'https://www.surveymonkey.com/mp/legal/privacy-basics/?ut_source=survey_pp', 'https://help.surveymonkey.com/articles/en_US/kb/About-the-cookies-we-use/?ut_source=survey_pp']\n",
      "['http://www.google.com/', 'https://cbswag.com', 'https://exoticads.com/aff/in/mrps/agBmX/?track=top_skyscraper', 'https://exoticads.com/aff/in/mrps/agBmX/?track=mid_skyscraper', 'https://exoticads.com/aff/in/mrps/agBmX/?track=tbot_skyscraper', 'https://exoticads.com/aff/in/mrps/agBmX/?track=left_footer', 'https://exoticads.com/aff/in/mrps/agBmX/?track=mid_footer', 'https://exoticads.com/aff/in/mrps/agBmX/?track=right_footer', 'https://support.chaturbate.com/', 'https://www.surveymonkey.com/r/5XLZ85R', 'https://exoticads.com/', 'https://ar.chaturbate.com/', 'https://de.chaturbate.com/', 'https://el.chaturbate.com/', 'https://en.chaturbate.com/', 'https://es.chaturbate.com/', 'https://fr.chaturbate.com/', 'https://hi.chaturbate.com/', 'https://it.chaturbate.com/', 'https://ja.chaturbate.com/', 'https://ko.chaturbate.com/', 'https://nl.chaturbate.com/', 'https://pt.chaturbate.com/', 'https://ru.chaturbate.com/', 'https://tr.chaturbate.com/', 'https://zh.chaturbate.com/', 'http://www.rtalabel.org/', 'http://www.asacp.org/ASACP.php/']\n",
      "['https://cbswag.com', 'https://chaturbate.com/', 'https://vimeo.com/chaturbate']\n",
      "['https://cbswag.com', 'https://chaturbate.com/', 'https://vimeo.com/chaturbate']\n",
      "['https://www.zendesk.com/help-center/?utm_source=helpcenter&utm_medium=poweredbyzendesk&utm_campaign=text&utm_content=Multi%20Media%20LLC']\n",
      "['https://www.surveymonkey.com?ut_source=survey_poweredby_home', 'https://www.surveymonkey.com/mp/take-a-tour/?ut_source=survey_poweredby_howitworks', 'https://www.surveymonkey.com/mp/legal/privacy-basics/?ut_source=survey_pp', 'https://help.surveymonkey.com/articles/en_US/kb/About-the-cookies-we-use/?ut_source=survey_pp']\n"
     ]
    }
   ],
   "source": [
    "for website in list(G.nodes()):\n",
    "    print(website.getUrls())"
   ]
  },
  {
   "cell_type": "code",
   "execution_count": 17,
   "metadata": {},
   "outputs": [
    {
     "data": {
      "text/plain": [
       "['https://www.google.com.co/intl/en/about/products?tab=8h',\n",
       " 'https://accounts.google.com/ServiceLogin?passive=1209600&continue=https://play.google.com/store/apps/details?id%3Dcom.google.android.googlequicksearchbox&followup=https://play.google.com/store/apps/details?id%3Dcom.google.android.googlequicksearchbox&ec=GAZATg',\n",
       " 'https://play.google.com/store',\n",
       " 'https://play.google.com/store/apps/category/GAME',\n",
       " 'https://play.google.com/store/apps/category/FAMILY',\n",
       " 'https://play.google.com/store/movies',\n",
       " 'https://play.google.com/movies',\n",
       " 'https://play.google.com/store/movies/stream/promotion_collections_movie_studios',\n",
       " 'https://play.google.com/store/music',\n",
       " 'https://play.google.com/music',\n",
       " 'https://play.google.com/store/books',\n",
       " 'https://play.google.com/store/books/category/audiobooks',\n",
       " 'https://play.google.com/store/paymentmethods',\n",
       " 'https://play.google.com/store/account/subscriptions',\n",
       " 'https://play.google.com/wishlist',\n",
       " 'https://support.google.com/googleplay?p=pff_parentguide',\n",
       " 'https://play.google.com/about/comment-posting-policy.html?hl=en-US',\n",
       " 'https://support.google.com/googleplay?p=appgame_ratings',\n",
       " 'https://support.google.com/googleplay/?p=report_content',\n",
       " 'https://www.google.com/search/about/',\n",
       " 'http://www.google.com/policies/privacy',\n",
       " 'https://play.google.com/intl/en-US_co/about/play-terms.html',\n",
       " 'https://policies.google.com/privacy',\n",
       " 'http://developer.android.com/index.html',\n",
       " 'https://play.google.com/artists',\n",
       " 'https://support.google.com/googleplay/?p=about_play',\n",
       " 'https://payments.google.com/termsOfService?hl=en_US',\n",
       " 'https://payments.google.com/legaldocument?family=0.privacynotice&hl=en_US']"
      ]
     },
     "execution_count": 17,
     "metadata": {},
     "output_type": "execute_result"
    }
   ],
   "source": [
    "list(G.nodes())[25].getUrls()"
   ]
  },
  {
   "cell_type": "code",
   "execution_count": null,
   "metadata": {},
   "outputs": [],
   "source": []
  },
  {
   "cell_type": "code",
   "execution_count": 86,
   "metadata": {},
   "outputs": [
    {
     "name": "stdout",
     "output_type": "stream",
     "text": [
      "Nodo creado\n"
     ]
    },
    {
     "data": {
      "text/plain": [
       "['mx.mileroticos.com',\n",
       " 'www.mileroticos.com',\n",
       " 'www.millerotici.com',\n",
       " 'cl.mileroticos.com',\n",
       " 'br.mileroticos.com',\n",
       " 'www.google.es']"
      ]
     },
     "execution_count": 86,
     "metadata": {},
     "output_type": "execute_result"
    }
   ],
   "source": [
    "root_url = \"https://co.mileroticos.com/\"\n",
    "witness_root = TheWitness(root_url, root_url, 0, 0)\n",
    "result_root = witness_root.scrap()\n",
    "node_root_pos = addNode(G,result_root)-1\n",
    "node_root = list(G.nodes)[node_root_pos]\n",
    "node_root.getUrls()"
   ]
  },
  {
   "cell_type": "markdown",
   "metadata": {},
   "source": [
    "# Final"
   ]
  },
  {
   "cell_type": "code",
   "execution_count": null,
   "metadata": {},
   "outputs": [],
   "source": [
    "def final_algorithm():\n",
    "    G = nx.Graph()"
   ]
  },
  {
   "cell_type": "code",
   "execution_count": 6,
   "metadata": {},
   "outputs": [],
   "source": [
    "# For link in links.\n",
    "def explore_network(result):\n",
    "    \n",
    "    count = 1\n",
    "    for link in result[2]: \n",
    "\n",
    "        \n",
    "        # We already explored this website.\n",
    "        try: \n",
    "            if hashes_map[link]: \n",
    "                pass\n",
    "\n",
    "        # New website!\n",
    "        except:\n",
    "            \n",
    "            navegable = True\n",
    "            for website in omit_pages: \n",
    "                if link.find(website) != -1: \n",
    "                    navegable = False\n",
    "                    \n",
    "\n",
    "            if navegable: \n",
    "                root = \"https://modelosalacarta.com/\"\n",
    "                destination = link\n",
    "                hash_destination = nodeID(destination)\n",
    "                distance_from_root = 1\n",
    "                #hashes_map[destination] = True\n",
    "\n",
    "                witness = TheWitness(\n",
    "                    root, \n",
    "                    destination, \n",
    "                    hash_destination, \n",
    "                    distance_from_root\n",
    "                )\n",
    "                result = witness.scrap()\n",
    "                \n",
    "                print(\"---------------\")\n",
    "                print(\"Agent No.\", count)\n",
    "                print(result)\n",
    "                print(\"---------------\")\n",
    "                \n",
    "                del witness\n",
    "                \n",
    "        count += 1"
   ]
  },
  {
   "cell_type": "code",
   "execution_count": 87,
   "metadata": {},
   "outputs": [
    {
     "ename": "SyntaxError",
     "evalue": "positional argument follows keyword argument (<ipython-input-87-0100589796c9>, line 64)",
     "output_type": "error",
     "traceback": [
      "\u001b[1;36m  File \u001b[1;32m\"<ipython-input-87-0100589796c9>\"\u001b[1;36m, line \u001b[1;32m64\u001b[0m\n\u001b[1;33m    root_witness.getDistance() + 1\u001b[0m\n\u001b[1;37m    ^\u001b[0m\n\u001b[1;31mSyntaxError\u001b[0m\u001b[1;31m:\u001b[0m positional argument follows keyword argument\n"
     ]
    }
   ],
   "source": [
    "# Define functions.\n",
    "\n",
    "\"\"\"\n",
    "This functions return de node's hash.\n",
    "\"\"\"\n",
    "def getNodeHash(url): \n",
    "    websiteHash = hashlib.sha256()\n",
    "    websiteHash.update(url.encode())\n",
    "    return websiteHash.hexdigest()\n",
    "\n",
    "\n",
    "\"\"\"\n",
    "This function add a new node to the global graph.\n",
    "\"\"\"\n",
    "def addNodeToGraph(website_info):\n",
    "    \n",
    "    # This indicates python that we will use a global variable defined previously.\n",
    "    global G\n",
    "    \n",
    "    # Extract the Website info.\n",
    "    website = Website(\n",
    "        ID = website_info[0], \n",
    "        url = website_info[1],\n",
    "        content_type = website_info[2],\n",
    "        language = website_info[3],\n",
    "        urls = website_info[4],\n",
    "        social_networks_urls = website_info[5],\n",
    "        text = website_info[6], \n",
    "        names = website_info[7],\n",
    "        locations = website_info[8],\n",
    "        iframes = website_info[9],\n",
    "        organizations = website_info[10], \n",
    "        dates = website_info[11],\n",
    "        phonenumbers = website_info[12], \n",
    "        images_urls = website_info[13],\n",
    "        payment_accounts = website_info[14],\n",
    "        emails = website_info[15]\n",
    "    )\n",
    "    \n",
    "    # Add website to the graph.\n",
    "    G.add_node(website)\n",
    "    \n",
    "    # Returns the website.\n",
    "    return website\n",
    "\n",
    "\"\"\"\n",
    "Once the first witness has explored the root, released more witnesses!\n",
    "\"\"\"\n",
    "def exploreGraph(website, root_witness):\n",
    "    \n",
    "    global max_distance_from_root\n",
    "    \n",
    "    # If agent is not to far from the initial root website of the explotation.\n",
    "    if root_witness.getDistance() <= max_distance_from_root:\n",
    "    \n",
    "        # For every url in the website.\n",
    "        for destination_url in website.getUrls():\n",
    "\n",
    "            # Initialize a new witness.\n",
    "            new_witness = TheWitness(\n",
    "                            origin_url = website.getUrl(), \n",
    "                            destination_url = destination_url, \n",
    "                            destination_hash = getNodeHash(destination_url), \n",
    "                            root_witness.getDistance() + 1\n",
    "                      )\n",
    "            \n",
    "            # Try to scrap this website!\n",
    "            try:\n",
    "                result = new_witness.scrap()\n",
    "                \n",
    "                # If this website was interesting.\n",
    "                if result != -1:\n",
    "                    \n",
    "                    # Get new website.\n",
    "                    new_website = addNodeToGraph(result)\n",
    "                    \n",
    "                    # Explore the finding of the new witness.\n",
    "                    exploreGraph(new_website, new_witness)\n",
    "                    \n",
    "                # This website is not interesting.\n",
    "                else: \n",
    "                    pass\n",
    "            \n",
    "            # Some error arise when exploring this website: delete the witness.\n",
    "            except:\n",
    "                pass\n",
    "                \n",
    "            # Delete the witness.\n",
    "            del new_witness"
   ]
  },
  {
   "cell_type": "code",
   "execution_count": 41,
   "metadata": {},
   "outputs": [],
   "source": [
    "url = \"https://es.chaturbate.com/\"\n",
    "scraper = TheWitness(url,url,0,0)\n",
    "result = scraper.scrap()"
   ]
  },
  {
   "cell_type": "code",
   "execution_count": 43,
   "metadata": {},
   "outputs": [
    {
     "data": {
      "text/plain": [
       "['http://www.google.com/',\n",
       " 'https://cbswag.com',\n",
       " 'https://exoticads.com/aff/in/mrps/agBmX/?track=top_skyscraper',\n",
       " 'https://exoticads.com/aff/in/mrps/agBmX/?track=mid_skyscraper',\n",
       " 'https://exoticads.com/aff/in/mrps/agBmX/?track=tbot_skyscraper',\n",
       " 'https://exoticads.com/aff/in/mrps/agBmX/?track=left_footer',\n",
       " 'https://exoticads.com/aff/in/mrps/agBmX/?track=mid_footer',\n",
       " 'https://exoticads.com/aff/in/mrps/agBmX/?track=right_footer',\n",
       " 'https://support.chaturbate.com/',\n",
       " 'https://www.surveymonkey.com/r/5XLZ85R',\n",
       " 'https://exoticads.com/',\n",
       " 'https://ar.chaturbate.com/',\n",
       " 'https://de.chaturbate.com/',\n",
       " 'https://el.chaturbate.com/',\n",
       " 'https://en.chaturbate.com/',\n",
       " 'https://es.chaturbate.com/',\n",
       " 'https://fr.chaturbate.com/',\n",
       " 'https://hi.chaturbate.com/',\n",
       " 'https://it.chaturbate.com/',\n",
       " 'https://ja.chaturbate.com/',\n",
       " 'https://ko.chaturbate.com/',\n",
       " 'https://nl.chaturbate.com/',\n",
       " 'https://pt.chaturbate.com/',\n",
       " 'https://ru.chaturbate.com/',\n",
       " 'https://tr.chaturbate.com/',\n",
       " 'https://zh.chaturbate.com/',\n",
       " 'http://www.rtalabel.org/',\n",
       " 'http://www.asacp.org/ASACP.php/']"
      ]
     },
     "execution_count": 43,
     "metadata": {},
     "output_type": "execute_result"
    }
   ],
   "source": [
    "links = result[4]\n",
    "links"
   ]
  },
  {
   "cell_type": "code",
   "execution_count": 51,
   "metadata": {},
   "outputs": [],
   "source": [
    "def is_node_useful(possible_nodes, treshold=0.5):\n",
    "    \n",
    "    final_nodes = []\n",
    "    for possible_node in possible_nodes:\n",
    "        text = get_text_(possible_node)\n",
    "        is_useful = cluster_text(text, treshold)\n",
    "        if is_useful != -1 :\n",
    "            final_nodes.append(possible_node)\n",
    "    return final_nodes"
   ]
  },
  {
   "cell_type": "code",
   "execution_count": 55,
   "metadata": {},
   "outputs": [
    {
     "name": "stdout",
     "output_type": "stream",
     "text": [
      "a\n",
      "a\n",
      "a\n",
      "a\n",
      "a\n",
      "a\n",
      "a\n",
      "a\n",
      "a\n",
      "a\n",
      "a\n",
      "a\n",
      "a\n",
      "a\n",
      "a\n",
      "a\n",
      "a\n",
      "a\n",
      "a\n",
      "a\n",
      "a\n",
      "a\n",
      "a\n",
      "a\n",
      "a\n",
      "a\n",
      "a\n",
      "a\n"
     ]
    },
    {
     "data": {
      "text/plain": [
       "['https://cbswag.com',\n",
       " 'https://support.chaturbate.com/',\n",
       " 'https://www.surveymonkey.com/r/5XLZ85R',\n",
       " 'https://ja.chaturbate.com/']"
      ]
     },
     "execution_count": 55,
     "metadata": {},
     "output_type": "execute_result"
    }
   ],
   "source": [
    "is_node_useful(links)"
   ]
  },
  {
   "cell_type": "code",
   "execution_count": null,
   "metadata": {},
   "outputs": [],
   "source": []
  }
 ],
 "metadata": {
  "kernelspec": {
   "display_name": "Python 3",
   "language": "python",
   "name": "python3"
  },
  "language_info": {
   "codemirror_mode": {
    "name": "ipython",
    "version": 3
   },
   "file_extension": ".py",
   "mimetype": "text/x-python",
   "name": "python",
   "nbconvert_exporter": "python",
   "pygments_lexer": "ipython3",
   "version": "3.7.6"
  }
 },
 "nbformat": 4,
 "nbformat_minor": 4
}
