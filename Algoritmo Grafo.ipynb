{
 "cells": [
  {
   "cell_type": "markdown",
   "metadata": {},
   "source": [
    "# Implentation of the graph"
   ]
  },
  {
   "cell_type": "markdown",
   "metadata": {},
   "source": [
    "- Inicializar el grafo vacio NetworkX\n",
    "- Crear un nodo. Para inicializar ese nodo buscamos en google (Primer resultado)\n",
    "- N engines (computacion en paralelo) que busquen en los links\n",
    "- Filtros URLs, Filtros Organizaciones (Revisar) - GPT2 (Clustering)\n",
    "- Criterio de parada del agente.\n",
    "- https://spacy.io/api/entityrecognizer\n"
   ]
  },
  {
   "cell_type": "code",
   "execution_count": 32,
   "metadata": {},
   "outputs": [],
   "source": [
    "# Connection libraries.\n",
    "import urllib.request, urllib.parse, urllib.error\n",
    "import requests\n",
    "from bs4 import BeautifulSoup\n",
    "#from langdetect import detect\n",
    "import re\n",
    "import hashlib\n",
    "import time\n",
    "import langdetect\n",
    "\n",
    "import spacy\n",
    "import es_core_news_sm\n",
    "import en_core_web_sm\n",
    "import networkx as nx"
   ]
  },
  {
   "cell_type": "code",
   "execution_count": 33,
   "metadata": {},
   "outputs": [],
   "source": [
    "# Import class TheWitness (webscraper)\n",
    "%run ./TheWitness.ipynb\n",
    "\n",
    "# Import class Node \n",
    "%run ./Website.ipynb\n",
    "\n",
    "#Import text clustering model\n",
    "%run ./text_clustering_final.ipynb"
   ]
  },
  {
   "cell_type": "markdown",
   "metadata": {},
   "source": [
    "## Initialize the graph."
   ]
  },
  {
   "cell_type": "code",
   "execution_count": 34,
   "metadata": {},
   "outputs": [],
   "source": [
    "# Initialize graph.\n",
    "G = nx.Graph()\n",
    "\n",
    "# Max distance from root.\n",
    "max_distance_from_root = 2"
   ]
  },
  {
   "cell_type": "markdown",
   "metadata": {},
   "source": [
    "### An brief example of the algorithm."
   ]
  },
  {
   "cell_type": "code",
   "execution_count": 35,
   "metadata": {
    "scrolled": false
   },
   "outputs": [],
   "source": [
    "def addNode(graph, result):\n",
    "    website=Website(result[0], result[1],result[2],result[3],result[4], result[5],result[6], result[7],result[8],result[9],\n",
    "                    result[10], result[11],result[12], result[13],result[14],result[15])\n",
    "    graph.add_node(website)\n",
    "    print(\"Node added\")\n",
    "    return len(list(graph.nodes))"
   ]
  },
  {
   "cell_type": "code",
   "execution_count": 36,
   "metadata": {},
   "outputs": [],
   "source": [
    "def addEdge(graph, node1, node2):\n",
    "    graph.add_edge(node1, node2)\n",
    "    return(len(list(graph.nodes)))"
   ]
  },
  {
   "cell_type": "code",
   "execution_count": 37,
   "metadata": {},
   "outputs": [],
   "source": [
    "def searchable_url(hostname):\n",
    "    return \"https://\" + hostname"
   ]
  },
  {
   "cell_type": "code",
   "execution_count": 38,
   "metadata": {},
   "outputs": [],
   "source": [
    "def get_text_(hostname):\n",
    "    result = requests.get(hostname)\n",
    "    src = result.content\n",
    "    soup = BeautifulSoup(src, 'html.parser')\n",
    "    for script in soup([\"script\", \"style\"]):                   \n",
    "            script.decompose()\n",
    "    text = soup.get_text().replace(\"\\n\",\" \")\n",
    "    text = re.sub('\\s+',' ',text)\n",
    "    \n",
    "    return text"
   ]
  },
  {
   "cell_type": "code",
   "execution_count": 39,
   "metadata": {},
   "outputs": [],
   "source": [
    "final_nodes_urls = []\n",
    "def is_node_useful(possible_nodes, treshold=0.6):\n",
    "    final_nodes = []\n",
    "    for possible_node in possible_nodes:\n",
    "        \n",
    "        text = get_text_(possible_node)\n",
    "        is_useful = cluster_text(text, treshold)\n",
    "#         if is_useful != -1 and possible_node not in final_nodes_urls:\n",
    "        if is_useful != -1:\n",
    "            final_nodes.append(possible_node)\n",
    "        \n",
    "#         final_nodes_urls += final_nodes\n",
    "    return final_nodes"
   ]
  },
  {
   "cell_type": "code",
   "execution_count": 40,
   "metadata": {},
   "outputs": [],
   "source": [
    "def nodes_already_seen(possible_nodes):\n",
    "    final_list = []\n",
    "    for possible_node in possibles_nodes:\n",
    "        if possible_node in final_nodes_urls:\n",
    "            final_list.append(possible_node)\n",
    "    return final_list"
   ]
  },
  {
   "cell_type": "code",
   "execution_count": 41,
   "metadata": {},
   "outputs": [],
   "source": [
    "def index_of_node(graph, node):\n",
    "    graph_list = list(graph)\n",
    "    index = graph_list.index(node)\n",
    "    return index"
   ]
  },
  {
   "cell_type": "code",
   "execution_count": 42,
   "metadata": {},
   "outputs": [],
   "source": [
    "# def explore(graph, predecesor_node_url, node_url, prev_witness)\n",
    "#     if prev_witness.getDistance() > 3:\n",
    "#         pass\n",
    "#     else:\n",
    "#         for node in toVisit_nodes:\n",
    "#             witness = TheWitness(predecesor_node_url, node_url, index_of_node(graph, node_url), witness.getDistance()+1)\n",
    "#             result = witness.scrap()\n",
    "#             addNode(graph, result)\n",
    "#             addEdge(graph, predecesor_node, node)\n",
    "\n",
    "#             for granchild_node in result[4]:\n",
    "#                 explore(graph, node, distance_from_root + 1, )"
   ]
  },
  {
   "cell_type": "code",
   "execution_count": 43,
   "metadata": {},
   "outputs": [],
   "source": [
    "def explore(node, witness):\n",
    "    d=witness.getDistance()\n",
    "    if d<3:\n",
    "        useful_nodes = is_node_useful(node.getUrls())\n",
    "        for n in useful_nodes:\n",
    "            w=TheWitness(node.getUrl(), n, d+1, d+1)\n",
    "            result = w.scrap()\n",
    "            node_pos=addNode(G, result)-1\n",
    "            node1=list(G.nodes)[node_pos]\n",
    "            addEdge(G, node, node1)\n",
    "            del witness\n",
    "            explore(node1, w)"
   ]
  },
  {
   "cell_type": "code",
   "execution_count": 44,
   "metadata": {},
   "outputs": [],
   "source": [
    "roots_indices = []\n",
    "def explore_root(root_url):\n",
    "    global roots_indices\n",
    "\n",
    "    witness_root = TheWitness(root_url, root_url, 0, 0)\n",
    "    result_root = witness_root.scrap()\n",
    "    node_root_pos = addNode(G,result_root)-1\n",
    "    roots_indices.append(node_root_pos)\n",
    "    if len(roots_indices) > 1:\n",
    "        root_curr = list(G.nodes())[roots_indices[len(roots_indices)-1]]\n",
    "        root_prev = list(G.nodes())[roots_indices[len(roots_indices)-2]]\n",
    "        addEdge(G, root_curr, root_prev)\n",
    "\n",
    "    node_root = list(G.nodes)[node_root_pos]\n",
    "    print(\"--------Root created-------------\")\n",
    "    try:\n",
    "        explore(node_root, witness_root)\n",
    "    except:\n",
    "        pass"
   ]
  },
  {
   "cell_type": "code",
   "execution_count": 45,
   "metadata": {},
   "outputs": [],
   "source": [
    "def final_algorithm(roots_list):\n",
    "    global G\n",
    "    G = nx.Graph()\n",
    "    for root in roots_list:\n",
    "        explore_root(root)\n",
    "    return G"
   ]
  },
  {
   "cell_type": "code",
   "execution_count": 46,
   "metadata": {},
   "outputs": [
    {
     "data": {
      "text/plain": [
       "1"
      ]
     },
     "execution_count": 46,
     "metadata": {},
     "output_type": "execute_result"
    }
   ],
   "source": [
    "list_ = [\"a\",\"b\"]\n",
    "index= list_.index(\"b\")\n",
    "index"
   ]
  },
  {
   "cell_type": "code",
   "execution_count": 48,
   "metadata": {},
   "outputs": [],
   "source": [
    "roots_list = [\"https://es.sexcam-shows.com/\", \n",
    "              \"https://chaturbate.com.br/\", \n",
    "              \"https://revistas.unilibre.edu.co/index.php/rc_salud_ocupa/article/view/5128\", \n",
    "              \"https://www.gq.com.mx/cuidado-personal/articulo/sexcam-el-arte-de-erotizar-a-traves-de-una-webcam\", \n",
    "              \"https://es.pornhub.com/video/search?search=sexcam\", \n",
    "              \"https://www.ardienteplacer.com/sexcam\",\n",
    "              \"https://www.pasion.com/webcam-sexcam-eroticas/\",\n",
    "              \"https://www.computrabajo.com.co/empleos-en-bogota-dc\",\n",
    "              \"https://www.elempleo.com/co/\",\n",
    "              \"https://www.elempleo.com/co/ofertas-empleo/bogota\",\n",
    "              \"https://clasificados.eltiempo.com/ofertas-empleos/bogota/\",\n",
    "              \"https://co.indeed.com/\",\n",
    "              \"https://co.indeed.com/Empleos-en-Bogot%C3%A1,-Cundinamarca\",\n",
    "              \"https://co.jooble.org/trabajo/Bogot%C3%A1%2C-D.C.?main\",\n",
    "              \"https://www.serviciodeempleo.gov.co/\",\n",
    "              \"https://bogota.gov.co/servicios/empleo\",\n",
    "              \"https://co.mileroticos.com/escorts/bogota/\",\n",
    "              \"https://www.photoprepagos.com/prepagos/bogota\",\n",
    "              \"https://co.skokka.com/escorts/bogota/\",\n",
    "              \"https://prepagos69.com/bogota/prepagos\",\n",
    "              \"https://pasionprepagos.com/escorts/bogota\",\n",
    "              \"https://www.elsilencio.co/\",\n",
    "              \"https://escortsbogota.co/\",\n",
    "              \"https://lacelestina.co/profiles/ubicacion/Bogota\",\n",
    "              \"https://co.mundosexanuncio.com/prepagos-y-putas-en-bogota-d-c-departamento\",\n",
    "              \"https://chicasyescorts.com.co/escorts-bogota/\",\n",
    "              \"https://es.wikipedia.org/wiki/Trata_de_personas#:~:text=La%20trata%20de%20personas%2C%20comercio,el%20bienestar%20del%20ser%20humano.\",\n",
    "              \"https://www.acnur.org/trata-y-trafico-de-personas.html\",\n",
    "              \"https://www.unodc.org/toc/es/crimes/human-trafficking.html\",\n",
    "              \"https://www.unodc.org/documents/human-trafficking/HT_GPATleaflet07_es.pdf\",\n",
    "              \"https://www.interpol.int/es/Delitos/Trata-de-personas/Tipos-de-trata-de-personas\",\n",
    "              \"https://www.interpol.int/es/Delitos/Trata-de-personas\",\n",
    "              \"https://ayudaenaccion.org/ong/blog/derechos-humanos/diferencias-trata-y-trafico-de-personas/\",\n",
    "              \"https://www.un.org/es/observances/end-human-trafficking-day\",\n",
    "              \"https://www.ohchr.org/SP/Issues/Women/WRGS/Pages/Trafficking.aspx\",\n",
    "              \"https://stockmodels.com.co/\",\n",
    "              \"https://www.modelmanagement.com/es/model-agencies/colombia-CO/\"\n",
    "              \"https://www.studiomodelsfashion.com/\",\n",
    "              \"https://www.bogotamiciudad.com/directoriodebogota/economia/209-383-385/bogota/modelos\",\n",
    "              \"https://www.lhmodels.com/2018/01/agencias-de-modelaje-bogota.html\",\n",
    "              \"https://modelosyartistas.com/\",\n",
    "              \"https://www.burestudios.com/\"\n",
    "             ]"
   ]
  },
  {
   "cell_type": "code",
   "execution_count": null,
   "metadata": {},
   "outputs": [
    {
     "name": "stdout",
     "output_type": "stream",
     "text": [
      "Node added\n",
      "--------Root created-------------\n",
      "Node added\n",
      "--------Root created-------------\n",
      "Node added\n",
      "Node added\n",
      "Node added\n",
      "--------Root created-------------\n"
     ]
    },
    {
     "name": "stderr",
     "output_type": "stream",
     "text": [
      "Some characters could not be decoded, and were replaced with REPLACEMENT CHARACTER.\n",
      "Some characters could not be decoded, and were replaced with REPLACEMENT CHARACTER.\n"
     ]
    },
    {
     "name": "stdout",
     "output_type": "stream",
     "text": [
      "Node added\n"
     ]
    },
    {
     "name": "stderr",
     "output_type": "stream",
     "text": [
      "Some characters could not be decoded, and were replaced with REPLACEMENT CHARACTER.\n"
     ]
    },
    {
     "name": "stdout",
     "output_type": "stream",
     "text": [
      "Node added\n",
      "Node added\n",
      "--------Root created-------------\n"
     ]
    },
    {
     "name": "stderr",
     "output_type": "stream",
     "text": [
      "Some characters could not be decoded, and were replaced with REPLACEMENT CHARACTER.\n"
     ]
    },
    {
     "name": "stdout",
     "output_type": "stream",
     "text": [
      "Node added\n",
      "Node added\n",
      "--------Root created-------------\n",
      "Node added\n",
      "Node added\n",
      "Node added\n",
      "Node added\n",
      "Node added\n",
      "--------Root created-------------\n",
      "Node added\n",
      "Node added\n",
      "Node added\n",
      "Node added\n",
      "Node added\n",
      "--------Root created-------------\n",
      "Node added\n",
      "--------Root created-------------\n",
      "Node added\n",
      "Node added\n",
      "Node added\n",
      "Node added\n",
      "Node added\n",
      "--------Root created-------------\n",
      "Node added\n",
      "--------Root created-------------\n",
      "Node added\n",
      "--------Root created-------------\n",
      "Node added\n",
      "--------Root created-------------\n",
      "Node added\n",
      "Node added\n",
      "Node added\n",
      "Node added\n",
      "Node added\n",
      "--------Root created-------------\n",
      "Node added\n",
      "Node added\n",
      "Node added\n",
      "Node added\n",
      "Node added\n",
      "--------Root created-------------\n",
      "Node added\n",
      "Node added\n",
      "Node added\n",
      "Node added\n",
      "Node added\n",
      "--------Root created-------------\n",
      "Node added\n",
      "--------Root created-------------\n",
      "Node added\n",
      "--------Root created-------------\n",
      "Node added\n",
      "Node added\n",
      "--------Root created-------------\n",
      "Node added\n",
      "--------Root created-------------\n",
      "Node added\n",
      "Node added\n",
      "--------Root created-------------\n",
      "Node added\n",
      "--------Root created-------------\n",
      "Node added\n",
      "Node added\n",
      "--------Root created-------------\n",
      "Node added\n",
      "Node added\n",
      "Node added\n",
      "Node added\n",
      "Node added\n",
      "--------Root created-------------\n",
      "Node added\n",
      "--------Root created-------------\n",
      "Node added\n",
      "Node added\n",
      "Node added\n",
      "Node added\n",
      "Node added\n",
      "--------Root created-------------\n",
      "Node added\n",
      "--------Root created-------------\n",
      "Node added\n",
      "Node added\n",
      "Node added\n",
      "Node added\n",
      "--------Root created-------------\n",
      "Node added\n",
      "--------Root created-------------\n"
     ]
    },
    {
     "name": "stderr",
     "output_type": "stream",
     "text": [
      "Some characters could not be decoded, and were replaced with REPLACEMENT CHARACTER.\n",
      "Some characters could not be decoded, and were replaced with REPLACEMENT CHARACTER.\n",
      "Some characters could not be decoded, and were replaced with REPLACEMENT CHARACTER.\n",
      "Some characters could not be decoded, and were replaced with REPLACEMENT CHARACTER.\n",
      "Some characters could not be decoded, and were replaced with REPLACEMENT CHARACTER.\n"
     ]
    },
    {
     "name": "stdout",
     "output_type": "stream",
     "text": [
      "Node added\n",
      "Node added\n",
      "Node added\n",
      "--------Root created-------------\n"
     ]
    }
   ],
   "source": [
    "final_algorithm(roots_list)\n",
    "G"
   ]
  },
  {
   "cell_type": "code",
   "execution_count": null,
   "metadata": {},
   "outputs": [],
   "source": [
    "nodes = list(G.nodes())\n",
    "nodes[2].getUrl()"
   ]
  },
  {
   "cell_type": "code",
   "execution_count": 19,
   "metadata": {},
   "outputs": [
    {
     "data": {
      "image/png": "[encoded data removed]",
      "text/plain": [
       "<Figure size 432x288 with 1 Axes>"
      ]
     },
     "metadata": {},
     "output_type": "display_data"
    }
   ],
   "source": [
    "import matplotlib.pyplot as plt\n",
    "nx.draw(G, with_labels=False, font_weight='bold')"
   ]
  },
  {
   "cell_type": "code",
   "execution_count": 26,
   "metadata": {},
   "outputs": [
    {
     "ename": "RecursionError",
     "evalue": "maximum recursion depth exceeded while calling a Python object",
     "output_type": "error",
     "traceback": [
      "\u001b[1;31m---------------------------------------------------------------------------\u001b[0m",
      "\u001b[1;31mRecursionError\u001b[0m                            Traceback (most recent call last)",
      "\u001b[1;32m<ipython-input-26-4bf36b441e18>\u001b[0m in \u001b[0;36m<module>\u001b[1;34m\u001b[0m\n\u001b[0;32m      1\u001b[0m \u001b[1;32mimport\u001b[0m \u001b[0mpickle\u001b[0m\u001b[1;33m\u001b[0m\u001b[1;33m\u001b[0m\u001b[0m\n\u001b[1;32m----> 2\u001b[1;33m \u001b[0mpickle\u001b[0m\u001b[1;33m.\u001b[0m\u001b[0mdump\u001b[0m\u001b[1;33m(\u001b[0m\u001b[0mG\u001b[0m\u001b[1;33m,\u001b[0m \u001b[0mopen\u001b[0m\u001b[1;33m(\u001b[0m\u001b[1;34m'graph.txt'\u001b[0m\u001b[1;33m,\u001b[0m \u001b[1;34m'w'\u001b[0m\u001b[1;33m)\u001b[0m\u001b[1;33m)\u001b[0m\u001b[1;33m\u001b[0m\u001b[1;33m\u001b[0m\u001b[0m\n\u001b[0m",
      "\u001b[1;32m~\\anaconda3\\lib\\site-packages\\bs4\\element.py\u001b[0m in \u001b[0;36m__getnewargs__\u001b[1;34m(self)\u001b[0m\n\u001b[0;32m    858\u001b[0m \u001b[1;33m\u001b[0m\u001b[0m\n\u001b[0;32m    859\u001b[0m     \u001b[1;32mdef\u001b[0m \u001b[0m__getnewargs__\u001b[0m\u001b[1;33m(\u001b[0m\u001b[0mself\u001b[0m\u001b[1;33m)\u001b[0m\u001b[1;33m:\u001b[0m\u001b[1;33m\u001b[0m\u001b[1;33m\u001b[0m\u001b[0m\n\u001b[1;32m--> 860\u001b[1;33m         \u001b[1;32mreturn\u001b[0m \u001b[1;33m(\u001b[0m\u001b[0mstr\u001b[0m\u001b[1;33m(\u001b[0m\u001b[0mself\u001b[0m\u001b[1;33m)\u001b[0m\u001b[1;33m,\u001b[0m\u001b[1;33m)\u001b[0m\u001b[1;33m\u001b[0m\u001b[1;33m\u001b[0m\u001b[0m\n\u001b[0m\u001b[0;32m    861\u001b[0m \u001b[1;33m\u001b[0m\u001b[0m\n\u001b[0;32m    862\u001b[0m     \u001b[1;32mdef\u001b[0m \u001b[0m__getattr__\u001b[0m\u001b[1;33m(\u001b[0m\u001b[0mself\u001b[0m\u001b[1;33m,\u001b[0m \u001b[0mattr\u001b[0m\u001b[1;33m)\u001b[0m\u001b[1;33m:\u001b[0m\u001b[1;33m\u001b[0m\u001b[1;33m\u001b[0m\u001b[0m\n",
      "\u001b[1;31mRecursionError\u001b[0m: maximum recursion depth exceeded while calling a Python object"
     ]
    }
   ],
   "source": [
    "import pickle\n",
    "pickle.dump(G, open('graph.txt', 'w'))"
   ]
  },
  {
   "cell_type": "code",
   "execution_count": null,
   "metadata": {},
   "outputs": [],
   "source": [
    "graph_loaded = nx.read_gpickle(\"test.gpickle\")\n",
    "graph_loaded"
   ]
  },
  {
   "cell_type": "code",
   "execution_count": 22,
   "metadata": {},
   "outputs": [
    {
     "ename": "AttributeError",
     "evalue": "'Website' object has no attribute 'score'",
     "output_type": "error",
     "traceback": [
      "\u001b[1;31m---------------------------------------------------------------------------\u001b[0m",
      "\u001b[1;31mAttributeError\u001b[0m                            Traceback (most recent call last)",
      "\u001b[1;32m<ipython-input-22-dc286f855c25>\u001b[0m in \u001b[0;36m<module>\u001b[1;34m\u001b[0m\n\u001b[1;32m----> 1\u001b[1;33m \u001b[0mlist\u001b[0m\u001b[1;33m(\u001b[0m\u001b[0mG\u001b[0m\u001b[1;33m.\u001b[0m\u001b[0mnodes\u001b[0m\u001b[1;33m(\u001b[0m\u001b[1;33m)\u001b[0m\u001b[1;33m)\u001b[0m\u001b[1;33m[\u001b[0m\u001b[1;36m0\u001b[0m\u001b[1;33m]\u001b[0m\u001b[1;33m.\u001b[0m\u001b[0mscore\u001b[0m\u001b[1;33m(\u001b[0m\u001b[1;33m)\u001b[0m\u001b[1;33m\u001b[0m\u001b[1;33m\u001b[0m\u001b[0m\n\u001b[0m",
      "\u001b[1;31mAttributeError\u001b[0m: 'Website' object has no attribute 'score'"
     ]
    }
   ],
   "source": [
    "list(G.nodes())[0].score()"
   ]
  },
  {
   "cell_type": "code",
   "execution_count": 87,
   "metadata": {},
   "outputs": [
    {
     "ename": "SyntaxError",
     "evalue": "positional argument follows keyword argument (<ipython-input-87-0100589796c9>, line 64)",
     "output_type": "error",
     "traceback": [
      "\u001b[1;36m  File \u001b[1;32m\"<ipython-input-87-0100589796c9>\"\u001b[1;36m, line \u001b[1;32m64\u001b[0m\n\u001b[1;33m    root_witness.getDistance() + 1\u001b[0m\n\u001b[1;37m    ^\u001b[0m\n\u001b[1;31mSyntaxError\u001b[0m\u001b[1;31m:\u001b[0m positional argument follows keyword argument\n"
     ]
    }
   ],
   "source": [
    "# For link in links.\n",
    "def explore_network(result):\n",
    "    \n",
    "    count = 1\n",
    "    for link in result[2]: \n",
    "\n",
    "        \n",
    "        # We already explored this website.\n",
    "        try: \n",
    "            if hashes_map[link]: \n",
    "                pass\n",
    "\n",
    "        # New website!\n",
    "        except:\n",
    "            \n",
    "            navegable = True\n",
    "            for website in omit_pages: \n",
    "                if link.find(website) != -1: \n",
    "                    navegable = False\n",
    "                    \n",
    "\n",
    "            if navegable: \n",
    "                root = \"https://modelosalacarta.com/\"\n",
    "                destination = link\n",
    "                hash_destination = nodeID(destination)\n",
    "                distance_from_root = 1\n",
    "                #hashes_map[destination] = True\n",
    "\n",
    "                witness = TheWitness(\n",
    "                    root, \n",
    "                    destination, \n",
    "                    hash_destination, \n",
    "                    distance_from_root\n",
    "                )\n",
    "                result = witness.scrap()\n",
    "                \n",
    "                print(\"---------------\")\n",
    "                print(\"Agent No.\", count)\n",
    "                print(result)\n",
    "                print(\"---------------\")\n",
    "                \n",
    "                del witness\n",
    "                \n",
    "        count += 1\n",
    "\n",
    "\n",
    "# Define functions.\n",
    "\n",
    "\"\"\"\n",
    "This functions return de node's hash.\n",
    "\"\"\"\n",
    "def getNodeHash(url): \n",
    "    websiteHash = hashlib.sha256()\n",
    "    websiteHash.update(url.encode())\n",
    "    return websiteHash.hexdigest()\n",
    "\n",
    "\n",
    "\"\"\"\n",
    "This function add a new node to the global graph.\n",
    "\"\"\"\n",
    "def addNodeToGraph(website_info):\n",
    "    \n",
    "    # This indicates python that we will use a global variable defined previously.\n",
    "    global G\n",
    "    \n",
    "    # Extract the Website info.\n",
    "    website = Website(\n",
    "        ID = website_info[0], \n",
    "        url = website_info[1],\n",
    "        content_type = website_info[2],\n",
    "        language = website_info[3],\n",
    "        urls = website_info[4],\n",
    "        social_networks_urls = website_info[5],\n",
    "        text = website_info[6], \n",
    "        names = website_info[7],\n",
    "        locations = website_info[8],\n",
    "        iframes = website_info[9],\n",
    "        organizations = website_info[10], \n",
    "        dates = website_info[11],\n",
    "        phonenumbers = website_info[12], \n",
    "        images_urls = website_info[13],\n",
    "        payment_accounts = website_info[14],\n",
    "        emails = website_info[15]\n",
    "    )\n",
    "    \n",
    "    # Add website to the graph.\n",
    "    G.add_node(website)\n",
    "    \n",
    "    # Returns the website.\n",
    "    return website\n",
    "\n",
    "\"\"\"\n",
    "Once the first witness has explored the root, released more witnesses!\n",
    "\"\"\"\n",
    "def exploreGraph(website, root_witness):\n",
    "    \n",
    "    global max_distance_from_root\n",
    "    \n",
    "    # If agent is not to far from the initial root website of the explotation.\n",
    "    if root_witness.getDistance() <= max_distance_from_root:\n",
    "    \n",
    "        # For every url in the website.\n",
    "        for destination_url in website.getUrls():\n",
    "\n",
    "            # Initialize a new witness.\n",
    "            new_witness = TheWitness(\n",
    "                            origin_url = website.getUrl(), \n",
    "                            destination_url = destination_url, \n",
    "                            destination_hash = getNodeHash(destination_url), \n",
    "                            root_witness.getDistance() + 1\n",
    "                      )\n",
    "            \n",
    "            # Try to scrap this website!\n",
    "            try:\n",
    "                result = new_witness.scrap()\n",
    "                \n",
    "                # If this website was interesting.\n",
    "                if result != -1:\n",
    "                    \n",
    "                    # Get new website.\n",
    "                    new_website = addNodeToGraph(result)\n",
    "                    \n",
    "                    # Explore the finding of the new witness.\n",
    "                    exploreGraph(new_website, new_witness)\n",
    "                    \n",
    "                # This website is not interesting.\n",
    "                else: \n",
    "                    pass\n",
    "            \n",
    "            # Some error arise when exploring this website: delete the witness.\n",
    "            except:\n",
    "                pass\n",
    "                \n",
    "            # Delete the witness.\n",
    "            del new_witness"
   ]
  }
 ],
 "metadata": {
  "kernelspec": {
   "display_name": "Python 3",
   "language": "python",
   "name": "python3"
  },
  "language_info": {
   "codemirror_mode": {
    "name": "ipython",
    "version": 3
   },
   "file_extension": ".py",
   "mimetype": "text/x-python",
   "name": "python",
   "nbconvert_exporter": "python",
   "pygments_lexer": "ipython3",
   "version": "3.7.3"
  }
 },
 "nbformat": 4,
 "nbformat_minor": 4
}
