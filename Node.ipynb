{
 "cells": [
  {
   "cell_type": "code",
   "execution_count": 1,
   "metadata": {},
   "outputs": [],
   "source": [
    "class Website:\n",
    "    \n",
    "    #--------------------------------------------------------------------------\n",
    "    # CONSTRUCTOR\n",
    "    #--------------------------------------------------------------------------\n",
    "    self.destination_hash, # ID of the website.\n",
    "                self.agent_destination, # URL of the website.\n",
    "                urls,                  # URLS found on the website.\n",
    "                social_networks_urls,  # Social networks urls.\n",
    "                language,              # Language of the website.\n",
    "                text,                  # Text of the website.\n",
    "                names,                 # Names that appeared on the website.\n",
    "                locations,             # Locations mentioned on website.\n",
    "                coordinates,           # Coordinates of maps that appear on the website.\n",
    "                organizations,         # Organization name's.\n",
    "                dates,                 # Dates on the website.\n",
    "                phonenumbers,          # Phonenumbers on the website.\n",
    "                images_urls,           # Images urls.\n",
    "                payment_accounts,      # Payment Accounts (banks, crytpo).\n",
    "                emails                 # Emails on the website.\n",
    "    def __init__(self, ID, url, urls = [], social_networks_urls=[], language, text=\"\", names= [], locations = [], coordinates = [],\n",
    "                 organizations=[], dates = [], phonenumbers = [], images_urls = [],  payment_accounts= [], emails=[] ):\n",
    "\n",
    "        self.ID = ID # (SHA256, \"http://titulopagina.com\")\n",
    "        self.url = url\n",
    "        self.language = language\n",
    "        self.names =names\n",
    "        self.locations=locations\n",
    "        self.urls=urls\n",
    "        self.phonenumbers=phonenumbers\n",
    "        self.coordinates = cooordinates\n",
    "        self.images_urls=images_urls\n",
    "        self.dates=dates\n",
    "        self.payment_accounts=payment_accounts\n",
    "        self.emails=emails\n",
    "        self.organizations=organizations\n",
    "        self.text=text\n",
    "        self.social_networks_urls=social_networks_urls\n",
    "    def info():\n",
    "        print(\"ID: \"+self.ID)\n",
    "        print(\"\")\n",
    "    #--------------------------------------------------------------------------\n",
    "    # METODOS\n",
    "    #--------------------------------------------------------------------------\n",
    "    \n",
    "    def __str__(self):\n",
    "        return \"URL asociada es \" + self.url\n",
    "    "
   ]
  },
  {
   "cell_type": "code",
   "execution_count": 1,
   "metadata": {},
   "outputs": [],
   "source": [
    "import networkx as nx\n",
    "G = nx.Graph()"
   ]
  },
  {
   "cell_type": "code",
   "execution_count": null,
   "metadata": {},
   "outputs": [],
   "source": []
  },
  {
   "cell_type": "code",
   "execution_count": null,
   "metadata": {},
   "outputs": [],
   "source": []
  },
  {
   "cell_type": "code",
   "execution_count": null,
   "metadata": {},
   "outputs": [],
   "source": []
  },
  {
   "cell_type": "code",
   "execution_count": null,
   "metadata": {},
   "outputs": [],
   "source": []
  },
  {
   "cell_type": "code",
   "execution_count": null,
   "metadata": {},
   "outputs": [],
   "source": []
  },
  {
   "cell_type": "code",
   "execution_count": null,
   "metadata": {},
   "outputs": [],
   "source": []
  },
  {
   "cell_type": "code",
   "execution_count": null,
   "metadata": {},
   "outputs": [],
   "source": []
  },
  {
   "cell_type": "code",
   "execution_count": null,
   "metadata": {},
   "outputs": [],
   "source": []
  },
  {
   "cell_type": "code",
   "execution_count": null,
   "metadata": {},
   "outputs": [],
   "source": []
  },
  {
   "cell_type": "code",
   "execution_count": null,
   "metadata": {},
   "outputs": [],
   "source": []
  },
  {
   "cell_type": "code",
   "execution_count": null,
   "metadata": {},
   "outputs": [],
   "source": []
  },
  {
   "cell_type": "code",
   "execution_count": null,
   "metadata": {},
   "outputs": [],
   "source": []
  },
  {
   "cell_type": "code",
   "execution_count": null,
   "metadata": {},
   "outputs": [],
   "source": []
  }
 ],
 "metadata": {
  "kernelspec": {
   "display_name": "Python 3",
   "language": "python",
   "name": "python3"
  },
  "language_info": {
   "codemirror_mode": {
    "name": "ipython",
    "version": 3
   },
   "file_extension": ".py",
   "mimetype": "text/x-python",
   "name": "python",
   "nbconvert_exporter": "python",
   "pygments_lexer": "ipython3",
   "version": "3.7.6"
  }
 },
 "nbformat": 4,
 "nbformat_minor": 4
}
