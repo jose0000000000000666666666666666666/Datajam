{
 "cells": [
  {
   "cell_type": "code",
   "execution_count": 1,
   "metadata": {},
   "outputs": [],
   "source": [
    "class Node:\n",
    "    \n",
    "    #--------------------------------------------------------------------------\n",
    "    # CONSTRUCTOR\n",
    "    #--------------------------------------------------------------------------\n",
    "    \n",
    "    def __init__(self, ID, url, language, names= [], locations = [], urls = [], numbers = [], coordinates = \"0,0\", images = [], dates = [], \n",
    "                 payment_accounts= [], emails=[], organizations=[], text=\"\", social_networks=[]):\n",
    "\n",
    "        self.ID = ID # (SHA256, \"http://titulopagina.com\")\n",
    "        self.url = url\n",
    "        self.language = language\n",
    "        self.names =names\n",
    "        self.locations=locations\n",
    "        self.urls=urls\n",
    "        self.numbers=numbers\n",
    "        self.coordinates = cooordinates\n",
    "        self.images=images\n",
    "        self.dates=dates\n",
    "        self.payment_accounts=payment_accounts\n",
    "        self.emails=emails\n",
    "        self.organizations=organizations\n",
    "        self.text=text\n",
    "        self.social_networks=social_networks\n",
    "        \n",
    "    #--------------------------------------------------------------------------\n",
    "    # METODOS\n",
    "    #--------------------------------------------------------------------------\n",
    "    \n",
    "    def __str__(self):\n",
    "        return \"The associated ID is: \" + self.ID\n",
    "        \n",
    "        \n",
    "    #--------------------------------------------------------------------------\n",
    "    # METODOS SET\n",
    "    #--------------------------------------------------------------------------\n",
    "    \n",
    "    def setLanguage(self, newLanguage):\n",
    "        self.language=newLanguage\n",
    "        \n",
    "    def setNames(self, newNames):\n",
    "        self.names=newNames   \n",
    "        \n",
    "    def setLocations(self, newLocations):\n",
    "        self.locations=newLocations\n",
    "        \n",
    "    def setUrls(self, newUrls):\n",
    "        self.urls=newUrls\n",
    "        \n",
    "    def setNumbers(self, newNumbers):\n",
    "        self.numbers=newNumbers\n",
    "        \n",
    "    def setCoordinates(self, newCoordinates):\n",
    "        self.coordinates=newCoordinates\n",
    "        \n",
    "    def setImages(self, newImages):\n",
    "        self.images=newImages\n",
    "        \n",
    "    def setDates(self, newDates):\n",
    "        self.dates=newDates\n",
    "        \n",
    "    def setPaymentAccounts(self, newPaymentAccounts):\n",
    "        self.payment_accounts=newPaymentAccounts\n",
    "        \n",
    "    def setEmails(self, newEmails):\n",
    "        self.emails=newEmails\n",
    "        \n",
    "    def setOrganizations(self, newOrganizations):\n",
    "        self.organizations=newOrganizations\n",
    "        \n",
    "    def setText(self, newText):\n",
    "        self.text=newText\n",
    "        \n",
    "    def setSocialNetworks(self, newSocialNetworks):\n",
    "        self.social_networks=newSocialNetworks\n",
    "        \n",
    "    \n",
    "    #--------------------------------------------------------------------------\n",
    "    # METODOS GET\n",
    "    #--------------------------------------------------------------------------\n",
    "    \n",
    "    def getID(self):\n",
    "        return self.ID\n",
    "    \n",
    "    def getUrl(self):\n",
    "        return self.url\n",
    "    \n",
    "    def getLanguage(self):\n",
    "        return self.language\n",
    "    \n",
    "    def getNames(self):\n",
    "        return self.names\n",
    "    \n",
    "    def getLocations(self):\n",
    "        return self.locations\n",
    "    \n",
    "    def getUrls(self):\n",
    "        return self.urls\n",
    "    \n",
    "    def getNumbers(self):\n",
    "        return self.numbers\n",
    "    \n",
    "    def getCoordinates(self):\n",
    "        return self.coordinates\n",
    "    \n",
    "    def getImages(self):\n",
    "        return self.images\n",
    "    \n",
    "    def getDates(self):\n",
    "        return self.dates\n",
    "    \n",
    "    def getPaymentAccounts(self):\n",
    "        return self.payment_accounts\n",
    "    \n",
    "    def getEmails(self):\n",
    "        return self.emails\n",
    "    \n",
    "    def getOrganizations(self):\n",
    "        return self.organizations\n",
    "    \n",
    "    def getText(self):\n",
    "        return self.text\n",
    "    \n",
    "    def getSocialNetworks(self):\n",
    "        return self.social_networks\n",
    "    \n",
    "  \n",
    "\n",
    "    \n",
    "    \n",
    "    "
   ]
  },
  {
   "cell_type": "code",
   "execution_count": 3,
   "metadata": {},
   "outputs": [],
   "source": [
    "m = Node(849, \"eg\")"
   ]
  },
  {
   "cell_type": "code",
   "execution_count": 4,
   "metadata": {},
   "outputs": [
    {
     "data": {
      "text/plain": [
       "<__main__.Node at 0x19b42fb55f8>"
      ]
     },
     "execution_count": 4,
     "metadata": {},
     "output_type": "execute_result"
    }
   ],
   "source": [
    "m"
   ]
  },
  {
   "cell_type": "code",
   "execution_count": null,
   "metadata": {},
   "outputs": [],
   "source": []
  },
  {
   "cell_type": "code",
   "execution_count": null,
   "metadata": {},
   "outputs": [],
   "source": []
  },
  {
   "cell_type": "code",
   "execution_count": null,
   "metadata": {},
   "outputs": [],
   "source": []
  },
  {
   "cell_type": "code",
   "execution_count": null,
   "metadata": {},
   "outputs": [],
   "source": []
  },
  {
   "cell_type": "code",
   "execution_count": null,
   "metadata": {},
   "outputs": [],
   "source": []
  },
  {
   "cell_type": "code",
   "execution_count": null,
   "metadata": {},
   "outputs": [],
   "source": []
  },
  {
   "cell_type": "code",
   "execution_count": null,
   "metadata": {},
   "outputs": [],
   "source": []
  },
  {
   "cell_type": "code",
   "execution_count": null,
   "metadata": {},
   "outputs": [],
   "source": []
  },
  {
   "cell_type": "code",
   "execution_count": null,
   "metadata": {},
   "outputs": [],
   "source": []
  },
  {
   "cell_type": "code",
   "execution_count": null,
   "metadata": {},
   "outputs": [],
   "source": []
  },
  {
   "cell_type": "code",
   "execution_count": null,
   "metadata": {},
   "outputs": [],
   "source": []
  },
  {
   "cell_type": "code",
   "execution_count": null,
   "metadata": {},
   "outputs": [],
   "source": []
  }
 ],
 "metadata": {
  "kernelspec": {
   "display_name": "Python 3",
   "language": "python",
   "name": "python3"
  },
  "language_info": {
   "codemirror_mode": {
    "name": "ipython",
    "version": 3
   },
   "file_extension": ".py",
   "mimetype": "text/x-python",
   "name": "python",
   "nbconvert_exporter": "python",
   "pygments_lexer": "ipython3",
   "version": "3.8.3"
  }
 },
 "nbformat": 4,
 "nbformat_minor": 4
}
