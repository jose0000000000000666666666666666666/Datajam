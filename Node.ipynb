{
 "cells": [
  {
   "cell_type": "code",
   "execution_count": 1,
   "metadata": {},
   "outputs": [],
   "source": [
    "class Node:\n",
    "    \n",
    "    #--------------------------------------------------------------------------\n",
    "    # CONSTRUCTOR\n",
    "    #--------------------------------------------------------------------------\n",
    "    \n",
    "    def __init__(self, ID, url, names= [], locations = [], urls = [], numbers = [],images = [], dates = [], \n",
    "                 payment_accounts= [], emails=[], organizations=[], text=\"\", social_networks=[]):\n",
    "        self.ID = ID\n",
    "        self.url = url\n",
    "        self.names =names\n",
    "        self.locations=locations\n",
    "        self.urls=urls\n",
    "        self.numbers=numbers\n",
    "        self.images=images\n",
    "        self.dates=dates\n",
    "        self.payment_accounts=payment_accounts\n",
    "        self.emails=emails\n",
    "        self.organizations=organizations\n",
    "        self.text=text\n",
    "        self.social_networks=social_networks\n",
    "    \n",
    "    #--------------------------------------------------------------------------\n",
    "    # METODOS\n",
    "    #--------------------------------------------------------------------------\n",
    "    \n",
    "    def __str__(self):\n",
    "        return \"URL asociada es \" + self.url\n",
    "    "
   ]
  },
  {
   "cell_type": "code",
   "execution_count": null,
   "metadata": {},
   "outputs": [],
   "source": []
  },
  {
   "cell_type": "code",
   "execution_count": null,
   "metadata": {},
   "outputs": [],
   "source": []
  },
  {
   "cell_type": "code",
   "execution_count": null,
   "metadata": {},
   "outputs": [],
   "source": []
  },
  {
   "cell_type": "code",
   "execution_count": null,
   "metadata": {},
   "outputs": [],
   "source": []
  },
  {
   "cell_type": "code",
   "execution_count": null,
   "metadata": {},
   "outputs": [],
   "source": []
  },
  {
   "cell_type": "code",
   "execution_count": null,
   "metadata": {},
   "outputs": [],
   "source": []
  },
  {
   "cell_type": "code",
   "execution_count": null,
   "metadata": {},
   "outputs": [],
   "source": []
  },
  {
   "cell_type": "code",
   "execution_count": null,
   "metadata": {},
   "outputs": [],
   "source": []
  },
  {
   "cell_type": "code",
   "execution_count": null,
   "metadata": {},
   "outputs": [],
   "source": []
  },
  {
   "cell_type": "code",
   "execution_count": null,
   "metadata": {},
   "outputs": [],
   "source": []
  },
  {
   "cell_type": "code",
   "execution_count": null,
   "metadata": {},
   "outputs": [],
   "source": []
  },
  {
   "cell_type": "code",
   "execution_count": null,
   "metadata": {},
   "outputs": [],
   "source": []
  },
  {
   "cell_type": "code",
   "execution_count": null,
   "metadata": {},
   "outputs": [],
   "source": []
  },
  {
   "cell_type": "code",
   "execution_count": null,
   "metadata": {},
   "outputs": [],
   "source": []
  }
 ],
 "metadata": {
  "kernelspec": {
   "display_name": "Python 3",
   "language": "python",
   "name": "python3"
  },
  "language_info": {
   "codemirror_mode": {
    "name": "ipython",
    "version": 3
   },
   "file_extension": ".py",
   "mimetype": "text/x-python",
   "name": "python",
   "nbconvert_exporter": "python",
   "pygments_lexer": "ipython3",
   "version": "3.7.6"
  }
 },
 "nbformat": 4,
 "nbformat_minor": 4
}
