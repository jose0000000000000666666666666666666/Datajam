{
 "cells": [
  {
   "cell_type": "markdown",
   "metadata": {},
   "source": [
    "# Travel to the Deep Web.\n",
    "\n",
    "- Estudiar cada buscador.\n",
    "- Entender la estructura del buscador.\n",
    "- Entender cómo construir las búsquedas.\n",
    "- Tener una lista de búsquedas clave."
   ]
  },
  {
   "cell_type": "code",
   "execution_count": 56,
   "metadata": {},
   "outputs": [],
   "source": [
    "# Import libraries.\n",
    "import requests"
   ]
  },
  {
   "cell_type": "code",
   "execution_count": 62,
   "metadata": {},
   "outputs": [],
   "source": [
    "%run ./WebScrapping_TareaJuan.ipynb"
   ]
  },
  {
   "cell_type": "code",
   "execution_count": 61,
   "metadata": {},
   "outputs": [],
   "source": [
    "# Most popular search services Deep Web.\n",
    "services_links = [\n",
    "    \"msydqstlz2kzerdg.onion\", # Ahmia\n",
    "    \"xmh57jrzrnw6insl.onion\", # Torch\n",
    "    \"dnmugu4755642434.onion\", # Kilos\n",
    "    \"hss3uro2hsxfogfq.onion\", # Not Evil\n",
    "    \"gjobqjj7wyczbqie.onion\", # Candle\n",
    "    \"haystakvxad7wbk5.onion\", # HayStak\n",
    "    \"abikogailmonxlzl.onion\", # Abiko\n",
    "    \"3bbaaaccczcbdddz.onion\"  # Onion Landa\n",
    "]"
   ]
  },
  {
   "cell_type": "code",
   "execution_count": 57,
   "metadata": {},
   "outputs": [],
   "source": [
    "# Configure tor session. TOR runs on 9050 on Debian Server!\n",
    "session = requests.session()\n",
    "session.proxies = {}\n",
    "session.proxies[\"http\"] = \"socks5h://localhost:9150\"\n",
    "session.proxies[\"https\"] = \"socks5h://localhost:9150\"\n",
    "\n",
    "# Set headers.\n",
    "headers = {}\n",
    "headers[\"User-agent\"] = \"Mozilla/5.0 (Windows NT 10.0; rv:68.0) Gecko/20100101 Firefox/68.0\""
   ]
  },
  {
   "cell_type": "code",
   "execution_count": 58,
   "metadata": {},
   "outputs": [
    {
     "name": "stdout",
     "output_type": "stream",
     "text": [
      "{\n",
      "  \"origin\": \"54.38.81.231\"\n",
      "}\n",
      "\n"
     ]
    }
   ],
   "source": [
    "# We are in East Africa!\n",
    "r = session.get(\"http://httpbin.org/ip\", headers = headers)\n",
    "print(r.text)"
   ]
  },
  {
   "cell_type": "code",
   "execution_count": 59,
   "metadata": {},
   "outputs": [
    {
     "name": "stdout",
     "output_type": "stream",
     "text": [
      "{\n",
      "  \"user-agent\": \"Mozilla/5.0 (Windows NT 10.0; rv:68.0) Gecko/20100101 Firefox/68.0\"\n",
      "}\n",
      "\n"
     ]
    }
   ],
   "source": [
    "r = session.get(\"https://httpbin.org/user-agent\", headers = headers)\n",
    "print(r.text)"
   ]
  },
  {
   "cell_type": "code",
   "execution_count": 88,
   "metadata": {},
   "outputs": [],
   "source": [
    "# Navegate to deep web.\n",
    "\n",
    "# Not Evil\n",
    "url = \"http://hss3uro2hsxfogfq.onion/index.php?q=child+pornografy\"\n",
    "\n",
    "# Ahmia\n",
    "url = \"http://msydqstlz2kzerdg.onion/search/?q=porn+teen\"\n",
    "\n",
    "# Torch\n",
    "url = \"http://xmh57jrzrnw6insl.onion/4a1f6b371c/search.cgi?s=DRP&q=8yo&cmd=Search%21\" \n",
    "\n",
    "\n",
    "r = session.get(url, headers = headers)\n",
    "data = r.text\n",
    "soup = BeautifulSoup(data, \"html.parser\")"
   ]
  },
  {
   "cell_type": "code",
   "execution_count": 89,
   "metadata": {},
   "outputs": [],
   "source": [
    "urls, social_networks, cellphones = find_links(url, social_path, soup)"
   ]
  },
  {
   "cell_type": "code",
   "execution_count": 90,
   "metadata": {},
   "outputs": [
    {
     "data": {
      "text/plain": [
       "'http://xmh57jrzrnw6insl.onion/4a1f6b371c/search.cgi?s=DRP&q=8yo&cmd=Search%21'"
      ]
     },
     "execution_count": 90,
     "metadata": {},
     "output_type": "execute_result"
    }
   ],
   "source": [
    "url"
   ]
  },
  {
   "cell_type": "code",
   "execution_count": 91,
   "metadata": {},
   "outputs": [],
   "source": [
    "internal_links, external_links = internal_external_links(url, urls)"
   ]
  },
  {
   "cell_type": "code",
   "execution_count": 92,
   "metadata": {},
   "outputs": [
    {
     "data": {
      "text/plain": [
       "['http://xmh57jrzrnw6insl.onion/4a1f6b371c/search.cgi?s=DRP&q=8yo&cmd=Search%21/']"
      ]
     },
     "execution_count": 92,
     "metadata": {},
     "output_type": "execute_result"
    }
   ],
   "source": [
    "internal_links"
   ]
  },
  {
   "cell_type": "code",
   "execution_count": 93,
   "metadata": {
    "scrolled": false
   },
   "outputs": [
    {
     "data": {
      "text/plain": [
       "['?form=extended&qprev=8yo',\n",
       " '?cmd=Search!&q=8yo&s=RPD',\n",
       " '?cmd=Search!&q=8yo&s=SRPD&su=title',\n",
       " 'http://mkingdompdzmk7e3.onion/app.php/rules?sid=2370f82809a43800356d688d82101e44',\n",
       " '?cc=1&URL=http:%2F%2Fmkingdompdzmk7e3.onion%2Fapp.php%2Frules%3Fsid=2370f82809a43800356d688d82101e44&q=8yo&wm=wrd',\n",
       " 'http://oxwugzccvk3dk6tj.onion/waifuist/res/686741.html',\n",
       " 'http://feetlovey2o6xggy.onion/showthread.php?tid=599&pid=1225',\n",
       " '?cc=1&URL=http:%2F%2Ffeetlovey2o6xggy.onion%2Fshowthread.php%3Ftid=599%26pid=1225&q=8yo&wm=wrd',\n",
       " 'http://feetlovey2o6xggy.onion/forumdisplay.php?fid=19&page=3&sortby=replies',\n",
       " '?cc=1&URL=http:%2F%2Ffeetlovey2o6xggy.onion%2Fforumdisplay.php%3Ffid=19%26page=3%26sortby=replies&q=8yo&wm=wrd',\n",
       " 'http://feetlovey2o6xggy.onion/syndication.php?type=atom1.0&fid=19',\n",
       " '?cc=1&URL=http:%2F%2Ffeetlovey2o6xggy.onion%2Fsyndication.php%3Ftype=atom1.0%26fid=19&q=8yo&wm=wrd',\n",
       " 'http://feetlovey2o6xggy.onion/archive/index.php?forum-19.html',\n",
       " '?cc=1&URL=http:%2F%2Ffeetlovey2o6xggy.onion%2Farchive%2Findex.php%3Fforum-19.html&q=8yo&wm=wrd',\n",
       " 'http://gxmrzk2s56oxzb3e.onion/res/7457.html',\n",
       " '?cc=1&URL=http:%2F%2Fgxmrzk2s56oxzb3e.onion%2Fres%2F7457.html&q=8yo&wm=wrd',\n",
       " 'http://fastcp3h65hcyyoe.onion/saved/320/',\n",
       " '?cc=1&URL=http:%2F%2Ffastcp3h65hcyyoe.onion%2Fsaved%2F320%2F&q=8yo&wm=wrd',\n",
       " 'http://fastcp3h65hcyyoe.onion/saved/318/',\n",
       " '?cc=1&URL=http:%2F%2Ffastcp3h65hcyyoe.onion%2Fsaved%2F318%2F&q=8yo&wm=wrd',\n",
       " 'http://fastcp3h65hcyyoe.onion/saved/281/',\n",
       " '?cc=1&URL=http:%2F%2Ffastcp3h65hcyyoe.onion%2Fsaved%2F281%2F&q=8yo&wm=wrd',\n",
       " '?cmd=Search!&np=1&q=8yo&s=DRP']"
      ]
     },
     "execution_count": 93,
     "metadata": {},
     "output_type": "execute_result"
    }
   ],
   "source": [
    "external_links"
   ]
  },
  {
   "cell_type": "markdown",
   "metadata": {},
   "source": [
    "**1. Ahmia:** todos los links son internos. La palabra a buscar es redirect_url="
   ]
  },
  {
   "cell_type": "code",
   "execution_count": 87,
   "metadata": {},
   "outputs": [
    {
     "data": {
      "text/plain": [
       "[]"
      ]
     },
     "execution_count": 87,
     "metadata": {},
     "output_type": "execute_result"
    }
   ],
   "source": [
    "social_networks"
   ]
  },
  {
   "cell_type": "code",
   "execution_count": 75,
   "metadata": {},
   "outputs": [
    {
     "data": {
      "text/plain": [
       "['http://hss3uro2hsxfogfq.onion/index.php?q=child+pornografy/chat?q=/dev/null',\n",
       " 'http://hss3uro2hsxfogfq.onion/index.php?q=child+pornografy/chat?q=zm-zork1-B99AB45A-D5C0-423B-A651-DEA8A629DD70',\n",
       " 'http://hss3uro2hsxfogfq.onion/index.php?q=child+pornografy/?q=Shall we play a game?',\n",
       " 'http://hss3uro2hsxfogfq.onion/',\n",
       " 'http://hss3uro2hsxfogfq.onion/index.php?q=child+pornografy/chat?q=child+pornografy',\n",
       " 'http://hss3uro2hsxfogfq.onion/index.php?q=child+pornografy/chat?q=ned-chat-3A1AEBC7-A598-4EA6-93A1-8CCE94023E56',\n",
       " './index.php?q=child+pornografy&session=e6A%2FwbVGoxzbc2gayWarNZjIP06ZnsMbbRCTe8NyI38%3D&hostLimit=20&start=20&numRows=20&template=0',\n",
       " './index.php?q=child+pornografy&session=e6A%2FwbVGoxzbc2gayWarNZjIP06ZnsMbbRCTe8NyI38%3D&hostLimit=20&start=40&numRows=20&template=0',\n",
       " './index.php?q=child+pornografy&session=e6A%2FwbVGoxzbc2gayWarNZjIP06ZnsMbbRCTe8NyI38%3D&hostLimit=20&start=60&numRows=20&template=0',\n",
       " './index.php?q=child+pornografy&session=e6A%2FwbVGoxzbc2gayWarNZjIP06ZnsMbbRCTe8NyI38%3D&hostLimit=20&start=80&numRows=20&template=0',\n",
       " './index.php?q=child+pornografy&session=e6A%2FwbVGoxzbc2gayWarNZjIP06ZnsMbbRCTe8NyI38%3D&hostLimit=20&start=100&numRows=20&template=0',\n",
       " './index.php?q=child+pornografy&session=e6A%2FwbVGoxzbc2gayWarNZjIP06ZnsMbbRCTe8NyI38%3D&hostLimit=20&start=120&numRows=20&template=0',\n",
       " './index.php?q=child+pornografy&session=e6A%2FwbVGoxzbc2gayWarNZjIP06ZnsMbbRCTe8NyI38%3D&hostLimit=20&start=140&numRows=20&template=0',\n",
       " './index.php?q=child+pornografy&session=e6A%2FwbVGoxzbc2gayWarNZjIP06ZnsMbbRCTe8NyI38%3D&hostLimit=20&start=160&numRows=20&template=0',\n",
       " './index.php?q=child+pornografy&session=e6A%2FwbVGoxzbc2gayWarNZjIP06ZnsMbbRCTe8NyI38%3D&hostLimit=20&start=180&numRows=20&template=0',\n",
       " './index.php?q=child+pornografy&session=e6A%2FwbVGoxzbc2gayWarNZjIP06ZnsMbbRCTe8NyI38%3D&hostLimit=20&start=200&numRows=20&template=0',\n",
       " './index.php?q=child+pornografy&session=e6A%2FwbVGoxzbc2gayWarNZjIP06ZnsMbbRCTe8NyI38%3D&hostLimit=20&start=220&numRows=20&template=0',\n",
       " './index.php?q=child+pornografy&session=e6A%2FwbVGoxzbc2gayWarNZjIP06ZnsMbbRCTe8NyI38%3D&hostLimit=20&start=240&numRows=20&template=0',\n",
       " './index.php?q=child+pornografy&session=e6A%2FwbVGoxzbc2gayWarNZjIP06ZnsMbbRCTe8NyI38%3D&hostLimit=20&start=260&numRows=20&template=0',\n",
       " './index.php?q=child+pornografy&session=e6A%2FwbVGoxzbc2gayWarNZjIP06ZnsMbbRCTe8NyI38%3D&hostLimit=20&start=280&numRows=20&template=0',\n",
       " './index.php?q=child+pornografy&session=e6A%2FwbVGoxzbc2gayWarNZjIP06ZnsMbbRCTe8NyI38%3D&hostLimit=20&start=300&numRows=20&template=0',\n",
       " './index.php?q=child+pornografy&session=e6A%2FwbVGoxzbc2gayWarNZjIP06ZnsMbbRCTe8NyI38%3D&hostLimit=20&start=320&numRows=20&template=0',\n",
       " './r2d.php?url=http%3A%2F%2Fstationmfwzf6dyz.onion&q=nf4mTTk7X54juz27QN0cknFZy7xZSS8mJuCa2UUIMqfuwj1JdtW5zfWYxIiA8FEW&idx=0&session=e6A%2FwbVGoxzbc2gayWarNZjIP06ZnsMbbRCTe8NyI38%3D',\n",
       " 'http://hss3uro2hsxfogfq.onion/index.php?q=child+pornografy/chat?q=stationmfwzf6dyz.onion',\n",
       " 'contact.php?reason=abuseSearch&text=http%3A%2F%2Fstationmfwzf6dyz.onion',\n",
       " 'contact.php?reason=abuseClone&text=http%3A%2F%2Fstationmfwzf6dyz.onion',\n",
       " 'contact.php?reason=abuseCP&text=http%3A%2F%2Fstationmfwzf6dyz.onion',\n",
       " 'contact.php?reason=otherBestOf&text=http%3A%2F%2Fstationmfwzf6dyz.onion',\n",
       " './r2d.php?url=http%3A%2F%2Fmrd7bne4p5udarkpmilofqxa52wdgczzn76f3pbha752f5ec23fm6eid.onion&q=nf4mTTk7X54juz27QN0ckm5jSsa84pYUUcf9qMjQ%2B6xLJtTXIqkFv4mK8CWTK9SW&idx=1&session=e6A%2FwbVGoxzbc2gayWarNZjIP06ZnsMbbRCTe8NyI38%3D',\n",
       " 'http://hss3uro2hsxfogfq.onion/index.php?q=child+pornografy/chat?q=a752f5ec23fm6eid.onion',\n",
       " 'contact.php?reason=abuseSearch&text=http%3A%2F%2Fmrd7bne4p5udarkpmilofqxa52wdgczzn76f3pbha752f5ec23fm6eid.onion',\n",
       " 'contact.php?reason=abuseClone&text=http%3A%2F%2Fmrd7bne4p5udarkpmilofqxa52wdgczzn76f3pbha752f5ec23fm6eid.onion',\n",
       " 'contact.php?reason=abuseCP&text=http%3A%2F%2Fmrd7bne4p5udarkpmilofqxa52wdgczzn76f3pbha752f5ec23fm6eid.onion',\n",
       " 'contact.php?reason=otherBestOf&text=http%3A%2F%2Fmrd7bne4p5udarkpmilofqxa52wdgczzn76f3pbha752f5ec23fm6eid.onion',\n",
       " './r2d.php?url=http%3A%2F%2Fstationdmosxiwo63u4ymtgso6ak2vuuuydp7crssnwhklkns75obaqd.onion&q=nf4mTTk7X54juz27QN0ckki3OJ0CyfsOpuYz1Wu0LjwYROH3V6m7StYYOVQCTuY0&idx=2&session=e6A%2FwbVGoxzbc2gayWarNZjIP06ZnsMbbRCTe8NyI38%3D',\n",
       " 'http://hss3uro2hsxfogfq.onion/index.php?q=child+pornografy/chat?q=snwhklkns75obaqd.onion',\n",
       " 'contact.php?reason=abuseSearch&text=http%3A%2F%2Fstationdmosxiwo63u4ymtgso6ak2vuuuydp7crssnwhklkns75obaqd.onion',\n",
       " 'contact.php?reason=abuseClone&text=http%3A%2F%2Fstationdmosxiwo63u4ymtgso6ak2vuuuydp7crssnwhklkns75obaqd.onion',\n",
       " 'contact.php?reason=abuseCP&text=http%3A%2F%2Fstationdmosxiwo63u4ymtgso6ak2vuuuydp7crssnwhklkns75obaqd.onion',\n",
       " 'contact.php?reason=otherBestOf&text=http%3A%2F%2Fstationdmosxiwo63u4ymtgso6ak2vuuuydp7crssnwhklkns75obaqd.onion',\n",
       " './r2d.php?url=http%3A%2F%2Fstationdmosxiwo63u4ymtgso6ak2vuuuydp7crssnwhklkns75obaqd.onion%2F&q=nf4mTTk7X54juz27QN0cki3dRFq7pefP67%2FaBbFYwHYYROH3V6m7StYYOVQCTuY0&idx=15&session=e6A%2FwbVGoxzbc2gayWarNZjIP06ZnsMbbRCTe8NyI38%3D',\n",
       " './r2d.php?url=http%3A%2F%2Fitaryjmzjycs22khgowuttu3k7yx6q2vu6wjw5zpju7za7zzbvasygyd.onion&q=nf4mTTk7X54juz27QN0ckhJLHjWoMTii4xtQ9z5lw5NHnTTJ%2F5JZd1XgNo7rAwDn&idx=3&session=e6A%2FwbVGoxzbc2gayWarNZjIP06ZnsMbbRCTe8NyI38%3D',\n",
       " 'http://hss3uro2hsxfogfq.onion/index.php?q=child+pornografy/chat?q=ju7za7zzbvasygyd.onion',\n",
       " 'contact.php?reason=abuseSearch&text=http%3A%2F%2Fitaryjmzjycs22khgowuttu3k7yx6q2vu6wjw5zpju7za7zzbvasygyd.onion',\n",
       " 'contact.php?reason=abuseClone&text=http%3A%2F%2Fitaryjmzjycs22khgowuttu3k7yx6q2vu6wjw5zpju7za7zzbvasygyd.onion',\n",
       " 'contact.php?reason=abuseCP&text=http%3A%2F%2Fitaryjmzjycs22khgowuttu3k7yx6q2vu6wjw5zpju7za7zzbvasygyd.onion',\n",
       " 'contact.php?reason=otherBestOf&text=http%3A%2F%2Fitaryjmzjycs22khgowuttu3k7yx6q2vu6wjw5zpju7za7zzbvasygyd.onion',\n",
       " './r2d.php?url=http%3A%2F%2Fsvz6epc54gec3lbqug6efcc5r6rbbdimge77563utvyrohgdcocwfqqd.onion&q=nf4mTTk7X54juz27QN0ckgsEp%2B6lr15vdcHaAxn43heYP5nD4IS8zLKImyXEBBZJ&idx=4&session=e6A%2FwbVGoxzbc2gayWarNZjIP06ZnsMbbRCTe8NyI38%3D',\n",
       " 'http://hss3uro2hsxfogfq.onion/index.php?q=child+pornografy/chat?q=tvyrohgdcocwfqqd.onion',\n",
       " 'contact.php?reason=abuseSearch&text=http%3A%2F%2Fsvz6epc54gec3lbqug6efcc5r6rbbdimge77563utvyrohgdcocwfqqd.onion',\n",
       " 'contact.php?reason=abuseClone&text=http%3A%2F%2Fsvz6epc54gec3lbqug6efcc5r6rbbdimge77563utvyrohgdcocwfqqd.onion',\n",
       " 'contact.php?reason=abuseCP&text=http%3A%2F%2Fsvz6epc54gec3lbqug6efcc5r6rbbdimge77563utvyrohgdcocwfqqd.onion',\n",
       " 'contact.php?reason=otherBestOf&text=http%3A%2F%2Fsvz6epc54gec3lbqug6efcc5r6rbbdimge77563utvyrohgdcocwfqqd.onion',\n",
       " './r2d.php?url=http%3A%2F%2Fstationudue7ucifsaxjf3ln6pnv5klsm7ntoju4k3253eluzcebu7qd.onion%2F&q=nf4mTTk7X54juz27QN0ckq0tiQN5ICei6ixL8fhCi6Iwde55vCitxo5fuI%2FoB%2BP5&idx=5&session=e6A%2FwbVGoxzbc2gayWarNZjIP06ZnsMbbRCTe8NyI38%3D',\n",
       " 'http://hss3uro2hsxfogfq.onion/index.php?q=child+pornografy/chat?q=k3253eluzcebu7qd.onion',\n",
       " 'contact.php?reason=abuseSearch&text=http%3A%2F%2Fstationudue7ucifsaxjf3ln6pnv5klsm7ntoju4k3253eluzcebu7qd.onion%2F',\n",
       " 'contact.php?reason=abuseClone&text=http%3A%2F%2Fstationudue7ucifsaxjf3ln6pnv5klsm7ntoju4k3253eluzcebu7qd.onion%2F',\n",
       " 'contact.php?reason=abuseCP&text=http%3A%2F%2Fstationudue7ucifsaxjf3ln6pnv5klsm7ntoju4k3253eluzcebu7qd.onion%2F',\n",
       " 'contact.php?reason=otherBestOf&text=http%3A%2F%2Fstationudue7ucifsaxjf3ln6pnv5klsm7ntoju4k3253eluzcebu7qd.onion%2F',\n",
       " './r2d.php?url=http%3A%2F%2Fjdpskjmgy6kk4urv.onion%2Fcplaw.html&q=nf4mTTk7X54juz27QN0ckg5ZtSmanryPF7jYtTwft201SFnE1tnqFGHWidB8l92B&idx=6&session=e6A%2FwbVGoxzbc2gayWarNZjIP06ZnsMbbRCTe8NyI38%3D',\n",
       " 'http://hss3uro2hsxfogfq.onion/index.php?q=child+pornografy/chat?q=jdpskjmgy6kk4urv.onion',\n",
       " 'contact.php?reason=abuseSearch&text=http%3A%2F%2Fjdpskjmgy6kk4urv.onion%2Fcplaw.html',\n",
       " 'contact.php?reason=abuseClone&text=http%3A%2F%2Fjdpskjmgy6kk4urv.onion%2Fcplaw.html',\n",
       " 'contact.php?reason=abuseCP&text=http%3A%2F%2Fjdpskjmgy6kk4urv.onion%2Fcplaw.html',\n",
       " 'contact.php?reason=otherBestOf&text=http%3A%2F%2Fjdpskjmgy6kk4urv.onion%2Fcplaw.html',\n",
       " './r2d.php?url=http%3A%2F%2Fdhosting4xxoydyaivckq7tsmtgi4wfs3flpeyitekkmqwu4v4r46syd.onion&q=nf4mTTk7X54juz27QN0ckiwoIRbIUHkQm7VIri0w8oJHGbI%2BlUAJSh1phHFp%2Bomx&idx=7&session=e6A%2FwbVGoxzbc2gayWarNZjIP06ZnsMbbRCTe8NyI38%3D',\n",
       " 'http://hss3uro2hsxfogfq.onion/index.php?q=child+pornografy/chat?q=ekkmqwu4v4r46syd.onion',\n",
       " 'contact.php?reason=abuseSearch&text=http%3A%2F%2Fdhosting4xxoydyaivckq7tsmtgi4wfs3flpeyitekkmqwu4v4r46syd.onion',\n",
       " 'contact.php?reason=abuseClone&text=http%3A%2F%2Fdhosting4xxoydyaivckq7tsmtgi4wfs3flpeyitekkmqwu4v4r46syd.onion',\n",
       " 'contact.php?reason=abuseCP&text=http%3A%2F%2Fdhosting4xxoydyaivckq7tsmtgi4wfs3flpeyitekkmqwu4v4r46syd.onion',\n",
       " 'contact.php?reason=otherBestOf&text=http%3A%2F%2Fdhosting4xxoydyaivckq7tsmtgi4wfs3flpeyitekkmqwu4v4r46syd.onion',\n",
       " './r2d.php?url=http%3A%2F%2Fn2ha26oplph454e6.onion%2Fcplaw.html&q=nf4mTTk7X54juz27QN0ckkyTnDGXca8KiFS38YJBdxXSIvW8Ie3S3lE%2FT1Xge3ua&idx=8&session=e6A%2FwbVGoxzbc2gayWarNZjIP06ZnsMbbRCTe8NyI38%3D',\n",
       " 'http://hss3uro2hsxfogfq.onion/index.php?q=child+pornografy/chat?q=n2ha26oplph454e6.onion',\n",
       " 'contact.php?reason=abuseSearch&text=http%3A%2F%2Fn2ha26oplph454e6.onion%2Fcplaw.html',\n",
       " 'contact.php?reason=abuseClone&text=http%3A%2F%2Fn2ha26oplph454e6.onion%2Fcplaw.html',\n",
       " 'contact.php?reason=abuseCP&text=http%3A%2F%2Fn2ha26oplph454e6.onion%2Fcplaw.html',\n",
       " 'contact.php?reason=otherBestOf&text=http%3A%2F%2Fn2ha26oplph454e6.onion%2Fcplaw.html',\n",
       " './r2d.php?url=http%3A%2F%2Fstationtr3bv7zqpp4aapablqiw6iayc2otnr3ftbbxeaae2vfylttad.onion&q=nf4mTTk7X54juz27QN0ckoLWUDM6WhoT3sQV5XZ6HRy96ZYSCZsdS7%2BVD%2Buiw6pD&idx=9&session=e6A%2FwbVGoxzbc2gayWarNZjIP06ZnsMbbRCTe8NyI38%3D',\n",
       " 'http://hss3uro2hsxfogfq.onion/index.php?q=child+pornografy/chat?q=bbxeaae2vfylttad.onion',\n",
       " 'contact.php?reason=abuseSearch&text=http%3A%2F%2Fstationtr3bv7zqpp4aapablqiw6iayc2otnr3ftbbxeaae2vfylttad.onion',\n",
       " 'contact.php?reason=abuseClone&text=http%3A%2F%2Fstationtr3bv7zqpp4aapablqiw6iayc2otnr3ftbbxeaae2vfylttad.onion',\n",
       " 'contact.php?reason=abuseCP&text=http%3A%2F%2Fstationtr3bv7zqpp4aapablqiw6iayc2otnr3ftbbxeaae2vfylttad.onion',\n",
       " 'contact.php?reason=otherBestOf&text=http%3A%2F%2Fstationtr3bv7zqpp4aapablqiw6iayc2otnr3ftbbxeaae2vfylttad.onion',\n",
       " './r2d.php?url=http%3A%2F%2Fr2j4xiyckibnyd45.onion%2Fintent.html&q=nf4mTTk7X54juz27QN0ckoAqxblxDDKifwWY6Jy%2BeksiOqrB%2FZjwdWs1bXioiRxO&idx=10&session=e6A%2FwbVGoxzbc2gayWarNZjIP06ZnsMbbRCTe8NyI38%3D',\n",
       " 'http://hss3uro2hsxfogfq.onion/index.php?q=child+pornografy/chat?q=r2j4xiyckibnyd45.onion',\n",
       " 'contact.php?reason=abuseSearch&text=http%3A%2F%2Fr2j4xiyckibnyd45.onion%2Fintent.html',\n",
       " 'contact.php?reason=abuseClone&text=http%3A%2F%2Fr2j4xiyckibnyd45.onion%2Fintent.html',\n",
       " 'contact.php?reason=abuseCP&text=http%3A%2F%2Fr2j4xiyckibnyd45.onion%2Fintent.html',\n",
       " 'contact.php?reason=otherBestOf&text=http%3A%2F%2Fr2j4xiyckibnyd45.onion%2Fintent.html',\n",
       " './r2d.php?url=http%3A%2F%2Fr2j4xiyckibnyd45.onion%2Ffaq.html&q=nf4mTTk7X54juz27QN0ckvP6B2xQkW6wBSq1ixPxZh7SIvW8Ie3S3lE%2FT1Xge3ua&idx=11&session=e6A%2FwbVGoxzbc2gayWarNZjIP06ZnsMbbRCTe8NyI38%3D',\n",
       " './r2d.php?url=http%3A%2F%2Fpthc5luilb7h2ghs.onion%2F&q=nf4mTTk7X54juz27QN0cktY%2FmmJTEnCrJFkxI59tJZ8qiplw2eUn73NYkJ0dEmGI&idx=12&session=e6A%2FwbVGoxzbc2gayWarNZjIP06ZnsMbbRCTe8NyI38%3D',\n",
       " 'http://hss3uro2hsxfogfq.onion/index.php?q=child+pornografy/chat?q=pthc5luilb7h2ghs.onion',\n",
       " 'contact.php?reason=abuseSearch&text=http%3A%2F%2Fpthc5luilb7h2ghs.onion%2F',\n",
       " 'contact.php?reason=abuseClone&text=http%3A%2F%2Fpthc5luilb7h2ghs.onion%2F',\n",
       " 'contact.php?reason=abuseCP&text=http%3A%2F%2Fpthc5luilb7h2ghs.onion%2F',\n",
       " 'contact.php?reason=otherBestOf&text=http%3A%2F%2Fpthc5luilb7h2ghs.onion%2F',\n",
       " './r2d.php?url=http%3A%2F%2Fstationunkmjw7iqi3z3eqkcea42uq7b74vghv3ducdc3styzzzymuyd.onion&q=nf4mTTk7X54juz27QN0ckoNP9hv6tv1MT%2BqkALAEh5QcQLK88jIpUDUef%2BFJyZ3z&idx=13&session=e6A%2FwbVGoxzbc2gayWarNZjIP06ZnsMbbRCTe8NyI38%3D',\n",
       " 'http://hss3uro2hsxfogfq.onion/index.php?q=child+pornografy/chat?q=ucdc3styzzzymuyd.onion',\n",
       " 'contact.php?reason=abuseSearch&text=http%3A%2F%2Fstationunkmjw7iqi3z3eqkcea42uq7b74vghv3ducdc3styzzzymuyd.onion',\n",
       " 'contact.php?reason=abuseClone&text=http%3A%2F%2Fstationunkmjw7iqi3z3eqkcea42uq7b74vghv3ducdc3styzzzymuyd.onion',\n",
       " 'contact.php?reason=abuseCP&text=http%3A%2F%2Fstationunkmjw7iqi3z3eqkcea42uq7b74vghv3ducdc3styzzzymuyd.onion',\n",
       " 'contact.php?reason=otherBestOf&text=http%3A%2F%2Fstationunkmjw7iqi3z3eqkcea42uq7b74vghv3ducdc3styzzzymuyd.onion',\n",
       " './r2d.php?url=http%3A%2F%2Fdanschat356lctri3zavzh6fbxg2a7lo6z3etgkctzzpspewu7zdsaqd.onion&q=nf4mTTk7X54juz27QN0ckttPnQ0OKaFRbUqrd60rOaDvk5Tt6HsKLuODhRmWzgpz&idx=14&session=e6A%2FwbVGoxzbc2gayWarNZjIP06ZnsMbbRCTe8NyI38%3D',\n",
       " 'http://hss3uro2hsxfogfq.onion/index.php?q=child+pornografy/chat?q=tzzpspewu7zdsaqd.onion',\n",
       " 'contact.php?reason=abuseSearch&text=http%3A%2F%2Fdanschat356lctri3zavzh6fbxg2a7lo6z3etgkctzzpspewu7zdsaqd.onion',\n",
       " 'contact.php?reason=abuseClone&text=http%3A%2F%2Fdanschat356lctri3zavzh6fbxg2a7lo6z3etgkctzzpspewu7zdsaqd.onion',\n",
       " 'contact.php?reason=abuseCP&text=http%3A%2F%2Fdanschat356lctri3zavzh6fbxg2a7lo6z3etgkctzzpspewu7zdsaqd.onion',\n",
       " 'contact.php?reason=otherBestOf&text=http%3A%2F%2Fdanschat356lctri3zavzh6fbxg2a7lo6z3etgkctzzpspewu7zdsaqd.onion',\n",
       " './r2d.php?url=http%3A%2F%2Fdhostingwwafxyuaxhs6bkhzo5e2mueztbmhqe6wsng547ucvzfuh2ad.onion&q=nf4mTTk7X54juz27QN0ckiguA562VJMYkwBEw8RuuZeYP5nD4IS8zLKImyXEBBZJ&idx=16&session=e6A%2FwbVGoxzbc2gayWarNZjIP06ZnsMbbRCTe8NyI38%3D',\n",
       " 'http://hss3uro2hsxfogfq.onion/index.php?q=child+pornografy/chat?q=sng547ucvzfuh2ad.onion',\n",
       " 'contact.php?reason=abuseSearch&text=http%3A%2F%2Fdhostingwwafxyuaxhs6bkhzo5e2mueztbmhqe6wsng547ucvzfuh2ad.onion',\n",
       " 'contact.php?reason=abuseClone&text=http%3A%2F%2Fdhostingwwafxyuaxhs6bkhzo5e2mueztbmhqe6wsng547ucvzfuh2ad.onion',\n",
       " 'contact.php?reason=abuseCP&text=http%3A%2F%2Fdhostingwwafxyuaxhs6bkhzo5e2mueztbmhqe6wsng547ucvzfuh2ad.onion',\n",
       " 'contact.php?reason=otherBestOf&text=http%3A%2F%2Fdhostingwwafxyuaxhs6bkhzo5e2mueztbmhqe6wsng547ucvzfuh2ad.onion',\n",
       " './r2d.php?url=http%3A%2F%2Fdanschat2pte33f65c3mzewtctsjwn2divl5eguon27vnttsbe6a5iid.onion&q=nf4mTTk7X54juz27QN0ckp2teTJdHSEzyEz1S93sZfjnic0x%2FGFlL4a%2F%2BozXKl9H&idx=17&session=e6A%2FwbVGoxzbc2gayWarNZjIP06ZnsMbbRCTe8NyI38%3D',\n",
       " 'http://hss3uro2hsxfogfq.onion/index.php?q=child+pornografy/chat?q=n27vnttsbe6a5iid.onion',\n",
       " 'contact.php?reason=abuseSearch&text=http%3A%2F%2Fdanschat2pte33f65c3mzewtctsjwn2divl5eguon27vnttsbe6a5iid.onion',\n",
       " 'contact.php?reason=abuseClone&text=http%3A%2F%2Fdanschat2pte33f65c3mzewtctsjwn2divl5eguon27vnttsbe6a5iid.onion',\n",
       " 'contact.php?reason=abuseCP&text=http%3A%2F%2Fdanschat2pte33f65c3mzewtctsjwn2divl5eguon27vnttsbe6a5iid.onion',\n",
       " 'contact.php?reason=otherBestOf&text=http%3A%2F%2Fdanschat2pte33f65c3mzewtctsjwn2divl5eguon27vnttsbe6a5iid.onion',\n",
       " './r2d.php?url=http%3A%2F%2Fcplfk4kp5dzeakwc.onion%2Fucp.php%3Fmode%3Dregister&q=nf4mTTk7X54juz27QN0ckunLsSHw4esI%2Fz0KiEdSGq52Dzizw%2BxMkNfJkCbQ1ksz&idx=18&session=e6A%2FwbVGoxzbc2gayWarNZjIP06ZnsMbbRCTe8NyI38%3D',\n",
       " 'http://hss3uro2hsxfogfq.onion/index.php?q=child+pornografy/chat?q=cplfk4kp5dzeakwc.onion',\n",
       " 'contact.php?reason=abuseSearch&text=http%3A%2F%2Fcplfk4kp5dzeakwc.onion%2Fucp.php%3Fmode%3Dregister',\n",
       " 'contact.php?reason=abuseClone&text=http%3A%2F%2Fcplfk4kp5dzeakwc.onion%2Fucp.php%3Fmode%3Dregister',\n",
       " 'contact.php?reason=abuseCP&text=http%3A%2F%2Fcplfk4kp5dzeakwc.onion%2Fucp.php%3Fmode%3Dregister',\n",
       " 'contact.php?reason=otherBestOf&text=http%3A%2F%2Fcplfk4kp5dzeakwc.onion%2Fucp.php%3Fmode%3Dregister',\n",
       " './r2d.php?url=http%3A%2F%2Fjustryit.cyruservvvklto2l.onion%2Fblogs%2Fcyrus%2Frelay-outages-expected-over-174&q=nf4mTTk7X54juz27QN0ckozpGGnr0ZldIoE0YAy5J9QX1s4Tx%2BNwJwUwiE65VFbZ&idx=19&session=e6A%2FwbVGoxzbc2gayWarNZjIP06ZnsMbbRCTe8NyI38%3D',\n",
       " 'http://hss3uro2hsxfogfq.onion/index.php?q=child+pornografy/chat?q=cyruservvvklto2l.onion',\n",
       " 'contact.php?reason=abuseSearch&text=http%3A%2F%2Fjustryit.cyruservvvklto2l.onion%2Fblogs%2Fcyrus%2Frelay-outages-expected-over-174',\n",
       " 'contact.php?reason=abuseClone&text=http%3A%2F%2Fjustryit.cyruservvvklto2l.onion%2Fblogs%2Fcyrus%2Frelay-outages-expected-over-174',\n",
       " 'contact.php?reason=abuseCP&text=http%3A%2F%2Fjustryit.cyruservvvklto2l.onion%2Fblogs%2Fcyrus%2Frelay-outages-expected-over-174',\n",
       " 'contact.php?reason=otherBestOf&text=http%3A%2F%2Fjustryit.cyruservvvklto2l.onion%2Fblogs%2Fcyrus%2Frelay-outages-expected-over-174',\n",
       " './contact.php',\n",
       " './api.htm',\n",
       " './about.htm']"
      ]
     },
     "execution_count": 75,
     "metadata": {},
     "output_type": "execute_result"
    }
   ],
   "source": [
    "urls"
   ]
  },
  {
   "cell_type": "code",
   "execution_count": 80,
   "metadata": {},
   "outputs": [
    {
     "data": {
      "text/plain": [
       "[]"
      ]
     },
     "execution_count": 80,
     "metadata": {},
     "output_type": "execute_result"
    }
   ],
   "source": [
    "cellphones"
   ]
  },
  {
   "cell_type": "code",
   "execution_count": null,
   "metadata": {},
   "outputs": [],
   "source": []
  }
 ],
 "metadata": {
  "kernelspec": {
   "display_name": "Python 3",
   "language": "python",
   "name": "python3"
  },
  "language_info": {
   "codemirror_mode": {
    "name": "ipython",
    "version": 3
   },
   "file_extension": ".py",
   "mimetype": "text/x-python",
   "name": "python",
   "nbconvert_exporter": "python",
   "pygments_lexer": "ipython3",
   "version": "3.7.3"
  }
 },
 "nbformat": 4,
 "nbformat_minor": 2
}
