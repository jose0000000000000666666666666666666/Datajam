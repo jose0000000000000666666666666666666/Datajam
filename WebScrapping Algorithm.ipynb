{
 "cells": [
  {
   "cell_type": "markdown",
   "metadata": {},
   "source": [
    "* Esto toca luego guardarlo en un .py"
   ]
  },
  {
   "cell_type": "markdown",
   "metadata": {},
   "source": [
    "# WebScrapping Algorithm."
   ]
  },
  {
   "cell_type": "code",
   "execution_count": 67,
   "metadata": {},
   "outputs": [],
   "source": [
    "# Connection libraries.\n",
    "import urllib.request, urllib.parse, urllib.error\n",
    "import requests\n",
    "from bs4 import BeautifulSoup\n",
    "\n",
    "# Numerical libraries.\n",
    "import pandas as pd\n",
    "import numpy as np\n",
    "\n",
    "# Spacy models.\n",
    "import spacy\n",
    "import es_core_news_sm\n",
    "import en_core_web_sm\n",
    "\n",
    "# Import networkx.\n",
    "import networkx as nx\n",
    "\n",
    "# Regular expression.\n",
    "import re"
   ]
  },
  {
   "cell_type": "code",
   "execution_count": 45,
   "metadata": {},
   "outputs": [],
   "source": [
    "eliminar_simbolos = [\"\\n\", \"\\xa0\", \"-\", \"'\"]\n",
    "\n",
    "def eliminar_simbolos(text, simbolos): \n",
    "    for simbolo in simbolos: \n",
    "        text = text.replace(simbolo, \" \")\n",
    "    return text"
   ]
  },
  {
   "cell_type": "code",
   "execution_count": 46,
   "metadata": {},
   "outputs": [],
   "source": [
    "r = requests.get(\"https://dentalgomez.co/\")\n",
    "data = r.text\n",
    "soup = BeautifulSoup(data, \"html.parser\")"
   ]
  },
  {
   "cell_type": "code",
   "execution_count": 71,
   "metadata": {},
   "outputs": [
    {
     "data": {
      "text/plain": [
       "'Dental Gómez - Depósito Dental'"
      ]
     },
     "execution_count": 71,
     "metadata": {},
     "output_type": "execute_result"
    }
   ],
   "source": [
    "soup.title.string"
   ]
  },
  {
   "cell_type": "code",
   "execution_count": 74,
   "metadata": {},
   "outputs": [
    {
     "data": {
      "text/plain": [
       "'\\n\\n\\n\\n\\n\\n\\n\\n\\n\\n\\n\\n\\n\\n\\n\\n\\n\\nDental Gómez - Depósito Dental\\n\\n\\n\\n\\n\\n\\n\\n\\n\\n\\n\\n\\n\\n\\n\\n\\n\\n\\n\\n\\n\\n\\nContact\\n\\n\\nMeet us\\n\\n\\n\\n305-827-0682\\n\\n\\nventas@dentalgomez.co\\n\\n\\n\\n\\n\\n\\n\\n\\n\\n\\n\\n\\n\\n\\n\\n\\n\\n\\n\\n\\n\\n\\n\\n\\n\\n\\nInicio\\n\\n\\n\\n\\nTienda\\n\\n\\n\\n\\nSoporte en vivo\\n\\n\\n\\n\\nContáctenos\\n\\n\\n \\n\\n\\n                    Mi Carrito \\n\\n\\n\\n\\n\\nIdentificarse\\n\\n\\n\\n\\n\\n\\n\\n\\n\\n\\n\\n\\n\\n\\n\\n\\n\\n\\nNuestras \\n\\nPromociones\\n\\n \\n\\n\\n\\n\\n\\n\\n\\n\\n\\n\\n\\n\\n\\n\\n\\n\\n\\n\\n\\n\\n\\n\\n\\n\\n\\n\\n\\n\\n\\n\\n\\n\\n\\n\\n\\n\\n\\n\\n\\n\\n\\n\\n\\n\\n\\n\\n\\n\\n\\nAgrega al carrito\\nAgrega los productos que desees.\\n\\n\\n\\n\\n\\n\\n\\n\\n\\n\\n\\nDatos de envío\\nIndícanos dónde quieres recibir tu pedido.\\n\\n\\n\\n\\n\\n\\n\\n\\n\\nPago\\nMúltiples facilidades de pago.\\n\\n\\n\\n\\n\\n\\n\\n\\n\\n\\n\\nRecibe los Productos\\nEn tu consultorio, sin costo adicional.\\n\\n\\n\\n\\n\\n\\n\\n\\n\\n\\n\\n\\nMateriales\\nOfrecemos una amplia gama de materiales dentales.\\n\\nTienda\\n\\n\\n\\n\\n\\n\\n\\n\\nInstrumental\\nDistribuimos instrumentales odontológicos para todas las especialidades.\\n\\nTienda\\n\\n\\n\\n\\n\\n\\n\\n\\nEquipos\\nContamos con una gran variedad de equipos dentales para todas las especialidades.\\n\\nContáctanos\\n\\n\\n\\n\\n\\n\\n\\n\\n\\n\\n\\n\\nCompra Online\\nGran variedad de productos desde la comodidad de tu consultorio, con\\xa0 grandes ofertas exclusivas.\\xa0\\n\\n\\n\\n\\n\\n\\n\\nRecibe en tu Consultorio\\nContamos con una gran\\xa0 disponibilidad para nuestras entregas llevándolo puntualmente\\xa0 a tu consultorio sin ningún costo adicional,\\n\\n\\n\\n\\n\\n\\n\\nAhorra Tiempo\\nEliminamos\\xa0 la necesidad de trasladarse, al mejor costo y con una atención personalizada y detallada de nuestros productos.\\n\\n\\n\\n\\n\\n\\n\\n\\n\\n\\nContáctanos\\n\\n\\n\\n\\n\\n\\n\\n\\n\\n\\n\\n\\n\\n\\nWhatsApp\\nChatea con nosotros.\\n\\n\\n\\n\\n\\n\\n\\nFacebook\\nÚnete a nuestra comunidad.\\n\\n\\n\\n\\n\\n\\n\\n\\n\\n\\n\\nInstagram\\nMantente al tanto de nuestras promociones.\\n\\n\\n\\n\\n\\n\\n\\nCorreo\\nContáctate con servicio al cliente.\\n\\n\\n\\n\\n\\n\\n\\n\\n\\n\\n\\n\\n\\n\\n\\n\\n\\n\\n\\n\\n\\n\\n\\n\\n\\n\\n\\n\\n\\n\\n\\n\\n\\n\\n\\n\\n\\n\\n\\nNuestros productos y Servicios\\n\\n\\nInicio\\n\\n\\n\\n\\nConéctate con nosotros\\n\\n\\nContáctenos\\n\\n\\n\\n305-827-0682\\n\\n\\n\\nventas@dentalgomez.co\\n\\n\\n\\n\\n\\n\\n\\n\\n\\n\\n\\n\\n\\nDental Gomez\\n - Sobre Nosotros\\n\\n\\xa0Somos una empresa dedicada a la comercialización de materiales, equipos e instrumentos odontologicos, con los mas altos estándares de calidad a un buen\\xa0 costo.\\xa0 caracterizandonos por ser un equipo con una excelente calidad humana, comprometidos con nuestra labor contando con disponibilidad todos los días.\\xa0\\n\\n\\n\\n\\n\\n\\n\\n\\n\\nCopyright © Dental Gomez\\n\\n\\n\\n\\n\\n\\n            \\n        \\n        \\n        Con tecnología de \\n            \\n\\n\\n        - \\n                    El #1 Comercio electrónico de código abierto\\n\\n\\n\\n\\n\\n\\n\\n\\n\\n\\n'"
      ]
     },
     "execution_count": 74,
     "metadata": {},
     "output_type": "execute_result"
    }
   ],
   "source": [
    "soup.text"
   ]
  },
  {
   "cell_type": "code",
   "execution_count": null,
   "metadata": {},
   "outputs": [],
   "source": []
  },
  {
   "cell_type": "code",
   "execution_count": null,
   "metadata": {},
   "outputs": [],
   "source": []
  },
  {
   "cell_type": "code",
   "execution_count": null,
   "metadata": {},
   "outputs": [],
   "source": []
  },
  {
   "cell_type": "code",
   "execution_count": null,
   "metadata": {},
   "outputs": [],
   "source": []
  },
  {
   "cell_type": "code",
   "execution_count": null,
   "metadata": {},
   "outputs": [],
   "source": []
  },
  {
   "cell_type": "code",
   "execution_count": 52,
   "metadata": {},
   "outputs": [],
   "source": [
    "for s in soup.select('script'):\n",
    "    s.extract()\n",
    "#text = eliminar_simbolos(soup.text, eliminar_simbolos)\n",
    "text = soup.text.replace(\"\\n\", \" \")"
   ]
  },
  {
   "cell_type": "code",
   "execution_count": 53,
   "metadata": {},
   "outputs": [
    {
     "data": {
      "text/plain": [
       "'                  Dental Gómez - Depósito Dental                       Contact   Meet us    305-827-0682   ventas@dentalgomez.co                           Inicio     Tienda     Soporte en vivo     Contáctenos                           Mi Carrito       Identificarse                   Nuestras   Promociones                                                     Agrega al carrito Agrega los productos que desees.            Datos de envío Indícanos dónde quieres recibir tu pedido.          Pago Múltiples facilidades de pago.            Recibe los Productos En tu consultorio, sin costo adicional.             Materiales Ofrecemos una amplia gama de materiales dentales.  Tienda         Instrumental Distribuimos instrumentales odontológicos para todas las especialidades.  Tienda         Equipos Contamos con una gran variedad de equipos dentales para todas las especialidades.  Contáctanos             Compra Online Gran variedad de productos desde la comodidad de tu consultorio, con\\xa0 grandes ofertas exclusivas.\\xa0        Recibe en tu Consultorio Contamos con una gran\\xa0 disponibilidad para nuestras entregas llevándolo puntualmente\\xa0 a tu consultorio sin ningún costo adicional,        Ahorra Tiempo Eliminamos\\xa0 la necesidad de trasladarse, al mejor costo y con una atención personalizada y detallada de nuestros productos.           Contáctanos               WhatsApp Chatea con nosotros.        Facebook Únete a nuestra comunidad.            Instagram Mantente al tanto de nuestras promociones.        Correo Contáctate con servicio al cliente.                                        Nuestros productos y Servicios   Inicio     Conéctate con nosotros   Contáctenos    305-827-0682    ventas@dentalgomez.co              Dental Gomez  - Sobre Nosotros  \\xa0Somos una empresa dedicada a la comercialización de materiales, equipos e instrumentos odontologicos, con los mas altos estándares de calidad a un buen\\xa0 costo.\\xa0 caracterizandonos por ser un equipo con una excelente calidad humana, comprometidos con nuestra labor contando con disponibilidad todos los días.\\xa0          Copyright © Dental Gomez                                              Con tecnología de                         -                      El #1 Comercio electrónico de código abierto           '"
      ]
     },
     "execution_count": 53,
     "metadata": {},
     "output_type": "execute_result"
    }
   ],
   "source": [
    "text"
   ]
  },
  {
   "cell_type": "code",
   "execution_count": 55,
   "metadata": {},
   "outputs": [],
   "source": [
    "nlp = spacy.load(\"es_core_news_sm\")\n",
    "doc = nlp(text)"
   ]
  },
  {
   "cell_type": "code",
   "execution_count": 60,
   "metadata": {
    "scrolled": false
   },
   "outputs": [
    {
     "name": "stdout",
     "output_type": "stream",
     "text": [
      "                  SPACE               \n",
      "Dental      PROPN     ROOT      \n",
      "Gómez       PROPN     flat      \n",
      "-           PUNCT     punct     \n",
      "Depósito    PROPN     conj      \n",
      "Dental      PROPN     flat      \n",
      "                      SPACE               \n",
      "Contact     PROPN     flat      \n",
      "            SPACE               \n",
      "Meet        PROPN     flat      \n",
      "us          PROPN     flat      \n",
      "            SPACE               \n",
      "305         NUM       nummod    \n",
      "-           PUNCT     punct     \n",
      "827         NUM       appos     \n",
      "-           PUNCT     punct     \n",
      "0682        NOUN      conj      \n",
      "            SPACE               \n",
      "ventas@dentalgomez.coADJ       conj      \n",
      "                          SPACE               \n",
      "Inicio      PROPN     flat      \n",
      "            SPACE               \n",
      "Tienda      PROPN     flat      \n",
      "            SPACE               \n",
      "Soporte     PROPN     flat      \n",
      "en          ADP       case      \n",
      "vivo        ADJ       nmod      \n",
      "            SPACE               \n",
      "Contáctenos PROPN     flat      \n",
      "                          SPACE               \n",
      "Mi          PROPN     det       \n",
      "Carrito     PROPN     conj      \n",
      "            SPACE               \n",
      "IdentificarsePROPN     flat      \n",
      "                  SPACE               \n",
      "Nuestras    PROPN     flat      \n",
      "            SPACE               \n",
      "Promociones PROPN     flat      \n",
      "                                                    SPACE               \n",
      "Agrega      PROPN     flat      \n",
      "al          ADP       case      \n",
      "carrito     NOUN      amod      \n",
      "Agrega      PROPN     advcl     \n",
      "los         DET       det       \n",
      "productos   NOUN      obj       \n",
      "que         PRON      obj       \n",
      "desees      VERB      acl       \n",
      ".           PUNCT     punct     \n",
      "            SPACE               \n",
      "Datos       NOUN      ROOT      \n",
      "de          ADP       case      \n",
      "envío       NOUN      nmod      \n",
      "Indícanos   PROPN     amod      \n",
      "dónde       PRON      obl       \n",
      "quieres     NOUN      acl       \n",
      "recibir     VERB      xcomp     \n",
      "tu          DET       det       \n",
      "pedido      NOUN      obj       \n",
      ".           PUNCT     punct     \n",
      "            SPACE               \n",
      "Pago        PROPN     nsubj     \n",
      "Múltiples   PROPN     flat      \n",
      "facilidades NOUN      ROOT      \n",
      "de          ADP       case      \n",
      "pago        NOUN      nmod      \n",
      ".           PUNCT     punct     \n",
      "            SPACE               \n",
      "Recibe      PROPN     ROOT      \n",
      "los         DET       det       \n",
      "Productos   PROPN     obj       \n",
      "En          ADP       case      \n",
      "tu          NOUN      det       \n",
      "consultorio NOUN      obl       \n",
      ",           PUNCT     punct     \n",
      "sin         ADP       case      \n",
      "costo       ADJ       obl       \n",
      "adicional   ADJ       amod      \n",
      ".           PUNCT     punct     \n",
      "            SPACE               \n",
      "Materiales  PROPN     nsubj     \n",
      "Ofrecemos   PROPN     ROOT      \n",
      "una         DET       det       \n",
      "amplia      ADJ       amod      \n",
      "gama        NOUN      obj       \n",
      "de          ADP       case      \n",
      "materiales  NOUN      nmod      \n",
      "dentales    ADJ       amod      \n",
      ".           PUNCT     punct     \n",
      "            SPACE               \n",
      "Tienda      PROPN     ROOT      \n",
      "            SPACE               \n",
      "InstrumentalPROPN     flat      \n",
      "DistribuimosAUX       flat      \n",
      "instrumentalesNOUN      amod      \n",
      "odontológicosADJ       amod      \n",
      "para        ADP       case      \n",
      "todas       DET       det       \n",
      "las         DET       det       \n",
      "especialidadesNOUN      nmod      \n",
      ".           PUNCT     punct     \n",
      "            SPACE               \n",
      "Tienda      PROPN     nsubj     \n",
      "            SPACE               \n",
      "Equipos     PROPN     flat      \n",
      "Contamos    PROPN     ROOT      \n",
      "con         ADP       case      \n",
      "una         DET       det       \n",
      "gran        ADJ       amod      \n",
      "variedad    NOUN      obl       \n",
      "de          ADP       case      \n",
      "equipos     NOUN      nmod      \n",
      "dentales    ADJ       amod      \n",
      "para        ADP       case      \n",
      "todas       DET       det       \n",
      "las         DET       det       \n",
      "especialidadesNOUN      nmod      \n",
      ".           PUNCT     punct     \n",
      "            SPACE               \n",
      "Contáctanos PROPN     ROOT      \n",
      "            SPACE               \n",
      "Compra      PROPN     flat      \n",
      "Online      PROPN     flat      \n",
      "Gran        ADJ       flat      \n",
      "variedad    NOUN      appos     \n",
      "de          ADP       case      \n",
      "productos   NOUN      nmod      \n",
      "desde       ADP       case      \n",
      "la          DET       det       \n",
      "comodidad   NOUN      nmod      \n",
      "de          ADP       case      \n",
      "tu          PROPN     det       \n",
      "consultorio ADJ       nmod      \n",
      ",           PUNCT     punct     \n",
      "con         ADP       case      \n",
      "            SPACE               \n",
      "grandes     ADJ       amod      \n",
      "ofertas     NOUN      nmod      \n",
      "exclusivas  ADJ       amod      \n",
      ".           PUNCT     punct     \n",
      "            SPACE               \n",
      "Recibe      PROPN     ROOT      \n",
      "en          ADP       case      \n",
      "tu          DET       det       \n",
      "Consultorio PROPN     obl       \n",
      "Contamos    PROPN     flat      \n",
      "con         ADP       case      \n",
      "una         DET       det       \n",
      "gran        ADJ       amod      \n",
      "            SPACE               \n",
      "disponibilidadNOUN      obl       \n",
      "para        ADP       case      \n",
      "nuestras    DET       det       \n",
      "entregas    NOUN      nmod      \n",
      "llevándolo  PROPN     conj      \n",
      "puntualmenteADV       advmod    \n",
      "            SPACE               \n",
      "a           ADP       case      \n",
      "tu          NOUN      det       \n",
      "consultorio NOUN      obl       \n",
      "sin         ADP       case      \n",
      "ningún      DET       det       \n",
      "costo       NOUN      obl       \n",
      "adicional   ADJ       amod      \n",
      ",           PUNCT     punct     \n",
      "            SPACE               \n",
      "Ahorra      PROPN     flat      \n",
      "Tiempo      PROPN     flat      \n",
      "Eliminamos  PROPN     flat      \n",
      "            SPACE               \n",
      "la          DET       det       \n",
      "necesidad   NOUN      obj       \n",
      "de          ADP       case      \n",
      "trasladarse PROPN     nmod      \n",
      ",           PUNCT     punct     \n",
      "al          ADP       case      \n",
      "mejor       ADJ       amod      \n",
      "costo       ADJ       nmod      \n",
      "y           CONJ      cc        \n",
      "con         ADP       case      \n",
      "una         DET       det       \n",
      "atención    NOUN      conj      \n",
      "personalizadaADJ       amod      \n",
      "y           CONJ      cc        \n",
      "detallada   ADJ       conj      \n",
      "de          ADP       case      \n",
      "nuestros    DET       det       \n",
      "productos   NOUN      nmod      \n",
      ".           PUNCT     punct     \n",
      "            SPACE               \n",
      "Contáctanos PROPN     ROOT      \n",
      "              SPACE               \n",
      "WhatsApp    PROPN     flat      \n",
      "Chatea      PROPN     flat      \n",
      "con         ADP       case      \n",
      "nosotros    PRON      nmod      \n",
      ".           PUNCT     punct     \n",
      "            SPACE               \n",
      "Facebook    PROPN     ROOT      \n",
      "Únete       PROPN     flat      \n",
      "a           ADP       case      \n",
      "nuestra     DET       det       \n",
      "comunidad   NOUN      nmod      \n",
      ".           PUNCT     punct     \n",
      "            SPACE               \n",
      "Instagram   PROPN     ROOT      \n",
      "Mantente    ADV       flat      \n",
      "al          ADP       case      \n",
      "tanto       NOUN      fixed     \n",
      "de          ADP       fixed     \n",
      "nuestras    DET       det       \n",
      "promociones NOUN      nmod      \n",
      ".           PUNCT     punct     \n",
      "            SPACE               \n",
      "Correo      PROPN     ROOT      \n",
      "Contáctate  PROPN     flat      \n",
      "con         ADP       case      \n",
      "servicio    NOUN      nmod      \n",
      "al          ADP       case      \n",
      "cliente     NOUN      nmod      \n",
      ".           PUNCT     punct     \n",
      "                                       SPACE               \n",
      "Nuestros    DET       det       \n",
      "productos   NOUN      nsubj     \n",
      "y           CONJ      cc        \n",
      "Servicios   NOUN      conj      \n",
      "            SPACE               \n",
      "Inicio      PROPN     appos     \n",
      "            SPACE               \n",
      "Conéctate   PROPN     flat      \n",
      "con         ADP       case      \n",
      "nosotros    PRON      nmod      \n",
      "            SPACE               \n",
      "Contáctenos PROPN     appos     \n",
      "            SPACE               \n",
      "305         NUM       nummod    \n",
      "-           PUNCT     punct     \n",
      "827         NUM       appos     \n",
      "-           PUNCT     punct     \n",
      "0682        NOUN      appos     \n",
      "            SPACE               \n",
      "ventas@dentalgomez.coADJ       amod      \n",
      "             SPACE               \n",
      "Dental      PROPN     appos     \n"
     ]
    },
    {
     "name": "stdout",
     "output_type": "stream",
     "text": [
      "Gomez       PROPN     appos     \n",
      "            SPACE               \n",
      "-           PUNCT     punct     \n",
      "Sobre       ADP       case      \n",
      "Nosotros    PROPN     nmod      \n",
      "            SPACE               \n",
      "Somos       AUX       cop       \n",
      "una         DET       det       \n",
      "empresa     NOUN      ROOT      \n",
      "dedicada    ADJ       amod      \n",
      "a           ADP       case      \n",
      "la          DET       det       \n",
      "comercializaciónNOUN      obj       \n",
      "de          ADP       case      \n",
      "materiales  NOUN      nmod      \n",
      ",           PUNCT     punct     \n",
      "equipos     NOUN      conj      \n",
      "e           CONJ      cc        \n",
      "instrumentosNOUN      conj      \n",
      "odontologicosADJ       amod      \n",
      ",           PUNCT     punct     \n",
      "con         ADP       case      \n",
      "los         DET       det       \n",
      "mas         PROPN     det       \n",
      "altos       ADJ       amod      \n",
      "estándares  NOUN      nmod      \n",
      "de          ADP       case      \n",
      "calidad     NOUN      nmod      \n",
      "a           ADP       case      \n",
      "un          DET       det       \n",
      "buen        ADJ       amod      \n",
      "            SPACE               \n",
      "costo       ADJ       amod      \n",
      ".           PUNCT     punct     \n",
      "            SPACE               \n",
      "caracterizandonosNOUN      ROOT      \n",
      "por         ADP       mark      \n",
      "ser         AUX       cop       \n",
      "un          DET       det       \n",
      "equipo      NOUN      acl       \n",
      "con         ADP       case      \n",
      "una         DET       det       \n",
      "excelente   ADJ       amod      \n",
      "calidad     NOUN      nmod      \n",
      "humana      ADJ       amod      \n",
      ",           PUNCT     punct     \n",
      "comprometidosADJ       amod      \n",
      "con         ADP       case      \n",
      "nuestra     DET       det       \n",
      "labor       NOUN      obl       \n",
      "contando    VERB      advcl     \n",
      "con         ADP       case      \n",
      "disponibilidadNOUN      obl       \n",
      "todos       DET       det       \n",
      "los         DET       det       \n",
      "días        NOUN      obj       \n",
      ".           PUNCT     punct     \n",
      "            SPACE               \n",
      "Copyright   PROPN     nsubj     \n",
      "©           PROPN     ROOT      \n",
      "Dental      PROPN     obj       \n",
      "Gomez       PROPN     flat      \n",
      "                                             SPACE               \n",
      "Con         ADP       case      \n",
      "tecnología  NOUN      obl       \n",
      "de          ADP       mark      \n",
      "                        SPACE               \n",
      "-           PUNCT     punct     \n",
      "                     SPACE               \n",
      "El          DET       det       \n",
      "#           PROPN     ROOT      \n",
      "1           NUM       nummod    \n",
      "Comercio    PROPN     flat      \n",
      "electrónico ADJ       amod      \n",
      "de          ADP       case      \n",
      "código      NOUN      nmod      \n",
      "abierto     ADJ       flat      \n",
      "            SPACE               \n"
     ]
    }
   ],
   "source": [
    "\n",
    "for token in doc: \n",
    "    token_text = token.text\n",
    "    token_pos = token.pos_\n",
    "    token_dep = token.dep_\n",
    "    # This is for formatting only\n",
    "    print(f\"{token_text:<12}{token_pos:<10}{token_dep:<10}\")\n",
    "    "
   ]
  },
  {
   "cell_type": "code",
   "execution_count": 61,
   "metadata": {},
   "outputs": [
    {
     "name": "stdout",
     "output_type": "stream",
     "text": [
      "Dental Gómez PER\n",
      "Depósito Dental                        MISC\n",
      "Meet us MISC\n",
      "Tienda     Soporte MISC\n",
      "Contáctenos                           Mi Carrito        MISC\n",
      "Promociones                                                     Agrega MISC\n",
      "Agrega ORG\n",
      "Indícanos MISC\n",
      "Productos En tu consultorio MISC\n",
      "Materiales Ofrecemos PER\n",
      "Tienda         Instrumental Distribuimos MISC\n",
      "Tienda         Equipos Contamos MISC\n",
      "Contáctanos             Compra Online MISC\n",
      "Recibe PER\n",
      "Consultorio Contamos MISC\n",
      "Facebook Únete MISC\n",
      "Servicios   Inicio     Conéctate MISC\n",
      "Contáctenos MISC\n",
      "Nosotros MISC\n",
      "Dental Gomez                                               MISC\n",
      "Comercio MISC\n"
     ]
    }
   ],
   "source": [
    "for ent in doc.ents: \n",
    "    print(ent.text, ent.label_)"
   ]
  },
  {
   "cell_type": "code",
   "execution_count": 64,
   "metadata": {},
   "outputs": [
    {
     "data": {
      "text/plain": [
       "'Companies, agencies, institutions, etc.'"
      ]
     },
     "execution_count": 64,
     "metadata": {},
     "output_type": "execute_result"
    }
   ],
   "source": [
    "spacy.explain(\"ORG\")"
   ]
  },
  {
   "cell_type": "code",
   "execution_count": null,
   "metadata": {},
   "outputs": [],
   "source": []
  },
  {
   "cell_type": "code",
   "execution_count": null,
   "metadata": {},
   "outputs": [],
   "source": []
  },
  {
   "cell_type": "markdown",
   "metadata": {},
   "source": [
    "#### Palabras Clave."
   ]
  },
  {
   "cell_type": "code",
   "execution_count": null,
   "metadata": {},
   "outputs": [],
   "source": [
    "key_words = []"
   ]
  },
  {
   "cell_type": "code",
   "execution_count": null,
   "metadata": {},
   "outputs": [],
   "source": []
  }
 ],
 "metadata": {
  "kernelspec": {
   "display_name": "Python 3",
   "language": "python",
   "name": "python3"
  },
  "language_info": {
   "codemirror_mode": {
    "name": "ipython",
    "version": 3
   },
   "file_extension": ".py",
   "mimetype": "text/x-python",
   "name": "python",
   "nbconvert_exporter": "python",
   "pygments_lexer": "ipython3",
   "version": "3.7.3"
  }
 },
 "nbformat": 4,
 "nbformat_minor": 2
}
