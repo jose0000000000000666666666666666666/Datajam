{
 "cells": [
  {
   "cell_type": "markdown",
   "metadata": {},
   "source": [
    "# Datajam 2020: Pasos Libres."
   ]
  },
  {
   "cell_type": "markdown",
   "metadata": {},
   "source": [
    "* La oferta: trabajos para modelar, hacer masajes y viajar por el mundo.\n",
    "* Universitarias, 18 a 23 años.\n",
    "* Sin hijos ni antecedentes penales.\n",
    "* Viajar a otro paíso a otra ciudad.\n",
    "* Excelente remuneración.\n",
    "\n",
    "---\n",
    "\n",
    "* Avisos con contenido sexual.\n",
    "* Hombre y mujeres como objetos de etereoptios de deseo y placer.\n",
    "---\n",
    "\n",
    "* Belleza, Juventud, Pureza, Status.\n",
    "\n",
    "---\n",
    "\n",
    "Forma de nombre a las mujeres: \n",
    "* Rubia, voluptousa, cuerpo, pornográfico, ardiente.\n",
    "* Bebitas.\n",
    "* Nueva, angelito, amorosa, tierna.\n",
    "* Universtaria, exclusiva.\n",
    "\n",
    "---\n",
    "Forma de nombrar a los hombres: \n",
    "* Atractivo, varonil, exótico.\n",
    "* Nuevo\n",
    "* Universitario, exclusivo.\n",
    "\n",
    "---\n",
    "Anuncios: \n",
    "\n",
    "* Cosificación del cuerpo.\n",
    "* Promociones.\n",
    "* SuperHot, NUEVAS, Disfrutame completitas."
   ]
  },
  {
   "cell_type": "markdown",
   "metadata": {},
   "source": [
    "## Páginas de Empleo.\n",
    "\n",
    "* El tiempo (clasificados)\n",
    "* Trovit.\n",
    "* Computrabajo."
   ]
  },
  {
   "cell_type": "code",
   "execution_count": 8,
   "metadata": {},
   "outputs": [],
   "source": [
    "# Import libraries.\n",
    "import numpy as np\n",
    "import pandas as pd\n",
    "import matplotlib.pyplot as plt\n",
    "import folium\n",
    "import googlesearch"
   ]
  },
  {
   "cell_type": "code",
   "execution_count": 36,
   "metadata": {},
   "outputs": [],
   "source": [
    "query = \"anuncios clasificados eróticos\"\n",
    "tld = \"com\"\n",
    "lang = \"es\"\n",
    "tbs = \"0\"\n",
    "safe = \"off\"\n",
    "num = 30\n",
    "start = 0\n",
    "stop = 30\n",
    "pause = 2.0\n",
    "country = \"colombia\""
   ]
  },
  {
   "cell_type": "code",
   "execution_count": 37,
   "metadata": {},
   "outputs": [],
   "source": [
    "result = googlesearch.search(query, tld, lang, tbs, safe, num, start, stop, pause, country)"
   ]
  },
  {
   "cell_type": "code",
   "execution_count": 38,
   "metadata": {},
   "outputs": [
    {
     "name": "stdout",
     "output_type": "stream",
     "text": [
      "https://co.skokka.com/\n",
      "https://co.mundosexanuncio.com/\n",
      "https://co.mileroticos.com/\n",
      "https://co.mileroticos.com/contactos/bogota/buscar-eroticos/\n",
      "https://clasificados.eltiempo.com/anuncios-eroticos/acompanantes/\n",
      "https://clasificados.eltiempo.com/anuncios-eroticos/bogota/\n",
      "https://www.prepagosx.com/agregue-su-anuncio/\n",
      "https://doneroticos.com/\n",
      "https://anunciosprepagos.com/publicar-nuevo.html\n",
      "https://www.evisex.com.co/\n",
      "https://lacasainclinada.com/clasificados-eroticos/\n",
      "http://tuad.com.co/index.php?route=common/home&category_id=131&subcategory_id=140\n",
      "https://www.guiaclasificadoscolombia.com/2019/08/clasificados-eroticos-y-para-adultos-en.html\n",
      "https://co.eroticum.net/\n",
      "https://www.eroticosenlaciudad.com/clasificados-eroticos/colombia/es/2/publicar.php\n",
      "https://www.locanto.com.co/geo/1203170/Medellin/\n",
      "https://www.photoprepagos.com/prepagos/bucaramanga/masajes-eroticos\n",
      "https://nomecabe.com/\n",
      "https://anunciosprepagos.com/\n",
      "https://www.allanuncios.com.co/clasificados/antioquia\n",
      "https://www.pinterest.es/pin/783907878877615113/\n",
      "https://clubvivamos.com/hogar-y-servicios/clasificados-el-tiempo/43492\n",
      "http://www.webrss.com/public-widget.php?mysiteId=109875\n",
      "https://www.encuentra24.com/colombia-es/clasificados\n",
      "https://co.sexlist.club/\n",
      "http://www.libertaddigital.com/internet/el-lider-en-anuncios-clasificados-eliminara-la-categoria-de-servicios-eroticos-1276359248/\n",
      "https://clasificadox.com/\n",
      "https://www.milanuncios.com/anuncios/er%F3ticos-barcelona.htm?pagina=23\n",
      "http://www.anunciosclasificados.com.co/anuncio/busco-chica-para-diversion-total_Bogota\n",
      "http://www.amorerotico.com/\n"
     ]
    }
   ],
   "source": [
    "for i in result: \n",
    "    print(i)"
   ]
  },
  {
   "cell_type": "code",
   "execution_count": null,
   "metadata": {},
   "outputs": [],
   "source": [
    "palabras clave = [\n",
    "    \"modelos\",\n",
    "    \"actriz\", \n",
    "    \"actor\", \n",
    "    \"mujeres\"\n",
    "    \"\"\n",
    "    \n",
    "    \n",
    "]"
   ]
  }
 ],
 "metadata": {
  "kernelspec": {
   "display_name": "Python 3",
   "language": "python",
   "name": "python3"
  },
  "language_info": {
   "codemirror_mode": {
    "name": "ipython",
    "version": 3
   },
   "file_extension": ".py",
   "mimetype": "text/x-python",
   "name": "python",
   "nbconvert_exporter": "python",
   "pygments_lexer": "ipython3",
   "version": "3.7.3"
  }
 },
 "nbformat": 4,
 "nbformat_minor": 2
}
