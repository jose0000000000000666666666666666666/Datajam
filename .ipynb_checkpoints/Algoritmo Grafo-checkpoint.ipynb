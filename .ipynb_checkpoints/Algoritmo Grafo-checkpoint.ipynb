{
 "cells": [
  {
   "cell_type": "markdown",
   "metadata": {},
   "source": [
    "# Implentation of the graph"
   ]
  },
  {
   "cell_type": "markdown",
   "metadata": {},
   "source": [
    "- Inicializar el grafo vacio NetworkX\n",
    "- Crear un nodo. Para inicializar ese nodo buscamos en google (Primer resultado)\n",
    "- N engines (computacion en paralelo) que busquen en los links\n",
    "- Filtros URLs, Filtros Organizaciones (Revisar) - GPT2 (Clustering)\n",
    "- Criterio de parada del agente.\n",
    "- https://spacy.io/api/entityrecognizer\n"
   ]
  },
  {
   "cell_type": "code",
   "execution_count": 9,
   "metadata": {},
   "outputs": [],
   "source": [
    "# Connection libraries.\n",
    "import urllib.request, urllib.parse, urllib.error\n",
    "import requests\n",
    "from bs4 import BeautifulSoup\n",
    "#from langdetect import detect\n",
    "import re\n",
    "import hashlib \n",
    "import time\n",
    "import langdetect\n",
    "\n",
    "import spacy\n",
    "import es_core_news_sm\n",
    "import en_core_web_sm\n",
    "import networkx as nx"
   ]
  },
  {
   "cell_type": "code",
   "execution_count": 10,
   "metadata": {},
   "outputs": [],
   "source": [
    "# Import class TheWitness (webscraper)\n",
    "%run ./TheWitness.ipynb\n",
    "\n",
    "# Import class Node \n",
    "%run ./Website.ipynb"
   ]
  },
  {
   "cell_type": "markdown",
   "metadata": {},
   "source": [
    "## Initialize the graph."
   ]
  },
  {
   "cell_type": "code",
   "execution_count": null,
   "metadata": {},
   "outputs": [],
   "source": [
    "# Initialize graph.\n",
    "G = nx.Graph()\n",
    "\n",
    "# Max distance from root.\n",
    "max_distance_from_root = 2"
   ]
  },
  {
   "cell_type": "code",
   "execution_count": 12,
   "metadata": {},
   "outputs": [],
   "source": [
    "# Define functions.\n",
    "\n",
    "\"\"\"\n",
    "This functions return de node's hash.\n",
    "\"\"\"\n",
    "def getNodeHash(url): \n",
    "    websiteHash = hashlib.sha256()\n",
    "    websiteHash.update(url.encode())\n",
    "    return websiteHash.hexdigest()\n",
    "\n",
    "\n",
    "\"\"\"\n",
    "This function add a new node to the global graph.\n",
    "\"\"\"\n",
    "def addNodeToGraph(website_info):\n",
    "    \n",
    "    # This indicates python that we will use a global variable defined previously.\n",
    "    global G\n",
    "    \n",
    "    # Extract the Website info.\n",
    "    website = Website(\n",
    "        ID = website_info[0], \n",
    "        url = website_info[1],\n",
    "        content_type = website_info[2],\n",
    "        language = website_info[3],\n",
    "        urls = website_info[4],\n",
    "        social_networks_urls = website_info[5],\n",
    "        text = website_info[6], \n",
    "        names = website_info[7],\n",
    "        locations = website_info[8],\n",
    "        iframes = website_info[9],\n",
    "        organizations = website_info[10], \n",
    "        dates = website_info[11],\n",
    "        phonenumbers = website_info[12], \n",
    "        images_urls = website_info[13],\n",
    "        payment_accounts = website_info[14],\n",
    "        emails = website_info[15]\n",
    "    )\n",
    "    \n",
    "    # Add website to the graph.\n",
    "    G.add_node(website)\n",
    "    \n",
    "    # Returns the website.\n",
    "    return website\n",
    "\n",
    "\"\"\"\n",
    "Once the first witness has explored the root, released more witnesses!\n",
    "\"\"\"\n",
    "def exploreGraph(website, root_witness):\n",
    "    \n",
    "    global max_distance_from_root\n",
    "    \n",
    "    # If agent is not to far from the initial root website of the explotation.\n",
    "    if root_witness.getDistance() <= max_distance_from_root;\n",
    "    \n",
    "        # For every url in the website.\n",
    "        for destination_url in website.getUrls():\n",
    "\n",
    "            # Initialize a new witness.\n",
    "            new_witness = TheWitness(\n",
    "                            origin_url = website.getUrl(), \n",
    "                            destination_url = destination_url, \n",
    "                            destination_hash = getNodeHash(destination_url), \n",
    "                            root_witness.getDistance() + 1\n",
    "                      )\n",
    "            \n",
    "            # Try to scrap this website!\n",
    "            try:\n",
    "                result = new_witness.scrap()\n",
    "                \n",
    "                # If this website was interesting.\n",
    "                if result != -1:\n",
    "                    \n",
    "                    # Get new website.\n",
    "                    new_website = addNodeToGraph(result)\n",
    "                    \n",
    "                    # Explore the finding of the new witness.\n",
    "                    exploreGraph(new_website, new_witness)\n",
    "                    \n",
    "                # This website is not interesting.\n",
    "                else: \n",
    "                    pass\n",
    "            \n",
    "            # Some error arise when exploring this website: delete the witness.\n",
    "            except:\n",
    "                pass\n",
    "                \n",
    "            # Delete the witness.\n",
    "            del new_witness"
   ]
  },
  {
   "cell_type": "markdown",
   "metadata": {},
   "source": [
    "### An brief example of the algorithm."
   ]
  },
  {
   "cell_type": "code",
   "execution_count": 5,
   "metadata": {
    "scrolled": false
   },
   "outputs": [],
   "source": [
    "# Initialize root and first witness.\n",
    "root = \"https://dentalgomez.co/\"\n",
    "witness = TheWitness(root, root, getNodeHash(root), 0)\n",
    "\n",
    "# Scrap the root!\n",
    "result = witness.scrap()"
   ]
  },
  {
   "cell_type": "code",
   "execution_count": 6,
   "metadata": {
    "scrolled": false
   },
   "outputs": [],
   "source": []
  },
  {
   "cell_type": "code",
   "execution_count": 7,
   "metadata": {},
   "outputs": [
    {
     "data": {
      "text/plain": [
       "<__main__.Website at 0x1f928cf8108>"
      ]
     },
     "execution_count": 7,
     "metadata": {},
     "output_type": "execute_result"
    }
   ],
   "source": [
    "pos= addNodeToGraph(result) - 1\n",
    "root = list(G.nodes)[pos]\n",
    "root"
   ]
  },
  {
   "cell_type": "code",
   "execution_count": 8,
   "metadata": {},
   "outputs": [],
   "source": [
    "def graph(node, witness):\n",
    "    if witness.getDistance()<3:\n",
    "        for n in node.getUrls():\n",
    "            # Validacion de las URLs\n",
    "            w=TheWitness(node.getUrl(), n, 1, witness.getDistance()+1)\n",
    "            try:\n",
    "                result = w.scrap()\n",
    "                node_pos=addNode(result)-1\n",
    "                node1=list(G.nodes)[node_pos]\n",
    "                graph(node1, w)\n",
    "                del witness\n",
    "            except:\n",
    "                del witness\n",
    "                pass\n",
    "                \n",
    "\n",
    "    "
   ]
  },
  {
   "cell_type": "code",
   "execution_count": 9,
   "metadata": {},
   "outputs": [
    {
     "data": {
      "text/plain": [
       "<__main__.TheWitness at 0x1f930b13908>"
      ]
     },
     "execution_count": 9,
     "metadata": {},
     "output_type": "execute_result"
    }
   ],
   "source": [
    "witness"
   ]
  },
  {
   "cell_type": "code",
   "execution_count": 10,
   "metadata": {},
   "outputs": [
    {
     "ename": "UnboundLocalError",
     "evalue": "local variable 'witness' referenced before assignment",
     "output_type": "error",
     "traceback": [
      "\u001b[1;31m---------------------------------------------------------------------------\u001b[0m",
      "\u001b[1;31mUnboundLocalError\u001b[0m                         Traceback (most recent call last)",
      "\u001b[1;32m<ipython-input-10-3eca07c50833>\u001b[0m in \u001b[0;36m<module>\u001b[1;34m\u001b[0m\n\u001b[1;32m----> 1\u001b[1;33m \u001b[0mgraph\u001b[0m\u001b[1;33m(\u001b[0m\u001b[0mroot\u001b[0m\u001b[1;33m,\u001b[0m \u001b[0mwitness\u001b[0m\u001b[1;33m)\u001b[0m\u001b[1;33m\u001b[0m\u001b[1;33m\u001b[0m\u001b[0m\n\u001b[0m",
      "\u001b[1;32m<ipython-input-8-f6a19e445a8a>\u001b[0m in \u001b[0;36mgraph\u001b[1;34m(***failed resolving arguments***)\u001b[0m\n\u001b[0;32m      3\u001b[0m         \u001b[1;32mfor\u001b[0m \u001b[0mn\u001b[0m \u001b[1;32min\u001b[0m \u001b[0mnode\u001b[0m\u001b[1;33m.\u001b[0m\u001b[0mgetUrls\u001b[0m\u001b[1;33m(\u001b[0m\u001b[1;33m)\u001b[0m\u001b[1;33m:\u001b[0m\u001b[1;33m\u001b[0m\u001b[1;33m\u001b[0m\u001b[0m\n\u001b[0;32m      4\u001b[0m             \u001b[1;31m# Validacion de las URLs\u001b[0m\u001b[1;33m\u001b[0m\u001b[1;33m\u001b[0m\u001b[1;33m\u001b[0m\u001b[0m\n\u001b[1;32m----> 5\u001b[1;33m             \u001b[0mw\u001b[0m\u001b[1;33m=\u001b[0m\u001b[0mTheWitness\u001b[0m\u001b[1;33m(\u001b[0m\u001b[0mnode\u001b[0m\u001b[1;33m.\u001b[0m\u001b[0mgetUrl\u001b[0m\u001b[1;33m(\u001b[0m\u001b[1;33m)\u001b[0m\u001b[1;33m,\u001b[0m \u001b[0mn\u001b[0m\u001b[1;33m,\u001b[0m \u001b[1;36m1\u001b[0m\u001b[1;33m,\u001b[0m \u001b[0mwitness\u001b[0m\u001b[1;33m.\u001b[0m\u001b[0mgetDistance\u001b[0m\u001b[1;33m(\u001b[0m\u001b[1;33m)\u001b[0m\u001b[1;33m+\u001b[0m\u001b[1;36m1\u001b[0m\u001b[1;33m)\u001b[0m\u001b[1;33m\u001b[0m\u001b[1;33m\u001b[0m\u001b[0m\n\u001b[0m\u001b[0;32m      6\u001b[0m             \u001b[1;32mtry\u001b[0m\u001b[1;33m:\u001b[0m\u001b[1;33m\u001b[0m\u001b[1;33m\u001b[0m\u001b[0m\n\u001b[0;32m      7\u001b[0m                 \u001b[0mresult\u001b[0m \u001b[1;33m=\u001b[0m \u001b[0mw\u001b[0m\u001b[1;33m.\u001b[0m\u001b[0mscrap\u001b[0m\u001b[1;33m(\u001b[0m\u001b[1;33m)\u001b[0m\u001b[1;33m\u001b[0m\u001b[1;33m\u001b[0m\u001b[0m\n",
      "\u001b[1;31mUnboundLocalError\u001b[0m: local variable 'witness' referenced before assignment"
     ]
    }
   ],
   "source": [
    "graph(root, witness)"
   ]
  },
  {
   "cell_type": "code",
   "execution_count": null,
   "metadata": {},
   "outputs": [],
   "source": [
    "G"
   ]
  },
  {
   "cell_type": "code",
   "execution_count": 59,
   "metadata": {},
   "outputs": [
    {
     "data": {
      "text/plain": [
       "['https://chrome.google.com/webstore/category/extensions?hl=en',\n",
       " 'https://chromeenterprise.google/browser/download/?hl=en',\n",
       " 'https://support.google.com/accounts/answer/3118621?hl=en',\n",
       " 'https://policies.google.com/technologies/cookies?hl=en',\n",
       " 'https://www.google.com/support/chrome/bin/answer.py?answer=96817&hl=en',\n",
       " 'https://policies.google.com/terms',\n",
       " 'https://www.google.com/chromebook/',\n",
       " 'https://www.google.com/chromecast/',\n",
       " 'https://www.google.com/chrome/cleanup-tool',\n",
       " 'https://chromeenterprise.google/browser/download/',\n",
       " 'https://chromeenterprise.google/browser/',\n",
       " 'https://chromeenterprise.google/devices/',\n",
       " 'https://chromeenterprise.google/os/',\n",
       " 'https://cloud.google.com/',\n",
       " 'https://gsuite.google.com/',\n",
       " 'https://edu.google.com/products/more-products/',\n",
       " 'https://edu.google.com/products/devices/',\n",
       " 'https://chrome.google.com/webstore/category/app/8-education?hl=en',\n",
       " 'https://www.chromium.org/',\n",
       " 'https://www.chromium.org/chromium-os',\n",
       " 'https://developer.chrome.com/webstore/?hl=en',\n",
       " 'https://www.chromeexperiments.com/',\n",
       " 'https://blog.google/products/chrome/',\n",
       " 'https://support.google.com/chrome/?hl=en&rd=3#topic=7438008',\n",
       " 'https://www.google.com',\n",
       " 'https://about.google/',\n",
       " 'https://about.google/products/',\n",
       " 'https://chromium.googlesource.com/chromium/src/+/refs/heads/master/docs/linux/chromium_packages.md']"
      ]
     },
     "execution_count": 59,
     "metadata": {},
     "output_type": "execute_result"
    }
   ],
   "source": [
    "list(G.nodes)[7].getUrls() #0x29e08166788"
   ]
  },
  {
   "cell_type": "code",
   "execution_count": 44,
   "metadata": {},
   "outputs": [
    {
     "data": {
      "text/plain": [
       "1"
      ]
     },
     "execution_count": 44,
     "metadata": {},
     "output_type": "execute_result"
    }
   ],
   "source": [
    "addNode(G, result)"
   ]
  },
  {
   "cell_type": "code",
   "execution_count": 45,
   "metadata": {},
   "outputs": [
    {
     "data": {
      "text/plain": [
       "['http://www.google.com/',\n",
       " 'https://cbswag.com',\n",
       " 'https://exoticads.com/aff/in/mrps/agBmX/?track=top_skyscraper',\n",
       " 'https://exoticads.com/aff/in/mrps/agBmX/?track=mid_skyscraper',\n",
       " 'https://exoticads.com/aff/in/mrps/agBmX/?track=tbot_skyscraper',\n",
       " 'https://exoticads.com/aff/in/mrps/agBmX/?track=left_footer',\n",
       " 'https://exoticads.com/aff/in/mrps/agBmX/?track=mid_footer',\n",
       " 'https://exoticads.com/aff/in/mrps/agBmX/?track=right_footer',\n",
       " 'https://support.chaturbate.com/',\n",
       " 'https://www.surveymonkey.com/r/5XLZ85R',\n",
       " 'https://exoticads.com/',\n",
       " 'https://ar.chaturbate.com/',\n",
       " 'https://de.chaturbate.com/',\n",
       " 'https://el.chaturbate.com/',\n",
       " 'https://en.chaturbate.com/',\n",
       " 'https://es.chaturbate.com/',\n",
       " 'https://fr.chaturbate.com/',\n",
       " 'https://hi.chaturbate.com/',\n",
       " 'https://it.chaturbate.com/',\n",
       " 'https://ja.chaturbate.com/',\n",
       " 'https://ko.chaturbate.com/',\n",
       " 'https://nl.chaturbate.com/',\n",
       " 'https://pt.chaturbate.com/',\n",
       " 'https://ru.chaturbate.com/',\n",
       " 'https://tr.chaturbate.com/',\n",
       " 'https://zh.chaturbate.com/',\n",
       " 'http://www.rtalabel.org/',\n",
       " 'http://www.asacp.org/ASACP.php/']"
      ]
     },
     "execution_count": 45,
     "metadata": {},
     "output_type": "execute_result"
    }
   ],
   "source": [
    "list(G.nodes)[0].getUrls()"
   ]
  },
  {
   "cell_type": "code",
   "execution_count": 55,
   "metadata": {},
   "outputs": [
    {
     "data": {
      "text/plain": [
       "['https://mx.mileroticos.com',\n",
       " 'https://www.mileroticos.com',\n",
       " 'https://www.millerotici.com',\n",
       " 'https://cl.mileroticos.com',\n",
       " 'https://br.mileroticos.com',\n",
       " 'http://www.google.es']"
      ]
     },
     "execution_count": 55,
     "metadata": {},
     "output_type": "execute_result"
    }
   ],
   "source": [
    "list(G.nodes)[0].getUrls()"
   ]
  },
  {
   "cell_type": "code",
   "execution_count": null,
   "metadata": {},
   "outputs": [],
   "source": []
  },
  {
   "cell_type": "code",
   "execution_count": 6,
   "metadata": {},
   "outputs": [],
   "source": [
    "# For link in links.\n",
    "def explore_network(result):\n",
    "    \n",
    "    count = 1\n",
    "    for link in result[2]: \n",
    "\n",
    "        \n",
    "        # We already explored this website.\n",
    "        try: \n",
    "            if hashes_map[link]: \n",
    "                pass\n",
    "\n",
    "        # New website!\n",
    "        except:\n",
    "            \n",
    "            navegable = True\n",
    "            for website in omit_pages: \n",
    "                if link.find(website) != -1: \n",
    "                    navegable = False\n",
    "                    \n",
    "\n",
    "            if navegable: \n",
    "                root = \"https://modelosalacarta.com/\"\n",
    "                destination = link\n",
    "                hash_destination = nodeID(destination)\n",
    "                distance_from_root = 1\n",
    "                #hashes_map[destination] = True\n",
    "\n",
    "                witness = TheWitness(\n",
    "                    root, \n",
    "                    destination, \n",
    "                    hash_destination, \n",
    "                    distance_from_root\n",
    "                )\n",
    "                result = witness.scrap()\n",
    "                \n",
    "                print(\"---------------\")\n",
    "                print(\"Agent No.\", count)\n",
    "                print(result)\n",
    "                print(\"---------------\")\n",
    "                \n",
    "                del witness\n",
    "                \n",
    "        count += 1"
   ]
  },
  {
   "cell_type": "code",
   "execution_count": 7,
   "metadata": {},
   "outputs": [],
   "source": [
    "def nodeID(url): \n",
    "    m = hashlib.sha256()\n",
    "    m.update(url.encode())\n",
    "    return m.hexdigest()"
   ]
  },
  {
   "cell_type": "code",
   "execution_count": null,
   "metadata": {},
   "outputs": [],
   "source": []
  }
 ],
 "metadata": {
  "kernelspec": {
   "display_name": "Python 3",
   "language": "python",
   "name": "python3"
  },
  "language_info": {
   "codemirror_mode": {
    "name": "ipython",
    "version": 3
   },
   "file_extension": ".py",
   "mimetype": "text/x-python",
   "name": "python",
   "nbconvert_exporter": "python",
   "pygments_lexer": "ipython3",
   "version": "3.7.3"
  }
 },
 "nbformat": 4,
 "nbformat_minor": 4
}
