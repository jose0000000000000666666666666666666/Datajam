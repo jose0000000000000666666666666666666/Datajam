{
 "cells": [
  {
   "cell_type": "code",
   "execution_count": 123,
   "metadata": {},
   "outputs": [],
   "source": [
    "# Connection libraries.\n",
    "import urllib.request, urllib.parse, urllib.error\n",
    "import requests\n",
    "from bs4 import BeautifulSoup\n",
    "#from langdetect import detect\n",
    "import re\n",
    "import hashlib "
   ]
  },
  {
   "cell_type": "code",
   "execution_count": 168,
   "metadata": {},
   "outputs": [],
   "source": [
    "url = \"https://bybmodels.webnode.com.co/\"\n",
    "r = requests.get(url)\n",
    "data = r.text\n",
    "soup = BeautifulSoup(data, \"html.parser\")"
   ]
  },
  {
   "cell_type": "code",
   "execution_count": 169,
   "metadata": {},
   "outputs": [],
   "source": [
    "def nodeID(url): \n",
    "    m = hashlib.sha256()\n",
    "    m.update(url.encode())\n",
    "    return m.hexdigest()"
   ]
  },
  {
   "cell_type": "code",
   "execution_count": 192,
   "metadata": {},
   "outputs": [],
   "source": [
    "# Find all the urls in the website.\n",
    "def find_links(url, social_path, soup):\n",
    "    \n",
    "    # Social media keywords.\n",
    "    f = open(social_path, \"r\")\n",
    "    sm_keywords = f.read().replace(\"\\n\", \"\").split(\" \")\n",
    "    f.close()\n",
    "    \n",
    "    # Remove last / in url if exists.\n",
    "    if(url[-1] == \"/\"):\n",
    "        url = url[0: -1]\n",
    "    \n",
    "    # Initialize lists.\n",
    "    urls = list()\n",
    "    social_networks = list()\n",
    "    cellphones = list()\n",
    "    \n",
    "    for tag in soup.find_all(\"a\"):\n",
    "        \n",
    "        try:\n",
    "        \n",
    "            link = tag.attrs[\"href\"]\n",
    "            \n",
    "            # We don't want neither images nor #\n",
    "            if link.find(\"#\") == -1 and link.find(\"jpg\") == -1 and link.find(\"png\") == -1: \n",
    "\n",
    "                # Internal link.\n",
    "                if link.find(\"/\") == 0: \n",
    "                    new_link = url + link\n",
    "                    if new_link not in urls: \n",
    "                        urls.append(new_link)\n",
    "\n",
    "                # External link.\n",
    "                else: \n",
    "\n",
    "                    # Verify in link correspond to a social media website.\n",
    "                    for social_media_name in sm_keywords: \n",
    "\n",
    "                        # It does!\n",
    "                        if link.find(social_media_name) != -1: \n",
    "                            if link not in social_networks: \n",
    "                                social_networks.append(link)\n",
    "\n",
    "                                # Get phone number.\n",
    "                                if link.find(\"api.whatsapp.com\") != -1:\n",
    "                                    number = re.findall(\"phone=([0-9]*)\", text)\n",
    "                                    if number[0] not in cellphones: \n",
    "                                        cellphones.append(number[0])             \n",
    "\n",
    "                        # It doesn't.\n",
    "                        else: \n",
    "                            if link not in urls: \n",
    "                                urls.append(link)\n",
    "        except: \n",
    "            pass\n",
    "    return urls, social_networks, cellphones"
   ]
  },
  {
   "cell_type": "code",
   "execution_count": 193,
   "metadata": {
    "scrolled": false
   },
   "outputs": [],
   "source": [
    "social_path = \"./datasets/socialmedia_names.txt\"\n",
    "urls, social_networks, cellphones = find_links(url, social_path, soup)"
   ]
  },
  {
   "cell_type": "code",
   "execution_count": 194,
   "metadata": {},
   "outputs": [
    {
     "data": {
      "text/plain": [
       "'https://bybmodels.webnode.com.co/'"
      ]
     },
     "execution_count": 194,
     "metadata": {},
     "output_type": "execute_result"
    }
   ],
   "source": [
    "url"
   ]
  },
  {
   "cell_type": "code",
   "execution_count": 195,
   "metadata": {},
   "outputs": [
    {
     "data": {
      "text/plain": [
       "'f5c31fa01f5ade2464339ce7ec08eaa69586dfbf78de54e3bb5f72dcd8902175'"
      ]
     },
     "execution_count": 195,
     "metadata": {},
     "output_type": "execute_result"
    }
   ],
   "source": [
    "nodeID(url)"
   ]
  },
  {
   "cell_type": "code",
   "execution_count": 196,
   "metadata": {},
   "outputs": [
    {
     "data": {
      "text/plain": [
       "['https://bybmodels.webnode.com.co/home/',\n",
       " 'https://bybmodels.webnode.com.co/contacto/',\n",
       " 'https://api.whatsapp.com/send?phone=573115607605&text=Buen%20d%C3%ADa,%20quiero%20informaci%C3%B3n%20del%20trabajo.%20',\n",
       " 'http://api.whatsapp.com/send?phone=573115607605&text=Buen%20d%C3%ADa,%20quiero%20informaci%C3%B3n%20del%20trabajo.%20',\n",
       " 'https://www.webnode.es?utm_source=text&utm_medium=footer&utm_campaign=free3&utm_content=wnd2',\n",
       " 'https://www.webnode.es?utm_source=button&utm_medium=footer&utm_campaign=free3&utm_content=wnd2']"
      ]
     },
     "execution_count": 196,
     "metadata": {},
     "output_type": "execute_result"
    }
   ],
   "source": [
    "urls"
   ]
  },
  {
   "cell_type": "code",
   "execution_count": 197,
   "metadata": {
    "scrolled": true
   },
   "outputs": [
    {
     "data": {
      "text/plain": [
       "['https://api.whatsapp.com/send?phone=573115607605&text=Buen%20d%C3%ADa,%20quiero%20informaci%C3%B3n%20del%20trabajo.%20',\n",
       " 'http://api.whatsapp.com/send?phone=573115607605&text=Buen%20d%C3%ADa,%20quiero%20informaci%C3%B3n%20del%20trabajo.%20']"
      ]
     },
     "execution_count": 197,
     "metadata": {},
     "output_type": "execute_result"
    }
   ],
   "source": [
    "social_networks"
   ]
  },
  {
   "cell_type": "code",
   "execution_count": 198,
   "metadata": {},
   "outputs": [
    {
     "data": {
      "text/plain": [
       "['573058270682']"
      ]
     },
     "execution_count": 198,
     "metadata": {},
     "output_type": "execute_result"
    }
   ],
   "source": [
    "cellphones"
   ]
  },
  {
   "cell_type": "code",
   "execution_count": null,
   "metadata": {},
   "outputs": [],
   "source": []
  }
 ],
 "metadata": {
  "kernelspec": {
   "display_name": "Python 3",
   "language": "python",
   "name": "python3"
  },
  "language_info": {
   "codemirror_mode": {
    "name": "ipython",
    "version": 3
   },
   "file_extension": ".py",
   "mimetype": "text/x-python",
   "name": "python",
   "nbconvert_exporter": "python",
   "pygments_lexer": "ipython3",
   "version": "3.7.3"
  }
 },
 "nbformat": 4,
 "nbformat_minor": 2
}
