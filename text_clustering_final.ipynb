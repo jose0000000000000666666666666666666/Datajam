{
 "cells": [
  {
   "cell_type": "code",
   "execution_count": 5,
   "metadata": {},
   "outputs": [],
   "source": [
    "import pandas as pd\n",
    "import gensim\n",
    "from gensim.models.ldamulticore import LdaMulticore\n",
    "from gensim import corpora, models\n",
    "from gensim.test.utils import common_texts\n",
    "from gensim.corpora.dictionary import Dictionary\n",
    "from gensim.test.utils import datapath\n",
    "\n",
    "import nltk\n",
    "from nltk.corpus import stopwords\n",
    "import string\n",
    "from nltk.stem.wordnet import WordNetLemmatizer\n",
    "from itertools import chain\n",
    "\n",
    "import warnings\n",
    "warnings.simplefilter(\"ignore\")"
   ]
  },
  {
   "cell_type": "code",
   "execution_count": 8,
   "metadata": {},
   "outputs": [],
   "source": [
    "lda = gensim.models.ldamodel.LdaModel\n",
    "stop = set(stopwords.words('english')).union(stopwords.words('spanish'))\n",
    "exclude = set(string.punctuation)\n",
    "lemma = WordNetLemmatizer()\n",
    "\n",
    "temp_file = datapath(\"dictio\")\n",
    "dictionary = corpora.Dictionary.load(temp_file, mmap='r')\n",
    "\n",
    "temp_file = datapath(\"text_clustering_model\")\n",
    "ldamodel = lda.load(temp_file, mmap='r')\n",
    "\n",
    "\n",
    "def clean(text):\n",
    "    stop_free = \" \".join([word for word in text.lower().split() if word not in stop])\n",
    "    punct_free = \"\".join(ch for ch in stop_free if ch not in exclude)\n",
    "    normalized = \" \".join([lemma.lemmatize(word) for word in punct_free.split()])\n",
    "    return normalized.split()\n",
    "\n",
    "def cluster_text(text, umbral_param = 0.6):\n",
    "    clean_text = [clean(text)]\n",
    "    doc_term_matrix_test = [dictionary.doc2bow(doc) for doc in clean_text]\n",
    "    distribution = ldamodel[doc_term_matrix_test[0]]\n",
    "    max_ = get_max(distribution, umbral_param)\n",
    "    return max_\n",
    "\n",
    "def get_max(list_distribution, umbral_param):\n",
    "    umbral = umbral_param\n",
    "    temp_label = -1\n",
    "    temp_max = 0\n",
    "    for cluster in list_distribution:\n",
    "        if cluster[1] > temp_max and cluster[1] > umbral:\n",
    "            temp_max = cluster[1]\n",
    "            temp_label = cluster[0]\n",
    "    return temp_label"
   ]
  },
  {
   "cell_type": "code",
   "execution_count": 4,
   "metadata": {},
   "outputs": [
    {
     "data": {
      "text/plain": [
       "2"
      ]
     },
     "execution_count": 4,
     "metadata": {},
     "output_type": "execute_result"
    }
   ],
   "source": [
    "text = \"ciencia investigacion matemáticas física quimica\"\n",
    "text2 = \"Mira a miles de personas reales desnudas y teniendo sexo en directo en webcam las 24 horas. 100% Gratis para mirar, chatear y transmitir. No se necesita ...\"\n",
    "cluster_text(text2)"
   ]
  },
  {
   "cell_type": "code",
   "execution_count": null,
   "metadata": {},
   "outputs": [],
   "source": []
  }
 ],
 "metadata": {
  "kernelspec": {
   "display_name": "Python 3",
   "language": "python",
   "name": "python3"
  },
  "language_info": {
   "codemirror_mode": {
    "name": "ipython",
    "version": 3
   },
   "file_extension": ".py",
   "mimetype": "text/x-python",
   "name": "python",
   "nbconvert_exporter": "python",
   "pygments_lexer": "ipython3",
   "version": "3.7.3"
  }
 },
 "nbformat": 4,
 "nbformat_minor": 4
}
