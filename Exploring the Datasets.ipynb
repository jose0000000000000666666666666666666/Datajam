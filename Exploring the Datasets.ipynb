{
 "cells": [
  {
   "cell_type": "markdown",
   "metadata": {},
   "source": [
    "# Exploring the Datasets."
   ]
  },
  {
   "cell_type": "code",
   "execution_count": 2,
   "metadata": {},
   "outputs": [],
   "source": [
    "# Import libraries.\n",
    "\n",
    "# Path libraries.\n",
    "from os import listdir\n",
    "from os.path import isfile, join"
   ]
  },
  {
   "cell_type": "code",
   "execution_count": 17,
   "metadata": {},
   "outputs": [
    {
     "name": "stdout",
     "output_type": "stream",
     "text": [
      "Dataset Names: \n",
      "\n",
      "['COVID-Impact-on-Trafficking', 'FBI_Incidents_Analysis', 'Pennsylvania-Analysis', 'Research-Data-Sets', 'The-Future-Society-Modern-Slavery-Statements-Research']\n"
     ]
    }
   ],
   "source": [
    "# Configure path to files.\n",
    "filesPath = \"../ta_datasets/\"\n",
    "datasetNames = listdir(filesPath)\n",
    "\n",
    "# Drop useless dataset.\n",
    "datasetNames.remove(\"Research-Projects\")\n",
    "datasetNames.remove(\"tobacco_harvesting\")\n",
    "\n",
    "# Print datasets.\n",
    "print(\"Dataset Names: \\n\")\n",
    "print(datasetNames)"
   ]
  },
  {
   "cell_type": "markdown",
   "metadata": {},
   "source": [
    "* Research-Data-Sets: /datasets/file_nam/data.csv\n",
    "* The Future Society Moderns Slavery Statements Research: Revisar.\n",
    "* Pennsylivania-Analysis: data/name.csv\n",
    "* COVID-Impact-on-Trafficking: data/name.csv\n",
    "* FBI_Incidents_Analysis: Data_Source/"
   ]
  },
  {
   "cell_type": "code",
   "execution_count": 48,
   "metadata": {},
   "outputs": [],
   "source": [
    "list_map = {\n",
    "    \n",
    "    \"ACLED\": [\"Armed Conflict Location and Event Data Project\", \"https://acleddata.com/\"],\n",
    "    \"corruption\": [\"Corruption\"], \n",
    "    \"CRIME DATA EXPLORER\": [\"Crime Data Explorer\", \"https://crime-data-explorer.fr.cloud.gov/\"],\n",
    "    \"CTDC\": [\"The Counter Trafficking Data Collaborative\", \"https://www.ctdatacollaborative.org/\"],\n",
    "    \"displacement\": [\"Displacement\"], \n",
    "    \"emdat\": [\"The Internacional Disaster Database\", \"https://www.emdat.be/\"], \n",
    "    \"FIW\": [\"Political and Civil Rights\"], \n",
    "    \"FOOD\": [\"Food and Agriculture Organization of the United Nations\", \"http://www.fao.org/home/en/\"], \n",
    "    \"FragileStates\": [\"Fragile States Info\", \"Security, legitimacy, external intervention, and so on.\"],\n",
    "    \"HumanRights\": [\"Human Rigths Score\"], \n",
    "    \"LATIN AMERICA\": [\"--- Revisar, importante ---\"],\n",
    "    \"mixedmigration\": [\"Mixed Migration\"],\n",
    "    \"myanmar\": [\"Myanmar\", \"Useless dataset.\"],\n",
    "    \"PoliticalTerror\": [\"Political Terror Scale\"],\n",
    "    \"Polity\": [\"Polity: Type of social organization\"],\n",
    "    \"SystemicPeace\": [\"Systemic Peace\"],\n",
    "    \"TAH\": [\"Traffic Analysis Hub\", \"--- Revisar, importante ---\"],\n",
    "    \"target\": [\"Mixed Migration v.2\"],\n",
    "    \"UCDP\": [\"UCDP\", \"Conflict and War data\"],\n",
    "    \"UN\": [\"Population per Country\"],\n",
    "    \"UNHCR\": [\"Alto Comisionado de las Naciones Unidas para los Refugiados\", \"https://www.unhcr.org/\"],\n",
    "    \"VDem\": [\"V-Dem Varieties of Democracy\", \"https://www.v-dem.net/en/\"],\n",
    "    \"WFP\": [\"Programa Mundial de Alimentos\", \"https://es.wfp.org/\"],\n",
    "    \"WHO\": [\"Organización Mundial de la Salud\", \"https://www.who.int/es\"],\n",
    "    \"worldbank\": [\"World Bank\", \"Info of all kind of every country\"]\n",
    "}\n",
    "\n"
   ]
  },
  {
   "cell_type": "code",
   "execution_count": 50,
   "metadata": {},
   "outputs": [
    {
     "name": "stdout",
     "output_type": "stream",
     "text": [
      "ACLED\n",
      "['Armed Conflict Location and Event Data Project', 'https://acleddata.com/']\n",
      "ACLED  => ['data.csv'] \n",
      "\n",
      "corruption\n",
      "['Corruption']\n",
      "corruption  => ['data.csv'] \n",
      "\n",
      "CRIME DATA EXPLORER\n",
      "['Crime Data Explorer', 'https://crime-data-explorer.fr.cloud.gov/']\n",
      "CRIME DATA EXPLORER  => ['HT_2013_2018.csv', 'Human Trafficking readme file.docx'] \n",
      "\n",
      "CTDC\n",
      "['The Counter Trafficking Data Collaborative', 'https://www.ctdatacollaborative.org/']\n",
      "CTDC  => ['AFRICA', 'AMERICAS', 'ASIA', 'EUROPE', 'GLOBAL', 'SUPPLY CHAINS (https_--www.ctdatacollaborative.org-dataset-human-trafficking-global-supply-chains)'] \n",
      "\n",
      "displacement\n",
      "['Displacement']\n",
      "displacement  => ['data.csv'] \n",
      "\n",
      "emdat\n",
      "['The Internacional Disaster Database', 'https://www.emdat.be/']\n",
      "emdat  => ['data.csv'] \n",
      "\n",
      "FIW\n",
      "['Political and Civil Rights']\n",
      "FIW  => ['data.csv'] \n",
      "\n",
      "FOOD\n",
      "['Food and Agriculture Organization of the United Nations', 'http://www.fao.org/home/en/']\n",
      "FOOD  => ['data.csv'] \n",
      "\n",
      "FragileStates\n",
      "['Fragile States Info', 'Security, legitimacy, external intervention, and so on.']\n",
      "FragileStates  => ['data.csv'] \n",
      "\n",
      "HumanRights\n",
      "['Human Rigths Score']\n",
      "HumanRights  => ['data.csv'] \n",
      "\n",
      "LATIN AMERICA\n",
      "['--- Revisar, importante ---']\n",
      "LATIN AMERICA  => ['ARGENTINA (In Spanish)', 'COLOMBIA.zip', 'PERU (In Spanish)'] \n",
      "\n",
      "mixedmigration\n",
      "['Mixed Migration']\n",
      "mixedmigration  => ['data.csv'] \n",
      "\n",
      "myanmar\n",
      "['Myanmar', 'Useless dataset.']\n",
      "myanmar  => ['data.csv'] \n",
      "\n",
      "PoliticalTerror\n",
      "['Political Terror Scale']\n",
      "PoliticalTerror  => ['data.csv'] \n",
      "\n",
      "Polity\n",
      "['Polity: Type of social organization']\n",
      "Polity  => ['data.csv'] \n",
      "\n",
      "SystemicPeace\n",
      "['Systemic Peace']\n",
      "SystemicPeace  => ['data.csv'] \n",
      "\n",
      "TAH\n",
      "['Traffic Analysis Hub', '--- Revisar, importante ---']\n",
      "TAH  => ['TAH-Classified_Bolivia_Colombia_Peru_Ecuador_Mexico.xlsx'] \n",
      "\n",
      "target\n",
      "['Mixed Migration v.2']\n",
      "target  => ['data.csv'] \n",
      "\n",
      "UCDP\n",
      "['UCDP', 'Conflict and War data']\n",
      "UCDP  => ['data.csv'] \n",
      "\n",
      "UN\n",
      "['Population per Country']\n",
      "UN  => ['data.csv'] \n",
      "\n",
      "UNHCR\n",
      "['Alto Comisionado de las Naciones Unidas para los Refugiados', 'https://www.unhcr.org/']\n",
      "UNHCR  => ['data.csv'] \n",
      "\n",
      "VDem\n",
      "['V-Dem Varieties of Democracy', 'https://www.v-dem.net/en/']\n",
      "VDem  => ['data.csv'] \n",
      "\n",
      "WFP\n",
      "['Programa Mundial de Alimentos', 'https://es.wfp.org/']\n",
      "WFP  => ['data.csv'] \n",
      "\n",
      "WHO\n",
      "['Organización Mundial de la Salud', 'https://www.who.int/es']\n",
      "WHO  => ['data.csv'] \n",
      "\n",
      "worldbank\n",
      "['World Bank', 'Info of all kind of every country']\n",
      "worldbank  => ['data.csv'] \n",
      "\n"
     ]
    }
   ],
   "source": [
    "# New file path.\n",
    "filePath = \"../ta_datasets/Research-Data-Sets/datasets/\"\n",
    "files = listdir(filePath)\n",
    "\n",
    "list_paths = list()\n",
    "for f in files: \n",
    "    list_paths.append(filePath + f)\n",
    "    print(f)\n",
    "    print(list_map[f])\n",
    "    print(f, \" =>\" , listdir(filePath + f), \"\\n\")"
   ]
  },
  {
   "cell_type": "code",
   "execution_count": null,
   "metadata": {},
   "outputs": [],
   "source": []
  }
 ],
 "metadata": {
  "kernelspec": {
   "display_name": "Python 3",
   "language": "python",
   "name": "python3"
  },
  "language_info": {
   "codemirror_mode": {
    "name": "ipython",
    "version": 3
   },
   "file_extension": ".py",
   "mimetype": "text/x-python",
   "name": "python",
   "nbconvert_exporter": "python",
   "pygments_lexer": "ipython3",
   "version": "3.7.3"
  }
 },
 "nbformat": 4,
 "nbformat_minor": 2
}
