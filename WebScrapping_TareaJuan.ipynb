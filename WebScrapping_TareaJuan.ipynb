{
 "cells": [
  {
   "cell_type": "code",
   "execution_count": 245,
   "metadata": {},
   "outputs": [],
   "source": [
    "# Connection libraries.\n",
    "import urllib.request, urllib.parse, urllib.error\n",
    "import requests\n",
    "from bs4 import BeautifulSoup\n",
    "#from langdetect import detect\n",
    "import re\n",
    "import hashlib "
   ]
  },
  {
   "cell_type": "code",
   "execution_count": 246,
   "metadata": {},
   "outputs": [],
   "source": [
    "url = \"https://co.mileroticos.com\"\n",
    "r = requests.get(url)\n",
    "data = r.text\n",
    "soup = BeautifulSoup(data, \"html.parser\")"
   ]
  },
  {
   "cell_type": "code",
   "execution_count": 247,
   "metadata": {},
   "outputs": [],
   "source": [
    "def nodeID(url): \n",
    "    m = hashlib.sha256()\n",
    "    m.update(url.encode())\n",
    "    return m.hexdigest()"
   ]
  },
  {
   "cell_type": "code",
   "execution_count": 248,
   "metadata": {},
   "outputs": [],
   "source": [
    "def internal_external_links(url, urls): \n",
    "    \n",
    "    # Initialize lists.\n",
    "    internal_links = list()\n",
    "    external_links = list()\n",
    "    \n",
    "    for link in urls: \n",
    "        if link.find(url) != -1: \n",
    "            internal_links.append(link)\n",
    "        else: \n",
    "            external_links.append(link)\n",
    "    return internal_links, external_links"
   ]
  },
  {
   "cell_type": "code",
   "execution_count": 249,
   "metadata": {},
   "outputs": [],
   "source": [
    "# Find all the urls in the website.\n",
    "def find_links(url, social_path, soup):\n",
    "    \n",
    "    # Social media keywords.\n",
    "    f = open(social_path, \"r\")\n",
    "    sm_keywords = f.read().replace(\"\\n\", \"\").split(\" \")\n",
    "    f.close()\n",
    "    \n",
    "    # Remove last / in url if exists.\n",
    "    if(url[-1] == \"/\"):\n",
    "        url = url[0: -1]\n",
    "    \n",
    "    # Initialize lists.\n",
    "    urls = list()\n",
    "    social_networks = list()\n",
    "    cellphones = list()\n",
    "    \n",
    "    for tag in soup.find_all(\"a\"):\n",
    "        \n",
    "        try:\n",
    "        \n",
    "            link = tag.attrs[\"href\"]\n",
    "            \n",
    "            # We don't want neither images nor #\n",
    "            if link.find(\"#\") == -1 and link.find(\"jpg\") == -1 and link.find(\"png\") == -1: \n",
    "\n",
    "                # Internal link.\n",
    "                if link.find(\"/\") == 0: \n",
    "                    new_link = url + link\n",
    "                    if new_link not in urls: \n",
    "                        urls.append(new_link)\n",
    "\n",
    "                # External link.\n",
    "                else: \n",
    "\n",
    "                    # Verify in link correspond to a social media website.\n",
    "                    for social_media_name in sm_keywords: \n",
    "\n",
    "                        # It does!\n",
    "                        if link.find(social_media_name) != -1: \n",
    "                            if link not in social_networks: \n",
    "                                social_networks.append(link)\n",
    "\n",
    "                                # Get phone number.\n",
    "                                if link.find(\"api.whatsapp.com\") != -1:\n",
    "                                    number = re.findall(\"phone=([0-9]*)\", text)\n",
    "                                    if number[0] not in cellphones: \n",
    "                                        cellphones.append(number[0])             \n",
    "\n",
    "                        # It doesn't.\n",
    "                        else: \n",
    "                            if link not in urls: \n",
    "                                urls.append(link)\n",
    "        except: \n",
    "            pass\n",
    "    return urls, social_networks, cellphones"
   ]
  },
  {
   "cell_type": "code",
   "execution_count": 250,
   "metadata": {
    "scrolled": false
   },
   "outputs": [],
   "source": [
    "social_path = \"./datasets/socialmedia_names.txt\"\n",
    "urls, social_networks, cellphones = find_links(url, social_path, soup)"
   ]
  },
  {
   "cell_type": "code",
   "execution_count": 251,
   "metadata": {},
   "outputs": [
    {
     "data": {
      "text/plain": [
       "'https://co.mileroticos.com'"
      ]
     },
     "execution_count": 251,
     "metadata": {},
     "output_type": "execute_result"
    }
   ],
   "source": [
    "url"
   ]
  },
  {
   "cell_type": "code",
   "execution_count": 252,
   "metadata": {},
   "outputs": [
    {
     "data": {
      "text/plain": [
       "'ac1460b0166ef82349b77ac8796a07db90395760db34661126f2c79ac04bf100'"
      ]
     },
     "execution_count": 252,
     "metadata": {},
     "output_type": "execute_result"
    }
   ],
   "source": [
    "nodeID(url)"
   ]
  },
  {
   "cell_type": "code",
   "execution_count": 253,
   "metadata": {
    "scrolled": false
   },
   "outputs": [],
   "source": [
    "internal_links, external_links = internal_external_links(url, urls)"
   ]
  },
  {
   "cell_type": "code",
   "execution_count": 254,
   "metadata": {},
   "outputs": [
    {
     "data": {
      "text/plain": [
       "['https://co.mileroticos.com/pagina/7',\n",
       " 'https://co.mileroticos.com/',\n",
       " 'https://co.mileroticos.com/escorts/',\n",
       " 'https://co.mileroticos.com/escorts/bogota/',\n",
       " 'https://co.mileroticos.com/escorts/cundinamarca/',\n",
       " 'https://co.mileroticos.com/escorts/santander/',\n",
       " 'https://co.mileroticos.com/escorts/antioquia/',\n",
       " 'https://co.mileroticos.com/escorts/valle-del-cauca/',\n",
       " 'https://co.mileroticos.com/escorts/norte-de-santander/',\n",
       " 'https://co.mileroticos.com/escorts/meta/',\n",
       " 'https://co.mileroticos.com/escorts/cesar/',\n",
       " 'https://co.mileroticos.com/escorts/tolima/',\n",
       " 'https://co.mileroticos.com/escorts/atlantico/',\n",
       " 'https://co.mileroticos.com/escorts/casanare/',\n",
       " 'https://co.mileroticos.com/escorts/boyaca/',\n",
       " 'https://co.mileroticos.com/escorts/magdalena/',\n",
       " 'https://co.mileroticos.com/escorts/narino/',\n",
       " 'https://co.mileroticos.com/escorts/risaralda/',\n",
       " 'https://co.mileroticos.com/escorts/bolivar/',\n",
       " 'https://co.mileroticos.com/escorts/huila/',\n",
       " 'https://co.mileroticos.com/escorts/caldas/',\n",
       " 'https://co.mileroticos.com/escorts/quindio/',\n",
       " 'https://co.mileroticos.com/escorts/cauca/',\n",
       " 'https://co.mileroticos.com/escorts/cordoba/',\n",
       " 'https://co.mileroticos.com/escorts/caqueta/',\n",
       " 'https://co.mileroticos.com/escorts/sucre/',\n",
       " 'https://co.mileroticos.com/escorts/la-guajira/',\n",
       " 'https://co.mileroticos.com/escorts/arauca/',\n",
       " 'https://co.mileroticos.com/masajes-eroticos/',\n",
       " 'https://co.mileroticos.com/masajes-eroticos/bogota/',\n",
       " 'https://co.mileroticos.com/masajes-eroticos/valle-del-cauca/',\n",
       " 'https://co.mileroticos.com/masajes-eroticos/antioquia/',\n",
       " 'https://co.mileroticos.com/masajes-eroticos/santander/',\n",
       " 'https://co.mileroticos.com/masajes-eroticos/atlantico/',\n",
       " 'https://co.mileroticos.com/masajes-eroticos/norte-de-santander/',\n",
       " 'https://co.mileroticos.com/masajes-eroticos/tolima/',\n",
       " 'https://co.mileroticos.com/masajes-eroticos/bolivar/',\n",
       " 'https://co.mileroticos.com/masajes-eroticos/cundinamarca/',\n",
       " 'https://co.mileroticos.com/masajes-eroticos/risaralda/',\n",
       " 'https://co.mileroticos.com/masajes-eroticos/meta/',\n",
       " 'https://co.mileroticos.com/masajes-eroticos/narino/',\n",
       " 'https://co.mileroticos.com/masajes-eroticos/caldas/',\n",
       " 'https://co.mileroticos.com/masajes-eroticos/magdalena/',\n",
       " 'https://co.mileroticos.com/masajes-eroticos/cesar/',\n",
       " 'https://co.mileroticos.com/masajes-eroticos/huila/',\n",
       " 'https://co.mileroticos.com/masajes-eroticos/quindio/',\n",
       " 'https://co.mileroticos.com/masajes-eroticos/cordoba/',\n",
       " 'https://co.mileroticos.com/masajes-eroticos/casanare/',\n",
       " 'https://co.mileroticos.com/masajes-eroticos/boyaca/',\n",
       " 'https://co.mileroticos.com/masajes-eroticos/cauca/',\n",
       " 'https://co.mileroticos.com/masajes-eroticos/sucre/',\n",
       " 'https://co.mileroticos.com/masajes-eroticos/la-guajira/',\n",
       " 'https://co.mileroticos.com/masajes-eroticos/caqueta/',\n",
       " 'https://co.mileroticos.com/masajes-eroticos/putumayo/',\n",
       " 'https://co.mileroticos.com/travestis/',\n",
       " 'https://co.mileroticos.com/travestis/bogota/',\n",
       " 'https://co.mileroticos.com/travestis/antioquia/',\n",
       " 'https://co.mileroticos.com/travestis/valle-del-cauca/',\n",
       " 'https://co.mileroticos.com/travestis/santander/',\n",
       " 'https://co.mileroticos.com/travestis/atlantico/',\n",
       " 'https://co.mileroticos.com/travestis/casanare/',\n",
       " 'https://co.mileroticos.com/travestis/cundinamarca/',\n",
       " 'https://co.mileroticos.com/travestis/huila/',\n",
       " 'https://co.mileroticos.com/travestis/norte-de-santander/',\n",
       " 'https://co.mileroticos.com/travestis/magdalena/',\n",
       " 'https://co.mileroticos.com/travestis/tolima/',\n",
       " 'https://co.mileroticos.com/travestis/boyaca/',\n",
       " 'https://co.mileroticos.com/travestis/bolivar/',\n",
       " 'https://co.mileroticos.com/travestis/narino/',\n",
       " 'https://co.mileroticos.com/travestis/risaralda/',\n",
       " 'https://co.mileroticos.com/travestis/meta/',\n",
       " 'https://co.mileroticos.com/travestis/quindio/',\n",
       " 'https://co.mileroticos.com/travestis/caldas/',\n",
       " 'https://co.mileroticos.com/travestis/cesar/',\n",
       " 'https://co.mileroticos.com/travestis/cordoba/',\n",
       " 'https://co.mileroticos.com/travestis/cauca/',\n",
       " 'https://co.mileroticos.com/travestis/sucre/',\n",
       " 'https://co.mileroticos.com/travestis/la-guajira/',\n",
       " 'https://co.mileroticos.com/travestis/caqueta/',\n",
       " 'https://co.mileroticos.com/travestis/arauca/',\n",
       " 'https://co.mileroticos.com/escorts-gay/',\n",
       " 'https://co.mileroticos.com/escorts-gay/bogota/',\n",
       " 'https://co.mileroticos.com/escorts-gay/antioquia/',\n",
       " 'https://co.mileroticos.com/escorts-gay/valle-del-cauca/',\n",
       " 'https://co.mileroticos.com/escorts-gay/santander/',\n",
       " 'https://co.mileroticos.com/escorts-gay/atlantico/',\n",
       " 'https://co.mileroticos.com/escorts-gay/risaralda/',\n",
       " 'https://co.mileroticos.com/escorts-gay/norte-de-santander/',\n",
       " 'https://co.mileroticos.com/escorts-gay/bolivar/',\n",
       " 'https://co.mileroticos.com/escorts-gay/meta/',\n",
       " 'https://co.mileroticos.com/escorts-gay/caldas/',\n",
       " 'https://co.mileroticos.com/escorts-gay/narino/',\n",
       " 'https://co.mileroticos.com/escorts-gay/cundinamarca/',\n",
       " 'https://co.mileroticos.com/escorts-gay/tolima/',\n",
       " 'https://co.mileroticos.com/escorts-gay/sucre/',\n",
       " 'https://co.mileroticos.com/escorts-gay/huila/',\n",
       " 'https://co.mileroticos.com/escorts-gay/magdalena/',\n",
       " 'https://co.mileroticos.com/escorts-gay/quindio/',\n",
       " 'https://co.mileroticos.com/escorts-gay/cesar/',\n",
       " 'https://co.mileroticos.com/escorts-gay/casanare/',\n",
       " 'https://co.mileroticos.com/escorts-gay/boyaca/',\n",
       " 'https://co.mileroticos.com/escorts-gay/cordoba/',\n",
       " 'https://co.mileroticos.com/escorts-gay/cauca/',\n",
       " 'https://co.mileroticos.com/escorts-gay/la-guajira/',\n",
       " 'https://co.mileroticos.com/escorts-gay/arauca/',\n",
       " 'https://co.mileroticos.com/escorts-gay/putumayo/',\n",
       " 'https://co.mileroticos.com/gigolos/',\n",
       " 'https://co.mileroticos.com/gigolos/bogota/',\n",
       " 'https://co.mileroticos.com/gigolos/valle-del-cauca/',\n",
       " 'https://co.mileroticos.com/gigolos/antioquia/',\n",
       " 'https://co.mileroticos.com/gigolos/santander/',\n",
       " 'https://co.mileroticos.com/gigolos/atlantico/',\n",
       " 'https://co.mileroticos.com/gigolos/cundinamarca/',\n",
       " 'https://co.mileroticos.com/gigolos/norte-de-santander/',\n",
       " 'https://co.mileroticos.com/gigolos/bolivar/',\n",
       " 'https://co.mileroticos.com/gigolos/meta/',\n",
       " 'https://co.mileroticos.com/gigolos/risaralda/',\n",
       " 'https://co.mileroticos.com/gigolos/narino/',\n",
       " 'https://co.mileroticos.com/gigolos/boyaca/',\n",
       " 'https://co.mileroticos.com/gigolos/tolima/',\n",
       " 'https://co.mileroticos.com/gigolos/cesar/',\n",
       " 'https://co.mileroticos.com/gigolos/caldas/',\n",
       " 'https://co.mileroticos.com/gigolos/huila/',\n",
       " 'https://co.mileroticos.com/gigolos/magdalena/',\n",
       " 'https://co.mileroticos.com/gigolos/casanare/',\n",
       " 'https://co.mileroticos.com/gigolos/cauca/',\n",
       " 'https://co.mileroticos.com/gigolos/cordoba/',\n",
       " 'https://co.mileroticos.com/gigolos/quindio/',\n",
       " 'https://co.mileroticos.com/gigolos/sucre/',\n",
       " 'https://co.mileroticos.com/gigolos/la-guajira/',\n",
       " 'https://co.mileroticos.com/gigolos/caqueta/',\n",
       " 'https://co.mileroticos.com/gigolos/arauca/',\n",
       " 'https://co.mileroticos.com/contactos/',\n",
       " 'https://co.mileroticos.com/contactos/bogota/',\n",
       " 'https://co.mileroticos.com/contactos/valle-del-cauca/',\n",
       " 'https://co.mileroticos.com/contactos/antioquia/',\n",
       " 'https://co.mileroticos.com/contactos/atlantico/',\n",
       " 'https://co.mileroticos.com/contactos/santander/',\n",
       " 'https://co.mileroticos.com/contactos/cundinamarca/',\n",
       " 'https://co.mileroticos.com/contactos/risaralda/',\n",
       " 'https://co.mileroticos.com/contactos/norte-de-santander/',\n",
       " 'https://co.mileroticos.com/contactos/bolivar/',\n",
       " 'https://co.mileroticos.com/contactos/tolima/',\n",
       " 'https://co.mileroticos.com/contactos/meta/',\n",
       " 'https://co.mileroticos.com/contactos/quindio/',\n",
       " 'https://co.mileroticos.com/contactos/narino/',\n",
       " 'https://co.mileroticos.com/contactos/caldas/',\n",
       " 'https://co.mileroticos.com/contactos/boyaca/',\n",
       " 'https://co.mileroticos.com/contactos/huila/',\n",
       " 'https://co.mileroticos.com/contactos/cesar/',\n",
       " 'https://co.mileroticos.com/contactos/magdalena/',\n",
       " 'https://co.mileroticos.com/contactos/cauca/',\n",
       " 'https://co.mileroticos.com/contactos/casanare/',\n",
       " 'https://co.mileroticos.com/contactos/sucre/',\n",
       " 'https://co.mileroticos.com/contactos/cordoba/',\n",
       " 'https://co.mileroticos.com/contactos/la-guajira/',\n",
       " 'https://co.mileroticos.com/contactos/caqueta/',\n",
       " 'https://co.mileroticos.com/contactos/putumayo/',\n",
       " 'https://co.mileroticos.com/servicios-virtuales/',\n",
       " 'https://co.mileroticos.com/sex-shop/']"
      ]
     },
     "execution_count": 254,
     "metadata": {},
     "output_type": "execute_result"
    }
   ],
   "source": [
    "internal_links"
   ]
  },
  {
   "cell_type": "code",
   "execution_count": 256,
   "metadata": {},
   "outputs": [
    {
     "data": {
      "text/plain": [
       "['https://mx.mileroticos.com',\n",
       " 'https://www.mileroticos.com',\n",
       " 'https://www.millerotici.com',\n",
       " 'https://cl.mileroticos.com',\n",
       " 'https://br.mileroticos.com',\n",
       " 'http://www.google.es']"
      ]
     },
     "execution_count": 256,
     "metadata": {},
     "output_type": "execute_result"
    }
   ],
   "source": [
    "external_links"
   ]
  },
  {
   "cell_type": "code",
   "execution_count": 257,
   "metadata": {
    "scrolled": true
   },
   "outputs": [
    {
     "data": {
      "text/plain": [
       "[]"
      ]
     },
     "execution_count": 257,
     "metadata": {},
     "output_type": "execute_result"
    }
   ],
   "source": [
    "social_networks"
   ]
  },
  {
   "cell_type": "code",
   "execution_count": 258,
   "metadata": {},
   "outputs": [
    {
     "data": {
      "text/plain": [
       "[]"
      ]
     },
     "execution_count": 258,
     "metadata": {},
     "output_type": "execute_result"
    }
   ],
   "source": [
    "cellphones"
   ]
  },
  {
   "cell_type": "code",
   "execution_count": null,
   "metadata": {},
   "outputs": [],
   "source": []
  }
 ],
 "metadata": {
  "kernelspec": {
   "display_name": "Python 3",
   "language": "python",
   "name": "python3"
  },
  "language_info": {
   "codemirror_mode": {
    "name": "ipython",
    "version": 3
   },
   "file_extension": ".py",
   "mimetype": "text/x-python",
   "name": "python",
   "nbconvert_exporter": "python",
   "pygments_lexer": "ipython3",
   "version": "3.7.6"
  }
 },
 "nbformat": 4,
 "nbformat_minor": 2
}
