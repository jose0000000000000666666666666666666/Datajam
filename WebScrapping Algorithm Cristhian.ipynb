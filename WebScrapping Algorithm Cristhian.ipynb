{
 "cells": [
  {
   "cell_type": "markdown",
   "metadata": {},
   "source": [
    "* Esto toca luego guardarlo en un .py"
   ]
  },
  {
   "cell_type": "markdown",
   "metadata": {},
   "source": [
    "# TAREAS.\n",
    "\n",
    "1. Que funcione a la perfección la extracción de información. => Crear un nuevo nodo en la red inicializado el objeto Nodo.\n",
    "2. El algoritmo sepa bien cuando deter una búsqueda. \n",
    "3. Googlear direcciones, números de teléfono y nombres de personas.\n",
    "4. El webscrapping debe tener una memoria: específicamente, cuál fue la última página en la que estuvo!!"
   ]
  },
  {
   "cell_type": "markdown",
   "metadata": {},
   "source": [
    "# WebScrapping Algorithm."
   ]
  },
  {
   "cell_type": "code",
   "execution_count": 1,
   "metadata": {
    "scrolled": true
   },
   "outputs": [],
   "source": [
    "# Connection libraries.\n",
    "import urllib.request, urllib.parse, urllib.error\n",
    "import requests\n",
    "from bs4 import BeautifulSoup\n",
    "from langdetect import detect\n",
    "\n",
    "# Numerical libraries.\n",
    "import pandas as pd\n",
    "import numpy as np\n",
    "\n",
    "# Spacy models.\n",
    "import spacy\n",
    "import es_core_news_sm\n",
    "import en_core_web_sm\n",
    "\n",
    "# Import networkx.\n",
    "import networkx as nx\n",
    "\n",
    "# Regular expression.\n",
    "import re"
   ]
  },
  {
   "cell_type": "code",
   "execution_count": null,
   "metadata": {},
   "outputs": [],
   "source": [
    "lista_urls_recorridas = list()"
   ]
  },
  {
   "cell_type": "code",
   "execution_count": 2,
   "metadata": {},
   "outputs": [],
   "source": [
    "from langdetect import detect"
   ]
  },
  {
   "cell_type": "code",
   "execution_count": 3,
   "metadata": {},
   "outputs": [],
   "source": [
    "eliminar_simbolos = [\"\\n\", \"\\xa0\", \"-\", \"'\"]\n",
    "\n",
    "def eliminar_simbolos(text, simbolos): \n",
    "    for simbolo in simbolos: \n",
    "        text = text.replace(simbolo, \" \")\n",
    "    return text"
   ]
  },
  {
   "cell_type": "code",
   "execution_count": 4,
   "metadata": {},
   "outputs": [],
   "source": [
    "r = requests.get(\"https://dentalgomez.co/\")\n",
    "data = r.text\n",
    "soup = BeautifulSoup(data, \"html.parser\")"
   ]
  },
  {
   "cell_type": "code",
   "execution_count": 5,
   "metadata": {},
   "outputs": [
    {
     "data": {
      "text/plain": [
       "'Dental Gómez - Depósito Dental'"
      ]
     },
     "execution_count": 5,
     "metadata": {},
     "output_type": "execute_result"
    }
   ],
   "source": [
    "soup.title.string"
   ]
  },
  {
   "cell_type": "code",
   "execution_count": 24,
   "metadata": {},
   "outputs": [],
   "source": [
    "filename = \"C:\\\\Users\\\\Administrador\\\\Documents\\\\Datajam\\\\normalWeb\\\\test2.jpg\""
   ]
  },
  {
   "cell_type": "code",
   "execution_count": 17,
   "metadata": {},
   "outputs": [],
   "source": [
    "import os"
   ]
  },
  {
   "cell_type": "code",
   "execution_count": 18,
   "metadata": {},
   "outputs": [
    {
     "data": {
      "text/plain": [
       "'C:\\\\Users\\\\Administrador\\\\Documents\\\\Datajam'"
      ]
     },
     "execution_count": 18,
     "metadata": {},
     "output_type": "execute_result"
    }
   ],
   "source": [
    "os.getcwd()"
   ]
  },
  {
   "cell_type": "code",
   "execution_count": 25,
   "metadata": {},
   "outputs": [
    {
     "data": {
      "text/plain": [
       "('C:\\\\Users\\\\Administrador\\\\Documents\\\\Datajam\\\\normalWeb\\\\test2.jpg',\n",
       " <http.client.HTTPMessage at 0x1e8c8307430>)"
      ]
     },
     "execution_count": 25,
     "metadata": {},
     "output_type": "execute_result"
    }
   ],
   "source": [
    "urllib.request.urlretrieve(\"https://www.adslzone.net/app/uploads/2019/04/borrar-fondo-imagen.jpg\",filename)"
   ]
  },
  {
   "cell_type": "code",
   "execution_count": 6,
   "metadata": {},
   "outputs": [],
   "source": [
    "text = soup.get_text().replace(\"\\n\", \" \")"
   ]
  },
  {
   "cell_type": "code",
   "execution_count": 7,
   "metadata": {},
   "outputs": [
    {
     "data": {
      "text/plain": [
       "[]"
      ]
     },
     "execution_count": 7,
     "metadata": {},
     "output_type": "execute_result"
    }
   ],
   "source": [
    "re.findall(\"[0-9]^3-[0-9]^3-[0-9]^4\", text)"
   ]
  },
  {
   "cell_type": "code",
   "execution_count": 12,
   "metadata": {},
   "outputs": [
    {
     "name": "stdout",
     "output_type": "stream",
     "text": [
      "Dental Gómez - Depósito Dental\n"
     ]
    }
   ],
   "source": [
    "# Título de la página.\n",
    "result = soup.find('title')\n",
    "print(result.get_text())"
   ]
  },
  {
   "cell_type": "code",
   "execution_count": 8,
   "metadata": {},
   "outputs": [
    {
     "data": {
      "text/plain": [
       "'es'"
      ]
     },
     "execution_count": 8,
     "metadata": {},
     "output_type": "execute_result"
    }
   ],
   "source": [
    "# Idioma de la página.\n",
    "detect(text)"
   ]
  },
  {
   "cell_type": "code",
   "execution_count": null,
   "metadata": {},
   "outputs": [],
   "source": [
    "\"\"\"\n",
    "self.ID = ID                (SHA256, \"http://titulopagina.com\")\n",
    "self.url = url              (http://titulopagina.com/mensajes/)\n",
    "self.urls=urls           => LISTA DE URLS\n",
    "self.social_networks=social_networks   => (urls) => (facebook, twitter, instagram, ....)\n",
    "\n",
    "self.language = language\n",
    "self.text= text                         => soup.get_text() => Muy bien formateado el texto.\n",
    "self.names = names          [juan pablo] => SPACY\n",
    "self.locations=locations => SPACY (BUSCAR SI SPACY SACA DIRECCIONES!!!)\n",
    "\n",
    "self.coordinates = None  => BUSCAR COMO EXTRAER LAS COORDENADAS! (MAPA)\n",
    "self.organizations=organizations => ORG.\n",
    "self.dates=dates         => Spacy pueda reconocer dates?? BUSCAR URGENTE.\n",
    "\n",
    "self.numbers=numbers     => Numeros detectados (AGREGAR UN PATRÓN EN SPACY, +57300985249, 300-898-8849, +57-953-849-8498) \n",
    "                            phonenumbers (https://pypi.org/project/phonenumbers/)\n",
    "self.images=images       => JP ya sabe como descargar imágenes de una página. <img> => Determinar las carpetas: Deep Web, Google Normal, Desaparecidos Fiscalia.\n",
    "self.payment_accounts=payment_accounts => PATRÓN EN SPACY BILLETERA CRIPTOMONEDAS.\n",
    "self.emails=emails                     => Emails. Buscar cómo se hace en Spacy ó hacer un Patrón con el @ mailto:ventas@dentalgomez.co\n",
    "\"\"\""
   ]
  },
  {
   "cell_type": "code",
   "execution_count": 14,
   "metadata": {},
   "outputs": [
    {
     "name": "stdout",
     "output_type": "stream",
     "text": [
      "/\n",
      "/contactus\n",
      "/contactus\n",
      "mailto:ventas@dentalgomez.co\n",
      "https://www.facebook.com/dentalgomez.co\n",
      "https://www.instagram.com/dentalgomez.co/\n",
      "/\n",
      "/\n",
      "/shop\n",
      "/livechat\n",
      "/contactus\n",
      "/shop/cart\n",
      "/web/login\n",
      "/shop\n",
      "/shop\n",
      "https://api.whatsapp.com/send?phone=573058270682&text=%C2%A1Hola!%20Me%20gustar%C3%ADa%20cotizar%20un%20equipo%20con%20Dental%20G%C3%B3mez.\n",
      "https://api.whatsapp.com/send?phone=573058270682&text=%C2%A1Hola!%20Me%20gustar%C3%ADa%20contactarme%20con%20Dental%20G%C3%B3mez.\n",
      "https://www.facebook.com/dentalgomez.co\n",
      "https://www.instagram.com/dentalgomez.co/\n",
      "mailto:ventas@dentalgomez.co?subject=Contacto%20con%20Dental%20Gomez&body=%C2%A1Hola!%20Deseo%20averiguar%20informaci%C3%B3n%20sobre\n",
      "/\n",
      "/contactus\n",
      "https://www.facebook.com/dentalgomez.co\n",
      "https://www.instagram.com/dentalgomez.co/\n",
      "/aboutus\n",
      "http://www.odoo.com?utm_source=db&utm_medium=sitio web\n",
      "http://www.odoo.com/page/e-commerce?utm_source=db&utm_medium=website\n"
     ]
    }
   ],
   "source": [
    "for etiqueta in soup.find_all(\"a\"): \n",
    "    if etiqueta.attrs[\"href\"].find(\"#\") == -1: \n",
    "        print(etiqueta.attrs[\"href\"])\n",
    "    "
   ]
  },
  {
   "cell_type": "markdown",
   "metadata": {},
   "source": [
    "## Criterios de parada.\n",
    "\n",
    "* Revisar descripción de la página. \n",
    "* Revisar palabras clave de la página.\n",
    "\n",
    "- Definir palabras clave del algoritmo para detenerse!"
   ]
  },
  {
   "cell_type": "code",
   "execution_count": 15,
   "metadata": {},
   "outputs": [],
   "source": [
    "for s in soup.select('script'):\n",
    "    s.extract()\n",
    "#text = eliminar_simbolos(soup.text, eliminar_simbolos)\n",
    "text = soup.text.replace(\"\\n\", \" \")"
   ]
  },
  {
   "cell_type": "code",
   "execution_count": 16,
   "metadata": {},
   "outputs": [
    {
     "data": {
      "text/plain": [
       "'                  Dental Gómez - Depósito Dental                       Contact   Meet us    305-827-0682   ventas@dentalgomez.co                           Inicio     Tienda     Soporte en vivo     Contáctenos                           Mi Carrito       Identificarse                   Nuestras   Promociones                                                     Agrega al carrito Agrega los productos que desees.            Datos de envío Indícanos dónde quieres recibir tu pedido.          Pago Múltiples facilidades de pago.            Recibe los Productos En tu consultorio, sin costo adicional.             Materiales Ofrecemos una amplia gama de materiales dentales.  Tienda         Instrumental Distribuimos instrumentales odontológicos para todas las especialidades.  Tienda         Equipos Contamos con una gran variedad de equipos dentales para todas las especialidades.  Contáctanos             Compra Online Gran variedad de productos desde la comodidad de tu consultorio, con\\xa0 grandes ofertas exclusivas.\\xa0        Recibe en tu Consultorio Contamos con una gran\\xa0 disponibilidad para nuestras entregas llevándolo puntualmente\\xa0 a tu consultorio sin ningún costo adicional,        Ahorra Tiempo Eliminamos\\xa0 la necesidad de trasladarse, al mejor costo y con una atención personalizada y detallada de nuestros productos.           Contáctanos               WhatsApp Chatea con nosotros.        Facebook Únete a nuestra comunidad.            Instagram Mantente al tanto de nuestras promociones.        Correo Contáctate con servicio al cliente.                                        Nuestros productos y Servicios   Inicio     Conéctate con nosotros   Contáctenos    305-827-0682    ventas@dentalgomez.co              Dental Gomez  - Sobre Nosotros  Somos una empresa dedicada a la comercialización de materiales, equipos e instrumentos odontologicos, con los mas altos estándares de calidad a un buen\\xa0 costo.\\xa0 caracterizandonos por ser un equipo con una excelente calidad humana, comprometidos con nuestra labor contando con disponibilidad todos los días.\\xa0          Copyright © Dental Gomez                                              Con tecnología de                         -                      El #1 Comercio electrónico de código abierto           '"
      ]
     },
     "execution_count": 16,
     "metadata": {},
     "output_type": "execute_result"
    }
   ],
   "source": [
    "text"
   ]
  },
  {
   "cell_type": "code",
   "execution_count": 17,
   "metadata": {},
   "outputs": [],
   "source": [
    "nlp = spacy.load(\"es_core_news_sm\")\n",
    "doc = nlp(text)"
   ]
  },
  {
   "cell_type": "code",
   "execution_count": 18,
   "metadata": {
    "scrolled": false
   },
   "outputs": [
    {
     "name": "stdout",
     "output_type": "stream",
     "text": [
      "                  SPACE               \n",
      "Dental      PROPN     ROOT      \n",
      "Gómez       PROPN     flat      \n",
      "-           PUNCT     punct     \n",
      "Depósito    PROPN     ROOT      \n",
      "Dental      PROPN     flat      \n",
      "                      SPACE               \n",
      "Contact     PROPN     flat      \n",
      "            SPACE               \n",
      "Meet        PROPN     flat      \n",
      "us          PROPN     flat      \n",
      "            SPACE               \n",
      "305-827-0682NUM       nummod    \n",
      "            SPACE               \n",
      "ventas@dentalgomez.coADJ       flat      \n",
      "                          SPACE               \n",
      "Inicio      PROPN     flat      \n",
      "            SPACE               \n",
      "Tienda      PROPN     flat      \n",
      "            SPACE               \n",
      "Soporte     PROPN     flat      \n",
      "en          ADP       case      \n",
      "vivo        INTJ      fixed     \n",
      "            SPACE               \n",
      "Contáctenos PROPN     flat      \n",
      "                          SPACE               \n",
      "Mi          PROPN     det       \n",
      "Carrito     PROPN     flat      \n",
      "            SPACE               \n",
      "IdentificarsePROPN     flat      \n",
      "                  SPACE               \n",
      "Nuestras    PROPN     flat      \n",
      "            SPACE               \n",
      "Promociones PROPN     flat      \n",
      "                                                    SPACE               \n",
      "Agrega      PROPN     flat      \n",
      "al          ADP       case      \n",
      "carrito     NOUN      nmod      \n",
      "Agrega      PROPN     appos     \n",
      "los         DET       det       \n",
      "productos   NOUN      appos     \n",
      "que         SCONJ     obj       \n",
      "desees      PROPN     acl       \n",
      ".           PUNCT     punct     \n",
      "            SPACE               \n",
      "Datos       PROPN     ROOT      \n",
      "de          ADP       case      \n",
      "envío       NOUN      nmod      \n",
      "Indícanos   PRON      appos     \n",
      "dónde       PRON      obl       \n",
      "quieres     NOUN      acl       \n",
      "recibir     VERB      xcomp     \n",
      "tu          DET       det       \n",
      "pedido      NOUN      obj       \n",
      ".           PUNCT     punct     \n",
      "            SPACE               \n",
      "Pago        PROPN     nsubj     \n",
      "Múltiples   PROPN     flat      \n",
      "facilidades NOUN      ROOT      \n",
      "de          ADP       case      \n",
      "pago        NOUN      nmod      \n",
      ".           PUNCT     punct     \n",
      "            SPACE               \n",
      "Recibe      PROPN     ROOT      \n",
      "los         DET       det       \n",
      "Productos   PROPN     flat      \n",
      "En          ADP       case      \n",
      "tu          DET       det       \n",
      "consultorio NOUN      nmod      \n",
      ",           PUNCT     punct     \n",
      "sin         ADP       case      \n",
      "costo       NOUN      conj      \n",
      "adicional   ADJ       amod      \n",
      ".           PUNCT     punct     \n",
      "            SPACE               \n",
      "Materiales  PROPN     nsubj     \n",
      "Ofrecemos   PROPN     ROOT      \n",
      "una         DET       det       \n",
      "amplia      ADJ       amod      \n",
      "gama        NOUN      obj       \n",
      "de          ADP       case      \n",
      "materiales  NOUN      nmod      \n",
      "dentales    ADJ       amod      \n",
      ".           PUNCT     punct     \n",
      "            SPACE               \n",
      "Tienda      PROPN     ROOT      \n",
      "            SPACE               \n",
      "InstrumentalPROPN     flat      \n",
      "DistribuimosDET       flat      \n",
      "instrumentalesADJ       amod      \n",
      "odontológicosADJ       amod      \n",
      "para        ADP       case      \n",
      "todas       DET       det       \n",
      "las         DET       det       \n",
      "especialidadesNOUN      nmod      \n",
      ".           PUNCT     punct     \n",
      "            SPACE               \n",
      "Tienda      PROPN     nsubj     \n",
      "            SPACE               \n",
      "Equipos     PROPN     flat      \n",
      "Contamos    PROPN     ROOT      \n",
      "con         ADP       case      \n",
      "una         DET       det       \n",
      "gran        ADJ       amod      \n",
      "variedad    NOUN      obl       \n",
      "de          ADP       case      \n",
      "equipos     NOUN      nmod      \n",
      "dentales    ADJ       amod      \n",
      "para        ADP       case      \n",
      "todas       DET       det       \n",
      "las         DET       det       \n",
      "especialidadesNOUN      nmod      \n",
      ".           PUNCT     punct     \n",
      "            SPACE               \n",
      "Contáctanos PROPN     nsubj     \n",
      "            SPACE               \n",
      "Compra      PROPN     flat      \n",
      "Online      PROPN     flat      \n",
      "Gran        ADJ       flat      \n",
      "variedad    NOUN      ROOT      \n",
      "de          ADP       case      \n",
      "productos   NOUN      nmod      \n",
      "desde       ADP       case      \n",
      "la          DET       det       \n",
      "comodidad   NOUN      nmod      \n",
      "de          ADP       case      \n",
      "tu          DET       det       \n",
      "consultorio NOUN      nmod      \n",
      ",           PUNCT     punct     \n",
      "con         ADP       case      \n",
      "            SPACE               \n",
      "grandes     ADJ       amod      \n",
      "ofertas     NOUN      nmod      \n",
      "exclusivas  ADJ       amod      \n",
      ".           PUNCT     punct     \n",
      "            SPACE               \n",
      "Recibe      PROPN     nsubj     \n",
      "en          ADP       case      \n",
      "tu          DET       det       \n",
      "Consultorio PROPN     nmod      \n",
      "Contamos    PROPN     ROOT      \n",
      "con         ADP       case      \n",
      "una         DET       det       \n",
      "gran        ADJ       amod      \n",
      "            SPACE               \n",
      "disponibilidadNOUN      obj       \n",
      "para        ADP       case      \n",
      "nuestras    DET       det       \n",
      "entregas    NOUN      nmod      \n",
      "llevándolo  VERB      amod      \n",
      "puntualmenteADV       advmod    \n",
      "            SPACE               \n",
      "a           ADP       case      \n",
      "tu          DET       det       \n",
      "consultorio NOUN      nmod      \n",
      "sin         ADP       case      \n",
      "ningún      DET       det       \n",
      "costo       NOUN      amod      \n",
      "adicional   ADJ       amod      \n",
      ",           PUNCT     punct     \n",
      "            SPACE               \n",
      "Ahorra      PROPN     appos     \n",
      "Tiempo      PROPN     conj      \n",
      "Eliminamos  PROPN     flat      \n",
      "            SPACE               \n",
      "la          DET       det       \n",
      "necesidad   NOUN      obj       \n",
      "de          ADP       mark      \n",
      "trasladarse VERB      acl       \n",
      ",           PUNCT     punct     \n",
      "al          ADP       case      \n",
      "mejor       ADJ       amod      \n",
      "costo       ADJ       obl       \n",
      "y           CCONJ     cc        \n",
      "con         ADP       case      \n",
      "una         DET       det       \n",
      "atención    NOUN      conj      \n",
      "personalizadaADJ       amod      \n",
      "y           CCONJ     cc        \n",
      "detallada   ADJ       conj      \n",
      "de          ADP       case      \n",
      "nuestros    DET       det       \n",
      "productos   NOUN      nmod      \n",
      ".           PUNCT     punct     \n",
      "            SPACE               \n",
      "Contáctanos PROPN     ROOT      \n",
      "              SPACE               \n",
      "WhatsApp    PROPN     nummod    \n",
      "Chatea      PROPN     flat      \n",
      "con         ADP       case      \n",
      "nosotros    PRON      nmod      \n",
      ".           PUNCT     punct     \n",
      "            SPACE               \n",
      "Facebook    PROPN     ROOT      \n",
      "Únete       INTJ      flat      \n",
      "a           ADP       case      \n",
      "nuestra     DET       det       \n",
      "comunidad   NOUN      nmod      \n",
      ".           PUNCT     punct     \n",
      "            SPACE               \n",
      "Instagram   PROPN     ROOT      \n",
      "Mantente    PROPN     flat      \n",
      "al          ADP       case      \n",
      "tanto       INTJ      fixed     \n",
      "de          ADP       case      \n",
      "nuestras    DET       det       \n",
      "promociones NOUN      nmod      \n",
      ".           PUNCT     punct     \n",
      "            SPACE               \n",
      "Correo      PROPN     ROOT      \n",
      "Contáctate  PROPN     flat      \n",
      "con         ADP       case      \n",
      "servicio    NOUN      nmod      \n",
      "al          ADP       case      \n",
      "cliente     NOUN      nmod      \n",
      ".           PUNCT     punct     \n",
      "                                       SPACE               \n",
      "Nuestros    DET       det       \n",
      "productos   NOUN      nsubj     \n",
      "y           CCONJ     cc        \n",
      "Servicios   PROPN     conj      \n",
      "            SPACE               \n",
      "Inicio      PROPN     flat      \n",
      "            SPACE               \n",
      "Conéctate   PROPN     flat      \n",
      "con         ADP       case      \n",
      "nosotros    PRON      nmod      \n",
      "            SPACE               \n",
      "Contáctenos PROPN     appos     \n",
      "            SPACE               \n",
      "305-827-0682NUM       appos     \n",
      "            SPACE               \n",
      "ventas@dentalgomez.coADJ       compound  \n",
      "             SPACE               \n",
      "Dental      PROPN     appos     \n",
      "Gomez       PROPN     appos     \n",
      "            SPACE               \n",
      "-           PUNCT     punct     \n",
      "Sobre       ADP       case      \n",
      "Nosotros    PROPN     nmod      \n",
      "            SPACE               \n",
      "Somos       AUX       cop       \n",
      "una         DET       det       \n",
      "empresa     NOUN      ROOT      \n",
      "dedicada    ADJ       amod      \n",
      "a           ADP       case      \n",
      "la          DET       det       \n",
      "comercializaciónNOUN      obj       \n",
      "de          ADP       case      \n",
      "materiales  NOUN      nmod      \n",
      ",           PUNCT     punct     \n",
      "equipos     NOUN      conj      \n",
      "e           CCONJ     cc        \n",
      "instrumentosNOUN      conj      \n",
      "odontologicosADJ       amod      \n",
      ",           PUNCT     punct     \n",
      "con         ADP       case      \n",
      "los         DET       det       \n",
      "mas         PROPN     advmod    \n",
      "altos       ADJ       amod      \n",
      "estándares  NOUN      nmod      \n",
      "de          ADP       case      \n",
      "calidad     NOUN      nmod      \n",
      "a           ADP       case      \n",
      "un          DET       det       \n",
      "buen        ADJ       amod      \n",
      "            SPACE               \n",
      "costo       ADJ       amod      \n",
      ".           PUNCT     punct     \n",
      "            SPACE               \n",
      "caracterizandonosADJ       ROOT      \n",
      "por         ADP       mark      \n",
      "ser         VERB      cop       \n",
      "un          DET       det       \n",
      "equipo      NOUN      advcl     \n",
      "con         ADP       case      \n",
      "una         DET       det       \n",
      "excelente   ADJ       amod      \n",
      "calidad     NOUN      nmod      \n",
      "humana      ADJ       amod      \n",
      ",           PUNCT     punct     \n",
      "comprometidosADJ       amod      \n",
      "con         ADP       case      \n",
      "nuestra     DET       det       \n",
      "labor       NOUN      obl       \n",
      "contando    VERB      advcl     \n",
      "con         ADP       case      \n",
      "disponibilidadNOUN      obl       \n",
      "todos       DET       det       \n",
      "los         DET       det       \n",
      "días        NOUN      obj       \n",
      ".           PUNCT     punct     \n",
      "            SPACE               \n",
      "Copyright   PROPN     ROOT      \n",
      "©           PROPN     flat      \n",
      "Dental      PROPN     flat      \n",
      "Gomez       PROPN     flat      \n",
      "                                             SPACE               \n",
      "Con         ADP       case      \n",
      "tecnología  NOUN      nmod      \n",
      "de          ADP       case      \n",
      "                        SPACE               \n",
      "-           PUNCT     punct     \n",
      "                     SPACE               \n",
      "El          DET       det       \n",
      "#           NOUN      flat      \n",
      "1           NUM       nummod    \n",
      "Comercio    PROPN     flat      \n",
      "electrónico ADJ       amod      \n",
      "de          ADP       case      \n",
      "código      NOUN      nmod      \n",
      "abierto     ADJ       amod      \n",
      "            SPACE               \n"
     ]
    }
   ],
   "source": [
    "\n",
    "for token in doc: \n",
    "    token_text = token.text\n",
    "    token_pos = token.pos_\n",
    "    token_dep = token.dep_\n",
    "    # This is for formatting only\n",
    "    print(f\"{token_text:<12}{token_pos:<10}{token_dep:<10}\")\n",
    "    "
   ]
  },
  {
   "cell_type": "code",
   "execution_count": 19,
   "metadata": {
    "scrolled": true
   },
   "outputs": [
    {
     "name": "stdout",
     "output_type": "stream",
     "text": [
      "Dental Gómez PER\n",
      "Depósito Dental                       Contact   Meet LOC\n",
      "Tienda     Soporte ORG\n",
      "Mi Carrito       Identificarse                   Nuestras MISC\n",
      "Agrega LOC\n",
      "Agrega LOC\n",
      "Indícanos MISC\n",
      "Tienda         Instrumental Distribuimos MISC\n",
      "Tienda         Equipos Contamos MISC\n",
      "Contáctanos             Compra Online MISC\n",
      "Consultorio Contamos MISC\n",
      "Instagram Mantente PER\n",
      "Correo Contáctate PER\n",
      "Servicios   Inicio     Conéctate MISC\n",
      "Sobre Nosotros  Somos MISC\n",
      "Dental Gomez                                               MISC\n"
     ]
    }
   ],
   "source": [
    "for ent in doc.ents: \n",
    "    print(ent.text, ent.label_)"
   ]
  },
  {
   "cell_type": "code",
   "execution_count": 20,
   "metadata": {},
   "outputs": [
    {
     "data": {
      "text/plain": [
       "'Companies, agencies, institutions, etc.'"
      ]
     },
     "execution_count": 20,
     "metadata": {},
     "output_type": "execute_result"
    }
   ],
   "source": [
    "spacy.explain(\"ORG\")"
   ]
  },
  {
   "cell_type": "code",
   "execution_count": null,
   "metadata": {},
   "outputs": [],
   "source": []
  },
  {
   "cell_type": "code",
   "execution_count": null,
   "metadata": {},
   "outputs": [],
   "source": []
  },
  {
   "cell_type": "markdown",
   "metadata": {},
   "source": [
    "#### Palabras Clave."
   ]
  },
  {
   "cell_type": "code",
   "execution_count": null,
   "metadata": {},
   "outputs": [],
   "source": [
    "key_words = []"
   ]
  },
  {
   "cell_type": "code",
   "execution_count": null,
   "metadata": {},
   "outputs": [],
   "source": []
  },
  {
   "cell_type": "code",
   "execution_count": null,
   "metadata": {},
   "outputs": [],
   "source": [
    "#### Homework Cristhian\n",
    "\n",
    "#### Download a photo in folders: normalWeb, deepWeb or hope\n",
    "#### Folders need to be previously created (?)\n",
    "\n",
    "filename = \"C:\\\\Users\\\\Administrador\\\\Documents\\\\Datajam\\\\normalWeb\\\\test2.jpg\"\n",
    "\n",
    "urllib.request.urlretrieve(\"https://www.adslzone.net/app/uploads/2019/04/borrar-fondo-imagen.jpg\",filename)\n",
    "\n"
   ]
  },
  {
   "cell_type": "code",
   "execution_count": 27,
   "metadata": {},
   "outputs": [
    {
     "name": "stdout",
     "output_type": "stream",
     "text": [
      "(123) 456 789\n",
      "(123) 456 789\n"
     ]
    }
   ],
   "source": [
    "\n",
    "#### Detect phone numbers spacy\n",
    "\n",
    "from spacy.matcher import Matcher\n",
    "\n",
    "nlp = spacy.load(\"en_core_web_sm\")\n",
    "\n",
    "matcher = Matcher(nlp.vocab)\n",
    "\n",
    "pattern = [{\"ORTH\": \"(\"}, {\"SHAPE\": \"ddd\"}, {\"ORTH\": \")\"}, {\"SHAPE\": \"ddd\"},\n",
    "           {\"ORTH\": \"-\", \"OP\": \"?\"}, {\"SHAPE\": \"ddd\"}]\n",
    "\n",
    "matcher.add(\"PHONE_NUMBER\", None, pattern)\n",
    "\n",
    "doc = nlp(\"Call me at (123) 456 789 or (123) 456 789!\")\n",
    "\n",
    "#print([t.text for t in doc])\n",
    "\n",
    "matches = matcher(doc)\n",
    "for match_id, start, end in matches:\n",
    "    span = doc[start:end]\n",
    "    print(span.text)"
   ]
  },
  {
   "cell_type": "code",
   "execution_count": 56,
   "metadata": {},
   "outputs": [
    {
     "name": "stdout",
     "output_type": "stream",
     "text": [
      "['319-599-3291', '1231231', '3195993291', '319 599 3291', '319 5993291', '319 599 3291', '319599 3291', '319 599 3291', '319-599-3291', '(1)319 599 3291', '(037)319599 3291', '(+1)319 599 3291', '(+57) 319-599-3291']\n"
     ]
    }
   ],
   "source": [
    "#### Detect phone numbers via regular expressions (regex)\n",
    "import re\n",
    "\n",
    "textPhones=\"319-599-3291, 123123123 , asdas , 3195993291, 319 599 3291, 319 5993291, (1)319 599 3291, (037)319599 3291,  (+1)319 599 3291,  (+57) 319-599-3291\"\n",
    "#### Pattern matchs all numbers of the form: \n",
    "#000-000-0000\n",
    "#000 000 0000\n",
    "#000.000.0000\n",
    "\n",
    "#(000)000-0000\n",
    "#(000)000 0000\n",
    "#(000)000.0000\n",
    "#(000) 000-0000\n",
    "#(000) 000 0000\n",
    "#(000) 000.0000\n",
    "\n",
    "#000-0000\n",
    "#000 0000\n",
    "#000.0000\n",
    "\n",
    "#0000000\n",
    "#0000000000\n",
    "#(000)0000000 \n",
    "\n",
    "patternPhones1 = \"(\\d{3}[-\\.\\s]??\\d{3}[-\\.\\s]??\\d{4}|\\(\\d{3}\\)\\s*\\d{3}[-\\.\\s]??\\d{4}|\\d{3}[-\\.\\s]??\\d{4})\"\n",
    "patternPhones2 = \"(\\(\\d{1}\\)\\s*\\d{3}[-\\.\\s]??\\d{3}[-\\.\\s]??\\d{4}|\\(\\d{2}\\)\\s*\\d{3}[-\\.\\s]??\\d{3}[-\\.\\s]??\\d{4}|\\(\\d{3}\\)\\s*\\d{3}[-\\.\\s]??\\d{3}[-\\.\\s]??\\d{4})\"\n",
    "patternPhones3 = \"(\\([+]\\d{1}\\)\\s*\\d{3}[-\\.\\s]??\\d{3}[-\\.\\s]??\\d{4}|\\([+]\\d{2}\\)\\s*\\d{3}[-\\.\\s]??\\d{3}[-\\.\\s]??\\d{4}|\\([+]\\d{3}\\)\\s*\\d{3}[-\\.\\s]??\\d{3}[-\\.\\s]??\\d{4})\"\n",
    "result1 = re.findall(patternPhones1, textPhones)\n",
    "result2 = re.findall(patternPhones2, textPhones)\n",
    "result3 = re.findall(patternPhones3, textPhones)\n",
    "\n",
    "print(result1+result2+result3)\n",
    "\n"
   ]
  },
  {
   "cell_type": "code",
   "execution_count": 58,
   "metadata": {},
   "outputs": [
    {
     "name": "stdout",
     "output_type": "stream",
     "text": [
      "['hola@gmail.com', 'hola@hotmail.com', 'asdasd@yahoo.es', 'caca@gonorreahp.com']\n"
     ]
    }
   ],
   "source": [
    "#### Detect emails via regular expressions\n",
    "\n",
    "textEmails = \"hola@gmail.com  hola@hotmail.com asdasd@yahoo.es caca@gonorreahp.com tod@s \"\n",
    "#_@text._\n",
    "patternEmails =\"[a-zA-Z0-9]+[a-zA-Z0-9.%\\-\\+]*@(?:[a-zA-Z0-9-]+\\.)+[a-zA-Z]{2,4}\"\n",
    "\n",
    "result = re.findall(patternEmails, textEmails) \n",
    "print(result)\n",
    " \n",
    "\n"
   ]
  },
  {
   "cell_type": "code",
   "execution_count": 63,
   "metadata": {},
   "outputs": [
    {
     "name": "stdout",
     "output_type": "stream",
     "text": [
      "['123']\n"
     ]
    }
   ],
   "source": [
    "#### Detect payment accounts via regular expressions\n",
    "\n",
    "textPayments = \"\"\n",
    "\n",
    "patternBtc1 =\"\"\n",
    "\n",
    "result = re.findall(patternBtc1, textPayments) \n",
    "print(result)"
   ]
  }
 ],
 "metadata": {
  "kernelspec": {
   "display_name": "Python 3",
   "language": "python",
   "name": "python3"
  },
  "language_info": {
   "codemirror_mode": {
    "name": "ipython",
    "version": 3
   },
   "file_extension": ".py",
   "mimetype": "text/x-python",
   "name": "python",
   "nbconvert_exporter": "python",
   "pygments_lexer": "ipython3",
   "version": "3.8.3"
  }
 },
 "nbformat": 4,
 "nbformat_minor": 2
}
