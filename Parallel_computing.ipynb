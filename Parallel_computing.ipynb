{
 "cells": [
  {
   "cell_type": "markdown",
   "metadata": {},
   "source": [
    "# Parallel Computing"
   ]
  },
  {
   "cell_type": "markdown",
   "metadata": {},
   "source": [
    "## Generalidades"
   ]
  },
  {
   "cell_type": "code",
   "execution_count": 2,
   "metadata": {},
   "outputs": [
    {
     "data": {
      "text/plain": [
       "[0, 1, 2, 3]"
      ]
     },
     "execution_count": 2,
     "metadata": {},
     "output_type": "execute_result"
    }
   ],
   "source": [
    "from IPython import parallel \n",
    "engines = parallel .Client () \n",
    "engines.block = True \n",
    "engines.ids\n"
   ]
  },
  {
   "cell_type": "code",
   "execution_count": 3,
   "metadata": {},
   "outputs": [
    {
     "data": {
      "text/plain": [
       "<AsyncResult: execute:finished>"
      ]
     },
     "execution_count": 3,
     "metadata": {},
     "output_type": "execute_result"
    }
   ],
   "source": [
    "engines[0].execute('a = 2' )\n",
    "engines[0].execute('b = 10')\n",
    "engines[0].execute('c = a + b')"
   ]
  },
  {
   "cell_type": "code",
   "execution_count": 4,
   "metadata": {},
   "outputs": [
    {
     "data": {
      "text/plain": [
       "12"
      ]
     },
     "execution_count": 4,
     "metadata": {},
     "output_type": "execute_result"
    }
   ],
   "source": [
    "engines[0].pull('c')\n"
   ]
  },
  {
   "cell_type": "code",
   "execution_count": 5,
   "metadata": {},
   "outputs": [
    {
     "data": {
      "text/plain": [
       "<AsyncResult: execute:finished>"
      ]
     },
     "execution_count": 5,
     "metadata": {},
     "output_type": "execute_result"
    }
   ],
   "source": [
    "engines[0].execute('a = 2') \n",
    "engines[0].execute('b = 10') \n",
    "engines[1].execute('a = 9' ) \n",
    "engines[1].execute('b = 7' ) \n",
    "engines[0:2].execute('c = a + b')"
   ]
  },
  {
   "cell_type": "code",
   "execution_count": 6,
   "metadata": {},
   "outputs": [
    {
     "data": {
      "text/plain": [
       "[12, 16]"
      ]
     },
     "execution_count": 6,
     "metadata": {},
     "output_type": "execute_result"
    }
   ],
   "source": [
    "engines[0:2].pull('c')"
   ]
  },
  {
   "cell_type": "markdown",
   "metadata": {},
   "source": [
    "## 150 millones de dígitos de pi"
   ]
  },
  {
   "cell_type": "code",
   "execution_count": 7,
   "metadata": {},
   "outputs": [
    {
     "data": {
      "text/latex": [
       "$\\displaystyle 3.141592653589793238462643383279502884197$"
      ],
      "text/plain": [
       "3.141592653589793238462643383279502884197"
      ]
     },
     "execution_count": 7,
     "metadata": {},
     "output_type": "execute_result"
    }
   ],
   "source": [
    "import matplotlib.pyplot as plt\n",
    "import sympy\n",
    "import numpy as np\n",
    "\n",
    "pi = sympy.pi.evalf(40)\n",
    "pi"
   ]
  },
  {
   "cell_type": "markdown",
   "metadata": {},
   "source": [
    "### Metodos utiles"
   ]
  },
  {
   "cell_type": "code",
   "execution_count": 8,
   "metadata": {},
   "outputs": [],
   "source": [
    "# https://github.com/jupyter-attic/ipython-py3k/blob/master/docs/examples/newparallel/pidigits.py\n",
    "\n",
    "def fetch_pi_file(filename):\n",
    "    \"\"\"This will download a segment of pi from super-computing.org\n",
    "    if the file is not already present.\n",
    "    \"\"\"\n",
    "    import os, urllib.request, urllib.parse, urllib.error\n",
    "    ftpdir=\"ftp://pi.super-computing.org/.2/pi200m/\"\n",
    "    if os.path.exists(filename):\n",
    "        # we already have it\n",
    "        return\n",
    "    else:\n",
    "        # download it\n",
    "        urllib.request.urlretrieve(ftpdir+filename,filename)\n",
    "\n",
    "def compute_one_digit_freqs(filename):\n",
    "    \"\"\"\n",
    "    Read digits of pi from a file and compute the 1 digit frequencies.\n",
    "    \"\"\"\n",
    "    d = txt_file_to_digits(filename)\n",
    "    freqs = one_digit_freqs(d)\n",
    "    return freqs\n",
    "\n",
    "def compute_two_digit_freqs(filename):\n",
    "    \"\"\"\n",
    "    Read digits of pi from a file and compute the 2 digit frequencies.\n",
    "    \"\"\"\n",
    "    d = txt_file_to_digits(filename)\n",
    "    freqs = two_digit_freqs(d)\n",
    "    return freqs\n",
    "\n",
    "def reduce_freqs(freqlist):\n",
    "    \"\"\"\n",
    "    Add up a list of freq counts to get the total counts.\n",
    "    \"\"\"\n",
    "    allfreqs = np.zeros_like(freqlist[0])\n",
    "    for f in freqlist:\n",
    "        allfreqs += f\n",
    "    return allfreqs\n",
    "\n",
    "def compute_n_digit_freqs(filename, n):\n",
    "    \"\"\"\n",
    "    Read digits of pi from a file and compute the n digit frequencies.\n",
    "    \"\"\"\n",
    "    d = txt_file_to_digits(filename)\n",
    "    freqs = n_digit_freqs(d, n)\n",
    "    return freqs\n",
    "\n",
    "# Read digits from a txt file\n",
    "    \n",
    "def txt_file_to_digits(filename, the_type=str):\n",
    "    \"\"\"\n",
    "    Yield the digits of pi read from a .txt file.\n",
    "    \"\"\"\n",
    "    with open(filename, 'r') as f:\n",
    "        for line in f.readlines():\n",
    "            for c in line:\n",
    "                if c != '\\n' and c!= ' ':\n",
    "                    yield the_type(c)\n",
    "\n",
    "# Actual counting functions                    \n",
    "\n",
    "def one_digit_freqs(digits, normalize=False):\n",
    "    \"\"\"\n",
    "    Consume digits of pi and compute 1 digit freq. counts.\n",
    "    \"\"\"\n",
    "    freqs = np.zeros(10, dtype='i4')\n",
    "    for d in digits:\n",
    "        freqs[int(d)] += 1\n",
    "    if normalize:\n",
    "        freqs = freqs/freqs.sum()\n",
    "    return freqs\n",
    "    \n",
    "def two_digit_freqs(digits, normalize=False):\n",
    "    \"\"\"\n",
    "    Consume digits of pi and compute 2 digits freq. counts.\n",
    "    \"\"\"\n",
    "    freqs = np.zeros(100, dtype='i4')\n",
    "    last = next(digits)\n",
    "    this = next(digits)\n",
    "    for d in digits:\n",
    "        index = int(last + this)\n",
    "        freqs[index] += 1\n",
    "        last = this\n",
    "        this = d\n",
    "    if normalize:\n",
    "        freqs = freqs/freqs.sum()\n",
    "    return freqs\n",
    "\n",
    "def n_digit_freqs(digits, n, normalize=False):\n",
    "    \"\"\"\n",
    "    Consume digits of pi and compute n digits freq. counts.\n",
    "    This should only be used for 1-6 digits.\n",
    "    \"\"\"\n",
    "    freqs = np.zeros(pow(10,n), dtype='i4')\n",
    "    current = np.zeros(n, dtype=int)\n",
    "    for i in range(n):\n",
    "        current[i] = next(digits)\n",
    "    for d in digits:\n",
    "        index = int(''.join(map(str, current)))\n",
    "        freqs[index] += 1\n",
    "        current[0:-1] = current[1:]\n",
    "        current[-1] = d\n",
    "    if normalize:\n",
    "        freqs = freqs/freqs.sum()\n",
    "    return freqs\n",
    "\n",
    "# Plotting functions\n",
    "\n",
    "def plot_two_digit_freqs(f2):\n",
    "    \"\"\"\n",
    "    Plot two digits frequency counts using matplotlib.\n",
    "    \"\"\"\n",
    "    f2_copy = f2.copy()\n",
    "    f2_copy.shape = (10,10)\n",
    "    ax = plt.matshow(f2_copy)\n",
    "    plt.colorbar()\n",
    "    for i in range(10):\n",
    "        for j in range(10):\n",
    "            plt.text(i-0.2, j+0.2, str(j)+str(i))\n",
    "    plt.ylabel('First digit')\n",
    "    plt.xlabel('Second digit')\n",
    "    return ax\n",
    "\n",
    "def plot_one_digit_freqs(f1):\n",
    "    \"\"\"\n",
    "    Plot one digit frequency counts using matplotlib.\n",
    "    \"\"\"\n",
    "    ax = plt.plot(f1,'bo-')\n",
    "    plt.title('Single digit counts in pi')\n",
    "    plt.xlabel('Digit')\n",
    "    plt.ylabel('Count')\n",
    "    return ax\n"
   ]
  },
  {
   "cell_type": "code",
   "execution_count": 9,
   "metadata": {},
   "outputs": [
    {
     "data": {
      "text/plain": [
       "[<matplotlib.lines.Line2D at 0x1d4cff06a88>]"
      ]
     },
     "execution_count": 9,
     "metadata": {},
     "output_type": "execute_result"
    },
    {
     "data": {
      "image/png": "[encoded data removed]",
      "text/plain": [
       "<Figure size 432x288 with 1 Axes>"
      ]
     },
     "metadata": {
      "needs_background": "light"
     },
     "output_type": "display_data"
    }
   ],
   "source": [
    "pi = sympy.pi.evalf(10000)\n",
    "digits = (d for d in str(pi)[2:])  # create a sequence of digits\n",
    "freqs = one_digit_freqs(digits)\n",
    "plot_one_digit_freqs(freqs)"
   ]
  },
  {
   "cell_type": "code",
   "execution_count": null,
   "metadata": {},
   "outputs": [],
   "source": [
    "from IPython.parallel import Client\n",
    "\n",
    "# The Client allows us to use the engines interactively.\n",
    "# We simply pass Client the name of the cluster profile we\n",
    "# are using.\n",
    "In [2]: c = Client(profile='mycluster')\n",
    "In [3]: v = c[:]\n",
    "\n",
    "In [3]: c.ids\n",
    "In [5]: filestring = 'pi200m.ascii.%(i)02dof20'\n",
    "\n",
    "# Create the list of files to process.\n",
    "In [6]: files = [filestring % {'i':i} for i in range(1,16)]\n",
    "\n",
    "\n",
    "# download the data files if they don't already exist:\n",
    "In [8]: v.map(fetch_pi_file, files)\n",
    "\n",
    "# This is the parallel calculation using the Client.map method\n",
    "# which applies compute_two_digit_freqs to each file in files in parallel.\n",
    "In [9]: freqs_all = v.map(compute_two_digit_freqs, files)\n",
    "\n",
    "# Add up the frequencies from each engine.\n",
    "In [10]: freqs = reduce_freqs(freqs_all)\n",
    "\n",
    "In [11]: plot_two_digit_freqs(freqs)\n",
    "\n",
    "In [12]: plt.title('2 digit counts of 150m digits of pi')"
   ]
  },
  {
   "cell_type": "markdown",
   "metadata": {},
   "source": [
    "<img src=\"http://ipython.org/ipython-doc/dev/_images/two_digit_counts.png\">"
   ]
  },
  {
   "cell_type": "code",
   "execution_count": null,
   "metadata": {},
   "outputs": [],
   "source": []
  }
 ],
 "metadata": {
  "kernelspec": {
   "display_name": "Python 3",
   "language": "python",
   "name": "python3"
  },
  "language_info": {
   "codemirror_mode": {
    "name": "ipython",
    "version": 3
   },
   "file_extension": ".py",
   "mimetype": "text/x-python",
   "name": "python",
   "nbconvert_exporter": "python",
   "pygments_lexer": "ipython3",
   "version": "3.7.6"
  }
 },
 "nbformat": 4,
 "nbformat_minor": 4
}
